{
 "cells": [
  {
   "cell_type": "raw",
   "id": "883b7ac1",
   "metadata": {},
   "source": [
    "---\n",
    "title : \"00. 그리디 알고리즘\"\n",
    "author : \"GC\"\n",
    "date : \"08/24/23\"\n",
    "categories : [python, 그리디]\n",
    "---"
   ]
  },
  {
   "cell_type": "markdown",
   "id": "a9d45ca3",
   "metadata": {},
   "source": [
    "# 그리디 알고리즘"
   ]
  },
  {
   "cell_type": "markdown",
   "id": "ecb208d2",
   "metadata": {},
   "source": [
    "`-`  현재 상황에서 지금 당장 좋은 것만 고르는 알고리즘"
   ]
  },
  {
   "cell_type": "markdown",
   "id": "2457f7a3",
   "metadata": {},
   "source": [
    "## 예제 1. 거스름돈"
   ]
  },
  {
   "cell_type": "markdown",
   "id": "eb45010f",
   "metadata": {},
   "source": [
    "`-` 다음과 같이 거스름돈으로 사용할 리스트가 있고, 거슬러줘야 할 돈(N)이 `1,260`원 이라고 하자."
   ]
  },
  {
   "cell_type": "code",
   "execution_count": 4,
   "id": "0be4d751",
   "metadata": {
    "tags": []
   },
   "outputs": [],
   "source": [
    "N = 1260\n",
    "lst=  [500,100,50,10]"
   ]
  },
  {
   "cell_type": "markdown",
   "id": "c2feba87-0a11-4555-a8b9-bdbd6573ee78",
   "metadata": {},
   "source": [
    "`-` 해당 문제에서 우리는 최소한의 동전 개수로 돈을 거슬러줘야한다."
   ]
  },
  {
   "cell_type": "markdown",
   "id": "de87447b-a0e5-4d79-ac1b-4c898a20f9d0",
   "metadata": {},
   "source": [
    "* 그리디 알고리즘을 이용해 풀 수 있는 대표적인 문제는 바로 이러한 문제이며, 해결법은 `가장 큰 화폐 단위부터` 돈을 거슬러 주는 것이다."
   ]
  },
  {
   "cell_type": "markdown",
   "id": "fe415ae3-593b-45b4-8230-936d9095c291",
   "metadata": {},
   "source": [
    "1. 처음에 500원짜리 2개\n",
    "\n",
    "2. 그 다음, 100원 짜리 2개\n",
    "\n",
    "3. 50원짜리 1개, 10원짜리 1개\n",
    "\n",
    "4. 최소 6개의 동전을 이용한다!"
   ]
  },
  {
   "cell_type": "markdown",
   "id": "e9d1f52f-2f3e-4bec-9876-f9365b02f4f5",
   "metadata": {},
   "source": [
    "### 풀이"
   ]
  },
  {
   "cell_type": "code",
   "execution_count": 10,
   "id": "07791c6c-5d2e-48f3-b21d-f0e1e2266247",
   "metadata": {
    "tags": []
   },
   "outputs": [
    {
     "name": "stdout",
     "output_type": "stream",
     "text": [
      "6\n"
     ]
    }
   ],
   "source": [
    "N = 1260\n",
    "lst=  [500,100,50,10]\n",
    "\n",
    "count = 0 ## 동전 개수 저장\n",
    "\n",
    "for i in lst :\n",
    "    count += N // i\n",
    "    N %= i\n",
    "\n",
    "print(count)"
   ]
  },
  {
   "cell_type": "markdown",
   "id": "6cdaf127-fdc6-46ed-bc8c-9b8590d2499c",
   "metadata": {},
   "source": [
    "***"
   ]
  },
  {
   "cell_type": "markdown",
   "id": "0ed556db-2d24-4ef0-9de6-e52b6bd78179",
   "metadata": {},
   "source": [
    "##  예제 2. 큰 수의 법칙"
   ]
  },
  {
   "cell_type": "markdown",
   "id": "9664af67-cd6d-46da-b097-ed6b1c77d77d",
   "metadata": {},
   "source": [
    "`-` 큰 수의 법칙은 다양한 수로 이루어진 배열이 있을 때 주어진 수들을 `M`번 더하여 가장 큰 수를 만드는 법칙이다.\n",
    "\n",
    "* 규칙 1 : 단, 배열의 특정한 인덱스에 해당하는 수가 연속해서 `K`번 초과하여 더해질 수 없다.\n",
    "\n",
    "* 규칙 2 : 그러나 서로 다른 인덱스의 같은 수가 있다면, 같은 수를  번갈하서 `K`번 더할 수 있다.\n",
    "\n",
    "* 규칙 3 : `K`는 항상 `M`보다 작거나 같다"
   ]
  },
  {
   "cell_type": "markdown",
   "id": "3ef902a6-54d3-4a1c-a4a0-e8aab8527a7d",
   "metadata": {},
   "source": [
    "`-` 변수 소개"
   ]
  },
  {
   "cell_type": "markdown",
   "id": "90c5e8aa-cce5-4294-8ea1-65ad73e9ef9d",
   "metadata": {},
   "source": [
    "* N : 입력 받을 배열의 자연수 개수\n",
    "\n",
    "* M : 주어진 `N`개의 수에서 `M`번 더할 수 있음.\n",
    "\n",
    "* K : 해당 인덱스에서 연속해서 꺼낼 수 있는 수"
   ]
  },
  {
   "cell_type": "markdown",
   "id": "9a9c2783-abc6-42c2-a39d-b9ce83224037",
   "metadata": {},
   "source": [
    "`-` 입력 예시"
   ]
  },
  {
   "cell_type": "code",
   "execution_count": 12,
   "id": "e7708a5a-ddbe-435f-b039-f5e8d2a24591",
   "metadata": {
    "tags": []
   },
   "outputs": [],
   "source": [
    "N,M,K = 5,8,3\n",
    "arr = [2,4,5,4,6]"
   ]
  },
  {
   "cell_type": "markdown",
   "id": "bd04e03f-73b3-4c0e-8cc0-6527592bfb8d",
   "metadata": {},
   "source": [
    "* 위와 같은 배열이 주어지면 $\\to$ `6 + 6 + 6 + 5 +  6  + 6 + 6 + 5 = 46`"
   ]
  },
  {
   "cell_type": "markdown",
   "id": "ef7297fb-c530-4e4b-b4fe-7ad41224d682",
   "metadata": {},
   "source": [
    "### 풀이"
   ]
  },
  {
   "cell_type": "markdown",
   "id": "1dc88ed7-137d-4e9d-a2ca-e9cef6c830b3",
   "metadata": {},
   "source": [
    "`-` 가장 큰 수와 두 번째로 큰 수를 알고 있다면,  두 수를 번갈아서 더해 `M`번을 채우면 된다!!"
   ]
  },
  {
   "cell_type": "markdown",
   "id": "a4fa5a95-7fe1-4b32-9501-8c171e553b5d",
   "metadata": {},
   "source": [
    "`1` 데이터 입력 받기"
   ]
  },
  {
   "cell_type": "code",
   "execution_count": 64,
   "id": "0149b316-2713-426e-8efc-a800789142ad",
   "metadata": {
    "tags": []
   },
   "outputs": [
    {
     "name": "stdin",
     "output_type": "stream",
     "text": [
      " 5 8 3\n",
      " 2 4 5 4 6\n"
     ]
    }
   ],
   "source": [
    "n,m,k  = map(int, input().split())\n",
    "data = list(map(int,input().split()))"
   ]
  },
  {
   "cell_type": "markdown",
   "id": "d079eebc-33bf-4508-9cb4-c4972a39d501",
   "metadata": {
    "tags": []
   },
   "source": [
    "`2` 입력받은  수들을 정렬"
   ]
  },
  {
   "cell_type": "code",
   "execution_count": 65,
   "id": "dda6d81d-420e-45e6-adc4-5733eee2b0be",
   "metadata": {
    "tags": []
   },
   "outputs": [],
   "source": [
    "data.sort()"
   ]
  },
  {
   "cell_type": "code",
   "execution_count": 66,
   "id": "ed3fa6b6-f5c6-428d-8708-092a4f0fc3f7",
   "metadata": {
    "tags": []
   },
   "outputs": [
    {
     "data": {
      "text/plain": [
       "[2, 4, 4, 5, 6]"
      ]
     },
     "execution_count": 66,
     "metadata": {},
     "output_type": "execute_result"
    }
   ],
   "source": [
    "data"
   ]
  },
  {
   "cell_type": "markdown",
   "id": "9063b8a1-0cc0-48b7-b7a0-98a2041aa7f2",
   "metadata": {},
   "source": [
    "`3` 가장 큰 수와 두번째로 큰 수를 저장"
   ]
  },
  {
   "cell_type": "code",
   "execution_count": 67,
   "id": "33549fe8-7dff-4b5a-b7d3-af7c95f59dc2",
   "metadata": {
    "tags": []
   },
   "outputs": [],
   "source": [
    "first = data[n-1]\n",
    "second = data[n-2]"
   ]
  },
  {
   "cell_type": "code",
   "execution_count": 68,
   "id": "794e2b9e-c7b8-47a7-a592-d39fa0369061",
   "metadata": {
    "tags": []
   },
   "outputs": [
    {
     "name": "stdout",
     "output_type": "stream",
     "text": [
      "6 5\n"
     ]
    }
   ],
   "source": [
    "print(first,second)"
   ]
  },
  {
   "cell_type": "markdown",
   "id": "c584cf88-6686-4515-a576-a219a7e33dcc",
   "metadata": {},
   "source": [
    "`4` 가장 큰 수가 더해지는 횟수 계산"
   ]
  },
  {
   "cell_type": "markdown",
   "id": "10419f43-d42e-41e8-8c69-cc12a5438134",
   "metadata": {},
   "source": [
    "* 여기에서는 k가 3이므로 그리디 배열은  `[6,6,6,5]`이다. 따라서 전체 m을 (k+1)로 나누면 해당 배열이 그리디 배열을 반복하는 숫자이다.\n",
    "\n",
    "* 그러나 M이 (k+1)로 나누어 떨어지지 않는 경우도 고려해야한다. 그럴 때는 M을 (k+1)로 나눈 나머지만큼 가장 큰 수가 추가도 더해지므로 이를 고려한다."
   ]
  },
  {
   "cell_type": "code",
   "execution_count": 71,
   "id": "0328b0a8-aadc-4f7d-a359-933549b8feed",
   "metadata": {
    "tags": []
   },
   "outputs": [
    {
     "data": {
      "text/plain": [
       "(5, 8, 3)"
      ]
     },
     "execution_count": 71,
     "metadata": {},
     "output_type": "execute_result"
    }
   ],
   "source": [
    "n,m,k"
   ]
  },
  {
   "cell_type": "code",
   "execution_count": 69,
   "id": "79eba429-770e-4fb9-a43f-31ca154d19f3",
   "metadata": {
    "tags": []
   },
   "outputs": [],
   "source": [
    "count = int(m/(k+1))*k\n",
    "count += m%(k+1)"
   ]
  },
  {
   "cell_type": "code",
   "execution_count": 70,
   "id": "bc9d2f22-8c1e-48a2-9a02-0ba155801a26",
   "metadata": {
    "tags": []
   },
   "outputs": [
    {
     "data": {
      "text/plain": [
       "6"
      ]
     },
     "execution_count": 70,
     "metadata": {},
     "output_type": "execute_result"
    }
   ],
   "source": [
    "count"
   ]
  },
  {
   "cell_type": "markdown",
   "id": "becbf71a-a15c-4c70-b094-34e645b63b4f",
   "metadata": {},
   "source": [
    "`5` 위를 활용하여 가장 큰 수가 더해지는 횟수와 두 번째로 큰 수가 더해지는 횟수까지 구할 수 있다. "
   ]
  },
  {
   "cell_type": "code",
   "execution_count": 72,
   "id": "7404e176-4109-46e9-9dfd-5c20c4b2447e",
   "metadata": {
    "tags": []
   },
   "outputs": [
    {
     "data": {
      "text/plain": [
       "36"
      ]
     },
     "execution_count": 72,
     "metadata": {},
     "output_type": "execute_result"
    }
   ],
   "source": [
    "result = 0\n",
    "result += (count)*first # 가장 큰 수 더하기\n",
    "result"
   ]
  },
  {
   "cell_type": "code",
   "execution_count": 73,
   "id": "f1e55ce4-9fe2-40ee-a0f5-e2099cf57953",
   "metadata": {
    "tags": []
   },
   "outputs": [],
   "source": [
    "result += (m-count)*second "
   ]
  },
  {
   "cell_type": "code",
   "execution_count": 74,
   "id": "91f7c7ec-d39f-4de3-9bac-0e3e91a07b29",
   "metadata": {
    "tags": []
   },
   "outputs": [
    {
     "name": "stdout",
     "output_type": "stream",
     "text": [
      "46\n"
     ]
    }
   ],
   "source": [
    "print(result)"
   ]
  },
  {
   "cell_type": "markdown",
   "id": "6f77af69-af81-487e-9da7-b329f253fa04",
   "metadata": {},
   "source": [
    "### 코드 정리"
   ]
  },
  {
   "cell_type": "code",
   "execution_count": 75,
   "id": "d2693cd4-cf01-4d96-a786-6a84b011b328",
   "metadata": {
    "tags": []
   },
   "outputs": [
    {
     "name": "stdin",
     "output_type": "stream",
     "text": [
      " 5 8 3\n",
      " 2 4 5 4 6\n"
     ]
    },
    {
     "name": "stdout",
     "output_type": "stream",
     "text": [
      "46\n"
     ]
    }
   ],
   "source": [
    "n,m,k  = map(int, input().split())\n",
    "data = list(map(int,input().split()))\n",
    "\n",
    "data.sort()\n",
    "\n",
    "\n",
    "first = data[n-1]\n",
    "second = data[n-2]\n",
    "\n",
    "count = int(m/(k+1))*k\n",
    "count += m%(k+1)\n",
    "\n",
    "\n",
    "result = 0\n",
    "result += (count)*first # 가장 큰 수 더하기\n",
    "\n",
    "result += (m-count)*second \n",
    "\n",
    "print(result)"
   ]
  },
  {
   "cell_type": "markdown",
   "id": "d085cd2d-5529-47f8-832b-959adc258385",
   "metadata": {},
   "source": [
    "## 예제 3. 숫자 카드게임"
   ]
  },
  {
   "cell_type": "markdown",
   "id": "63fee14e-1ddf-4400-a726-bf8a223cebee",
   "metadata": {},
   "source": [
    "`-` 여러 개의 숫자 카드 중에서 가장 높은 숫자가 쓰인 카드 한 장을 뽑는 게임"
   ]
  },
  {
   "cell_type": "markdown",
   "id": "bf4fb26e-1fd1-4dcd-ab82-d4d1adf7f12d",
   "metadata": {},
   "source": [
    "1. 숫자가 쓰인 카드들이 `$N \\times M$` 형태로 놓여 있다.\n",
    "\n",
    "2. 먼저 뽑고자 하는 카드가 포함되어 있는 행을 선택한다.\n",
    "\n",
    "3. 그다음 선택된 행에 포함된 카드들 중 가장 숫자가 낮은 카드를 뽑아야한다.\n",
    "\n",
    "4. 따라서 처음에 카드를 골라낼 행을 선택할 때, 이후에 해당 행에서 가장 숫자가 낮은 카드를 뽑을 것을 고려하여 최종적으로 가장 높은 숫자의 카드를 뽑을 수 있도록 전략을 짜야함"
   ]
  },
  {
   "cell_type": "markdown",
   "id": "6129698d-44b1-4dee-aa1b-3ecdac042160",
   "metadata": {},
   "source": [
    "`-` 문제 해결 방법 :  각 행마다 가장 작은 수를 찾은 뒤에 그 수 중에서 가장 큰 수를 찾는 것!"
   ]
  },
  {
   "cell_type": "markdown",
   "id": "2254b77f-6de4-43ba-a548-6f0698748080",
   "metadata": {},
   "source": [
    "### 풀이"
   ]
  },
  {
   "cell_type": "code",
   "execution_count": 76,
   "id": "c8261352-db86-4951-aa78-cb117f95a8b1",
   "metadata": {
    "tags": []
   },
   "outputs": [
    {
     "name": "stdin",
     "output_type": "stream",
     "text": [
      " 3 3\n",
      " 3 1 2\n",
      " 4 1 4\n",
      " 2 2 2\n"
     ]
    },
    {
     "name": "stdout",
     "output_type": "stream",
     "text": [
      "2\n"
     ]
    }
   ],
   "source": [
    "n, m = map(int,input().split())\n",
    "\n",
    "result = 0\n",
    "\n",
    "for i in range(n) :\n",
    "    data = list(map(int, input().split())) ## 한 줄씩 배열 입력 받기\n",
    "    min_value = min(data)\n",
    "    result = max(result,min_value) ## 가장 작은 수들 중에서 가장 큰 수 찾기\n",
    "\n",
    "print(result)"
   ]
  },
  {
   "cell_type": "markdown",
   "id": "1cd7e0e6-17f0-48c5-a5b8-c3a3188b0414",
   "metadata": {},
   "source": [
    "***"
   ]
  },
  {
   "cell_type": "markdown",
   "id": "00a47b91-8863-4f8e-8111-e48afdcbcbd4",
   "metadata": {},
   "source": [
    "## 예제 4. 1이 될 때까지 ($\\star\\star$)"
   ]
  },
  {
   "cell_type": "markdown",
   "id": "9e314ba3-89bc-4363-a531-98418920dabf",
   "metadata": {},
   "source": [
    "어떤 수 N이 1이 될 때까지 다음의 두 과정 중 하나를 반복적으로 선택하여 수행한다."
   ]
  },
  {
   "cell_type": "markdown",
   "id": "a393949c-45b9-4cf4-a6c9-af6f90d84563",
   "metadata": {},
   "source": [
    "1. N에서 1을 뺀다.\n",
    "\n",
    "2. N을 K로 나눈다."
   ]
  },
  {
   "cell_type": "markdown",
   "id": "96a50d05-e121-4a9a-87d6-6cf19323561c",
   "metadata": {
    "tags": []
   },
   "source": [
    "만약 N이 17, K가 4라고 가정하자. 이때 1번의 과정을 한 번 수행하면 N은 16이 된다."
   ]
  },
  {
   "cell_type": "markdown",
   "id": "e1965128-c338-499a-a42f-93273d2a150a",
   "metadata": {
    "tags": []
   },
   "source": [
    "이후에 2번의 과정을 두 번 수행하면 N은 1이 되며 이는 N을 1로 만드는 최소 횟수이다."
   ]
  },
  {
   "cell_type": "markdown",
   "id": "eeb6aa5c-cde6-42bf-a340-c1bdf1f50a2c",
   "metadata": {},
   "source": [
    "`-` 인사이트 : 해당 문제의 해법은 최대한 나누기를 많이 하는 것이다!"
   ]
  },
  {
   "cell_type": "markdown",
   "id": "0b25cb4f-f675-40e5-ae0d-d4673c44fbe2",
   "metadata": {},
   "source": [
    "1. N이 K의 배수가 될 때까지 1을 빼기\n",
    "\n",
    "2. N을 K로 나누기 "
   ]
  },
  {
   "cell_type": "markdown",
   "id": "5174d98f-55e6-48a3-9a1a-5300272de6d1",
   "metadata": {},
   "source": [
    "### 풀이"
   ]
  },
  {
   "cell_type": "markdown",
   "id": "a9f16b52-6771-45e2-96d6-c5b0e2a2685a",
   "metadata": {},
   "source": [
    "`-` 접근 : 루프를 통해 계속해서 n을 k의 배수로 만들어준다."
   ]
  },
  {
   "cell_type": "code",
   "execution_count": 109,
   "id": "b16d4d5b-2803-46f4-ad1b-ce57cefa730f",
   "metadata": {
    "tags": []
   },
   "outputs": [
    {
     "name": "stdin",
     "output_type": "stream",
     "text": [
      " 17 4\n"
     ]
    },
    {
     "name": "stdout",
     "output_type": "stream",
     "text": [
      "n : 17\n",
      "\n",
      "빼기 연산 수행\n",
      "target : 16\n",
      "result : 1\n",
      "\n",
      "나누기 연산 수행\n",
      "n : 4\n",
      "result : 2\n",
      "\n",
      "빼기 연산 수행\n",
      "target : 4\n",
      "result : 2\n",
      "\n",
      "나누기 연산 수행\n",
      "n : 1\n",
      "result : 3\n",
      "\n",
      "빼기 연산 수행\n",
      "target : 0\n",
      "result : 4\n",
      "\n",
      " n: 0\n",
      "\n",
      " result: 3\n"
     ]
    }
   ],
   "source": [
    "n, k = map(int,input().split())\n",
    "\n",
    "result = 0\n",
    "print(f\"n : {n}\")\n",
    "while True :\n",
    "    print(\"\\n빼기 연산 수행\")\n",
    "    target = (n//k) *k ## n을 k로 나눈 몫을 담기\n",
    "    print(f\"target : {target}\")\n",
    "    result += (n-target) ## 만약 n=17이고 k가 4라면 result에는 1이 저장\n",
    "    print(f\"result : {result}\")\n",
    "    n = target ## n을 target으로 바꿔줌, 즉 n을 k의 배수로 변경\n",
    "    \n",
    "    if n < k : \n",
    "        break\n",
    "    n //= k # n을 k로 나누기\n",
    "    result += 1 ## 나눈 횟수 저장\n",
    "    print(\"\\n나누기 연산 수행\")\n",
    "    print(f\"n : {n}\")\n",
    "    print(f\"result : {result}\")\n",
    "   \n",
    "print(f\"\\n n: {n}\")\n",
    "result += (n-1)\n",
    "print(f\"\\n result: {result}\")"
   ]
  }
 ],
 "metadata": {
  "kernelspec": {
   "display_name": "Python 3 (ipykernel)",
   "language": "python",
   "name": "python3"
  },
  "language_info": {
   "codemirror_mode": {
    "name": "ipython",
    "version": 3
   },
   "file_extension": ".py",
   "mimetype": "text/x-python",
   "name": "python",
   "nbconvert_exporter": "python",
   "pygments_lexer": "ipython3",
   "version": "3.11.4"
  },
  "toc": {
   "base_numbering": 1,
   "nav_menu": {},
   "number_sections": false,
   "sideBar": true,
   "skip_h1_title": false,
   "title_cell": "Table of Contents",
   "title_sidebar": "Contents",
   "toc_cell": false,
   "toc_position": {
    "height": "calc(100% - 180px)",
    "left": "10px",
    "top": "150px",
    "width": "331.667px"
   },
   "toc_section_display": true,
   "toc_window_display": true
  }
 },
 "nbformat": 4,
 "nbformat_minor": 5
}
