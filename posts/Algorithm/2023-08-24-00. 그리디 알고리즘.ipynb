{
 "cells": [
  {
   "cell_type": "raw",
   "id": "883b7ac1",
   "metadata": {},
   "source": [
    "---\n",
    "title : \"00. 그리디 알고리즘\"\n",
    "author : \"GC\"\n",
    "date : \"08/24/23\"\n",
    "categories : [python, 그리디]\n",
    "---"
   ]
  },
  {
   "cell_type": "markdown",
   "id": "a9d45ca3",
   "metadata": {},
   "source": [
    "# 그리디 알고리즘"
   ]
  },
  {
   "cell_type": "markdown",
   "id": "ecb208d2",
   "metadata": {},
   "source": [
    "`-`  현재 상황에서 지금 당장 좋은 것만 고르는 알고리즘"
   ]
  },
  {
   "cell_type": "markdown",
   "id": "2457f7a3",
   "metadata": {},
   "source": [
    "## 예제 1. 거스름돈"
   ]
  },
  {
   "cell_type": "markdown",
   "id": "eb45010f",
   "metadata": {},
   "source": [
    "`-` 다음과 같이 거스름돈으로 사용할 리스트가 있고, 거슬러줘야 할 돈(N)이 `1,260`원 이라고 하자."
   ]
  },
  {
   "cell_type": "code",
   "execution_count": 4,
   "id": "0be4d751",
   "metadata": {
    "tags": []
   },
   "outputs": [],
   "source": [
    "N = 1260\n",
    "lst=  [500,100,50,10]"
   ]
  },
  {
   "cell_type": "markdown",
   "id": "c2feba87-0a11-4555-a8b9-bdbd6573ee78",
   "metadata": {},
   "source": [
    "`-` 해당 문제에서 우리는 최소한의 동전 개수로 돈을 거슬러줘야한다."
   ]
  },
  {
   "cell_type": "markdown",
   "id": "de87447b-a0e5-4d79-ac1b-4c898a20f9d0",
   "metadata": {},
   "source": [
    "* 그리디 알고리즘을 이용해 풀 수 있는 대표적인 문제는 바로 이러한 문제이며, 해결법은 `가장 큰 화폐 단위부터` 돈을 거슬러 주는 것이다."
   ]
  },
  {
   "cell_type": "markdown",
   "id": "fe415ae3-593b-45b4-8230-936d9095c291",
   "metadata": {},
   "source": [
    "1. 처음에 500원짜리 2개\n",
    "\n",
    "2. 그 다음, 100원 짜리 2개\n",
    "\n",
    "3. 50원짜리 1개, 10원짜리 1개\n",
    "\n",
    "4. 최소 6개의 동전을 이용한다!"
   ]
  },
  {
   "cell_type": "markdown",
   "id": "e9d1f52f-2f3e-4bec-9876-f9365b02f4f5",
   "metadata": {},
   "source": [
    "### 풀이"
   ]
  },
  {
   "cell_type": "code",
   "execution_count": 1,
   "id": "07791c6c-5d2e-48f3-b21d-f0e1e2266247",
   "metadata": {
    "tags": []
   },
   "outputs": [
    {
     "name": "stdout",
     "output_type": "stream",
     "text": [
      "6\n"
     ]
    }
   ],
   "source": [
    "N = 1260\n",
    "lst=  [500, 100, 50, 10]\n",
    "\n",
    "count = 0 ## 동전 개수 저장\n",
    "\n",
    "for i in lst :\n",
    "    count += N // i\n",
    "    N %= i\n",
    "\n",
    "print(count)"
   ]
  },
  {
   "cell_type": "markdown",
   "id": "6cdaf127-fdc6-46ed-bc8c-9b8590d2499c",
   "metadata": {},
   "source": [
    "***"
   ]
  },
  {
   "cell_type": "markdown",
   "id": "0ed556db-2d24-4ef0-9de6-e52b6bd78179",
   "metadata": {},
   "source": [
    "##  예제 2. 큰 수의 법칙"
   ]
  },
  {
   "cell_type": "markdown",
   "id": "9664af67-cd6d-46da-b097-ed6b1c77d77d",
   "metadata": {},
   "source": [
    "`-` 큰 수의 법칙은 다양한 수로 이루어진 배열이 있을 때 주어진 수들을 `M`번 더하여 가장 큰 수를 만드는 법칙이다.\n",
    "\n",
    "* 규칙 1 : 단, 배열의 특정한 인덱스에 해당하는 수가 연속해서 `K`번 초과하여 더해질 수 없다.\n",
    "\n",
    "* 규칙 2 : 그러나 서로 다른 인덱스의 같은 수가 있다면, 같은 수를  번갈하서 `K`번 더할 수 있다.\n",
    "\n",
    "* 규칙 3 : `K`는 항상 `M`보다 작거나 같다"
   ]
  },
  {
   "cell_type": "markdown",
   "id": "3ef902a6-54d3-4a1c-a4a0-e8aab8527a7d",
   "metadata": {},
   "source": [
    "`-` 변수 소개"
   ]
  },
  {
   "cell_type": "markdown",
   "id": "90c5e8aa-cce5-4294-8ea1-65ad73e9ef9d",
   "metadata": {},
   "source": [
    "* N : 입력 받을 배열의 자연수 개수\n",
    "\n",
    "* M : 주어진 `N`개의 수에서 `M`번 더할 수 있음.\n",
    "\n",
    "* K : 해당 인덱스에서 연속해서 꺼낼 수 있는 수"
   ]
  },
  {
   "cell_type": "markdown",
   "id": "9a9c2783-abc6-42c2-a39d-b9ce83224037",
   "metadata": {},
   "source": [
    "`-` 입력 예시"
   ]
  },
  {
   "cell_type": "code",
   "execution_count": 12,
   "id": "e7708a5a-ddbe-435f-b039-f5e8d2a24591",
   "metadata": {
    "tags": []
   },
   "outputs": [],
   "source": [
    "N,M,K = 5,8,3\n",
    "arr = [2,4,5,4,6]"
   ]
  },
  {
   "cell_type": "markdown",
   "id": "bd04e03f-73b3-4c0e-8cc0-6527592bfb8d",
   "metadata": {},
   "source": [
    "* 위와 같은 배열이 주어지면 $\\to$ `6 + 6 + 6 + 5 +  6  + 6 + 6 + 5 = 46`"
   ]
  },
  {
   "cell_type": "markdown",
   "id": "ef7297fb-c530-4e4b-b4fe-7ad41224d682",
   "metadata": {},
   "source": [
    "### 풀이"
   ]
  },
  {
   "cell_type": "markdown",
   "id": "1dc88ed7-137d-4e9d-a2ca-e9cef6c830b3",
   "metadata": {},
   "source": [
    "`-` 가장 큰 수와 두 번째로 큰 수를 알고 있다면,  두 수를 번갈아서 더해 `M`번을 채우면 된다!!"
   ]
  },
  {
   "cell_type": "markdown",
   "id": "a4fa5a95-7fe1-4b32-9501-8c171e553b5d",
   "metadata": {},
   "source": [
    "`1` 데이터 입력 받기"
   ]
  },
  {
   "cell_type": "code",
   "execution_count": 64,
   "id": "0149b316-2713-426e-8efc-a800789142ad",
   "metadata": {
    "tags": []
   },
   "outputs": [
    {
     "name": "stdin",
     "output_type": "stream",
     "text": [
      " 5 8 3\n",
      " 2 4 5 4 6\n"
     ]
    }
   ],
   "source": [
    "n,m,k  = map(int, input().split())\n",
    "data = list(map(int,input().split()))"
   ]
  },
  {
   "cell_type": "markdown",
   "id": "d079eebc-33bf-4508-9cb4-c4972a39d501",
   "metadata": {
    "tags": []
   },
   "source": [
    "`2` 입력받은  수들을 정렬"
   ]
  },
  {
   "cell_type": "code",
   "execution_count": 65,
   "id": "dda6d81d-420e-45e6-adc4-5733eee2b0be",
   "metadata": {
    "tags": []
   },
   "outputs": [],
   "source": [
    "data.sort()"
   ]
  },
  {
   "cell_type": "code",
   "execution_count": 66,
   "id": "ed3fa6b6-f5c6-428d-8708-092a4f0fc3f7",
   "metadata": {
    "tags": []
   },
   "outputs": [
    {
     "data": {
      "text/plain": [
       "[2, 4, 4, 5, 6]"
      ]
     },
     "execution_count": 66,
     "metadata": {},
     "output_type": "execute_result"
    }
   ],
   "source": [
    "data"
   ]
  },
  {
   "cell_type": "markdown",
   "id": "9063b8a1-0cc0-48b7-b7a0-98a2041aa7f2",
   "metadata": {},
   "source": [
    "`3` 가장 큰 수와 두번째로 큰 수를 저장"
   ]
  },
  {
   "cell_type": "code",
   "execution_count": 67,
   "id": "33549fe8-7dff-4b5a-b7d3-af7c95f59dc2",
   "metadata": {
    "tags": []
   },
   "outputs": [],
   "source": [
    "first = data[n-1]\n",
    "second = data[n-2]"
   ]
  },
  {
   "cell_type": "code",
   "execution_count": 68,
   "id": "794e2b9e-c7b8-47a7-a592-d39fa0369061",
   "metadata": {
    "tags": []
   },
   "outputs": [
    {
     "name": "stdout",
     "output_type": "stream",
     "text": [
      "6 5\n"
     ]
    }
   ],
   "source": [
    "print(first,second)"
   ]
  },
  {
   "cell_type": "markdown",
   "id": "c584cf88-6686-4515-a576-a219a7e33dcc",
   "metadata": {},
   "source": [
    "`4` 가장 큰 수가 더해지는 횟수 계산"
   ]
  },
  {
   "cell_type": "markdown",
   "id": "10419f43-d42e-41e8-8c69-cc12a5438134",
   "metadata": {},
   "source": [
    "* 여기에서는 k가 3이므로 그리디 배열은  `[6,6,6,5]`이다. 따라서 전체 m을 (k+1)로 나누면 해당 배열이 그리디 배열을 반복하는 숫자이다.\n",
    "\n",
    "* 그러나 M이 (k+1)로 나누어 떨어지지 않는 경우도 고려해야한다. 그럴 때는 M을 (k+1)로 나눈 나머지만큼 가장 큰 수가 추가도 더해지므로 이를 고려한다."
   ]
  },
  {
   "cell_type": "code",
   "execution_count": 71,
   "id": "0328b0a8-aadc-4f7d-a359-933549b8feed",
   "metadata": {
    "tags": []
   },
   "outputs": [
    {
     "data": {
      "text/plain": [
       "(5, 8, 3)"
      ]
     },
     "execution_count": 71,
     "metadata": {},
     "output_type": "execute_result"
    }
   ],
   "source": [
    "n,m,k"
   ]
  },
  {
   "cell_type": "code",
   "execution_count": 69,
   "id": "79eba429-770e-4fb9-a43f-31ca154d19f3",
   "metadata": {
    "tags": []
   },
   "outputs": [],
   "source": [
    "count = int(m/(k+1))*k\n",
    "count += m%(k+1)"
   ]
  },
  {
   "cell_type": "code",
   "execution_count": 70,
   "id": "bc9d2f22-8c1e-48a2-9a02-0ba155801a26",
   "metadata": {
    "tags": []
   },
   "outputs": [
    {
     "data": {
      "text/plain": [
       "6"
      ]
     },
     "execution_count": 70,
     "metadata": {},
     "output_type": "execute_result"
    }
   ],
   "source": [
    "count"
   ]
  },
  {
   "cell_type": "markdown",
   "id": "becbf71a-a15c-4c70-b094-34e645b63b4f",
   "metadata": {},
   "source": [
    "`5` 위를 활용하여 가장 큰 수가 더해지는 횟수와 두 번째로 큰 수가 더해지는 횟수까지 구할 수 있다. "
   ]
  },
  {
   "cell_type": "code",
   "execution_count": 72,
   "id": "7404e176-4109-46e9-9dfd-5c20c4b2447e",
   "metadata": {
    "tags": []
   },
   "outputs": [
    {
     "data": {
      "text/plain": [
       "36"
      ]
     },
     "execution_count": 72,
     "metadata": {},
     "output_type": "execute_result"
    }
   ],
   "source": [
    "result = 0\n",
    "result += (count)*first # 가장 큰 수 더하기\n",
    "result"
   ]
  },
  {
   "cell_type": "code",
   "execution_count": 73,
   "id": "f1e55ce4-9fe2-40ee-a0f5-e2099cf57953",
   "metadata": {
    "tags": []
   },
   "outputs": [],
   "source": [
    "result += (m-count)*second "
   ]
  },
  {
   "cell_type": "code",
   "execution_count": 74,
   "id": "91f7c7ec-d39f-4de3-9bac-0e3e91a07b29",
   "metadata": {
    "tags": []
   },
   "outputs": [
    {
     "name": "stdout",
     "output_type": "stream",
     "text": [
      "46\n"
     ]
    }
   ],
   "source": [
    "print(result)"
   ]
  },
  {
   "cell_type": "markdown",
   "id": "6f77af69-af81-487e-9da7-b329f253fa04",
   "metadata": {},
   "source": [
    "### 코드 정리"
   ]
  },
  {
   "cell_type": "code",
   "execution_count": 75,
   "id": "d2693cd4-cf01-4d96-a786-6a84b011b328",
   "metadata": {
    "tags": []
   },
   "outputs": [
    {
     "name": "stdin",
     "output_type": "stream",
     "text": [
      " 5 8 3\n",
      " 2 4 5 4 6\n"
     ]
    },
    {
     "name": "stdout",
     "output_type": "stream",
     "text": [
      "46\n"
     ]
    }
   ],
   "source": [
    "n,m,k  = map(int, input().split())\n",
    "data = list(map(int,input().split()))\n",
    "\n",
    "data.sort()\n",
    "\n",
    "\n",
    "first = data[n-1]\n",
    "second = data[n-2]\n",
    "\n",
    "count = int(m/(k+1))*k\n",
    "count += m%(k+1)\n",
    "\n",
    "\n",
    "result = 0\n",
    "result += (count)*first # 가장 큰 수 더하기\n",
    "\n",
    "result += (m-count)*second \n",
    "\n",
    "print(result)"
   ]
  },
  {
   "cell_type": "markdown",
   "id": "d085cd2d-5529-47f8-832b-959adc258385",
   "metadata": {},
   "source": [
    "## 예제 3. 숫자 카드게임"
   ]
  },
  {
   "cell_type": "markdown",
   "id": "63fee14e-1ddf-4400-a726-bf8a223cebee",
   "metadata": {},
   "source": [
    "`-` 여러 개의 숫자 카드 중에서 가장 높은 숫자가 쓰인 카드 한 장을 뽑는 게임"
   ]
  },
  {
   "cell_type": "markdown",
   "id": "bf4fb26e-1fd1-4dcd-ab82-d4d1adf7f12d",
   "metadata": {},
   "source": [
    "1. 숫자가 쓰인 카드들이 `$N \\times M$` 형태로 놓여 있다.\n",
    "\n",
    "2. 먼저 뽑고자 하는 카드가 포함되어 있는 행을 선택한다.\n",
    "\n",
    "3. 그다음 선택된 행에 포함된 카드들 중 가장 숫자가 낮은 카드를 뽑아야한다.\n",
    "\n",
    "4. 따라서 처음에 카드를 골라낼 행을 선택할 때, 이후에 해당 행에서 가장 숫자가 낮은 카드를 뽑을 것을 고려하여 최종적으로 가장 높은 숫자의 카드를 뽑을 수 있도록 전략을 짜야함"
   ]
  },
  {
   "cell_type": "markdown",
   "id": "6129698d-44b1-4dee-aa1b-3ecdac042160",
   "metadata": {},
   "source": [
    "`-` 문제 해결 방법 :  각 행마다 가장 작은 수를 찾은 뒤에 그 수 중에서 가장 큰 수를 찾는 것!"
   ]
  },
  {
   "cell_type": "markdown",
   "id": "2254b77f-6de4-43ba-a548-6f0698748080",
   "metadata": {},
   "source": [
    "### 풀이"
   ]
  },
  {
   "cell_type": "code",
   "execution_count": 76,
   "id": "c8261352-db86-4951-aa78-cb117f95a8b1",
   "metadata": {
    "tags": []
   },
   "outputs": [
    {
     "name": "stdin",
     "output_type": "stream",
     "text": [
      " 3 3\n",
      " 3 1 2\n",
      " 4 1 4\n",
      " 2 2 2\n"
     ]
    },
    {
     "name": "stdout",
     "output_type": "stream",
     "text": [
      "2\n"
     ]
    }
   ],
   "source": [
    "n, m = map(int,input().split())\n",
    "\n",
    "result = 0\n",
    "\n",
    "for i in range(n) :\n",
    "    data = list(map(int, input().split())) ## 한 줄씩 배열 입력 받기\n",
    "    min_value = min(data)\n",
    "    result = max(result,min_value) ## 가장 작은 수들 중에서 가장 큰 수 찾기\n",
    "\n",
    "print(result)"
   ]
  },
  {
   "cell_type": "markdown",
   "id": "1cd7e0e6-17f0-48c5-a5b8-c3a3188b0414",
   "metadata": {},
   "source": [
    "***"
   ]
  },
  {
   "cell_type": "markdown",
   "id": "00a47b91-8863-4f8e-8111-e48afdcbcbd4",
   "metadata": {},
   "source": [
    "## 예제 4. 1이 될 때까지 ($\\star\\star$)"
   ]
  },
  {
   "cell_type": "markdown",
   "id": "9e314ba3-89bc-4363-a531-98418920dabf",
   "metadata": {},
   "source": [
    "어떤 수 N이 1이 될 때까지 다음의 두 과정 중 하나를 반복적으로 선택하여 수행한다."
   ]
  },
  {
   "cell_type": "markdown",
   "id": "a393949c-45b9-4cf4-a6c9-af6f90d84563",
   "metadata": {},
   "source": [
    "1. N에서 1을 뺀다.\n",
    "\n",
    "2. N을 K로 나눈다."
   ]
  },
  {
   "cell_type": "markdown",
   "id": "96a50d05-e121-4a9a-87d6-6cf19323561c",
   "metadata": {
    "tags": []
   },
   "source": [
    "만약 N이 17, K가 4라고 가정하자. 이때 1번의 과정을 한 번 수행하면 N은 16이 된다."
   ]
  },
  {
   "cell_type": "markdown",
   "id": "e1965128-c338-499a-a42f-93273d2a150a",
   "metadata": {
    "tags": []
   },
   "source": [
    "이후에 2번의 과정을 두 번 수행하면 N은 1이 되며 이는 N을 1로 만드는 최소 횟수이다."
   ]
  },
  {
   "cell_type": "markdown",
   "id": "eeb6aa5c-cde6-42bf-a340-c1bdf1f50a2c",
   "metadata": {},
   "source": [
    "`-` 인사이트 : 해당 문제의 해법은 최대한 나누기를 많이 하는 것이다!"
   ]
  },
  {
   "cell_type": "markdown",
   "id": "0b25cb4f-f675-40e5-ae0d-d4673c44fbe2",
   "metadata": {},
   "source": [
    "1. N이 K의 배수가 될 때까지 1을 빼기\n",
    "\n",
    "2. N을 K로 나누기 "
   ]
  },
  {
   "cell_type": "markdown",
   "id": "5174d98f-55e6-48a3-9a1a-5300272de6d1",
   "metadata": {},
   "source": [
    "### 풀이"
   ]
  },
  {
   "cell_type": "markdown",
   "id": "a9f16b52-6771-45e2-96d6-c5b0e2a2685a",
   "metadata": {},
   "source": [
    "`-` 접근 : 루프를 통해 계속해서 n을 k의 배수로 만들어준다."
   ]
  },
  {
   "cell_type": "code",
   "execution_count": 109,
   "id": "b16d4d5b-2803-46f4-ad1b-ce57cefa730f",
   "metadata": {
    "tags": []
   },
   "outputs": [
    {
     "name": "stdin",
     "output_type": "stream",
     "text": [
      " 17 4\n"
     ]
    },
    {
     "name": "stdout",
     "output_type": "stream",
     "text": [
      "n : 17\n",
      "\n",
      "빼기 연산 수행\n",
      "target : 16\n",
      "result : 1\n",
      "\n",
      "나누기 연산 수행\n",
      "n : 4\n",
      "result : 2\n",
      "\n",
      "빼기 연산 수행\n",
      "target : 4\n",
      "result : 2\n",
      "\n",
      "나누기 연산 수행\n",
      "n : 1\n",
      "result : 3\n",
      "\n",
      "빼기 연산 수행\n",
      "target : 0\n",
      "result : 4\n",
      "\n",
      " n: 0\n",
      "\n",
      " result: 3\n"
     ]
    }
   ],
   "source": [
    "n, k = map(int,input().split())\n",
    "\n",
    "result = 0\n",
    "print(f\"n : {n}\")\n",
    "while True :\n",
    "    print(\"\\n빼기 연산 수행\")\n",
    "    target = (n//k) *k ## n을 k로 나눈 몫을 담기\n",
    "    print(f\"target : {target}\")\n",
    "    result += (n-target) ## 만약 n=17이고 k가 4라면 result에는 1이 저장\n",
    "    print(f\"result : {result}\")\n",
    "    n = target ## n을 target으로 바꿔줌, 즉 n을 k의 배수로 변경\n",
    "    \n",
    "    if n < k : \n",
    "        break\n",
    "    n //= k # n을 k로 나누기\n",
    "    result += 1 ## 나눈 횟수 저장\n",
    "    print(\"\\n나누기 연산 수행\")\n",
    "    print(f\"n : {n}\")\n",
    "    print(f\"result : {result}\")\n",
    "   \n",
    "print(f\"\\n n: {n}\")\n",
    "result += (n-1)\n",
    "print(f\"\\n result: {result}\")"
   ]
  },
  {
   "cell_type": "markdown",
   "id": "2ca847d2-4fdc-4fa9-8399-0f7e2b2fe3a9",
   "metadata": {},
   "source": [
    "***"
   ]
  },
  {
   "cell_type": "markdown",
   "id": "d9cee75a-1cb7-40af-b647-faa8bb483baf",
   "metadata": {},
   "source": [
    "# study(231112) "
   ]
  },
  {
   "cell_type": "markdown",
   "id": "80931ee5-5511-48f5-af0a-2efae7e8a1e6",
   "metadata": {},
   "source": [
    "## 거스름돈"
   ]
  },
  {
   "cell_type": "markdown",
   "id": "6b0a6af9-f8ac-4a3e-bb2d-8d84fec83dce",
   "metadata": {},
   "source": [
    "춘향이는 편의점 카운터에서 일한다.\n",
    "\n",
    "손님이 2원짜리와 5원짜리로만 거스름돈을 달라고 한다. 2원짜리 동전과 5원짜리 동전은 무한정 많이 가지고 있다. 동전의 개수가 최소가 되도록 거슬러 주어야 한다. 거스름돈이 n인 경우, 최소 동전의 개수가 몇 개인지 알려주는 프로그램을 작성하시오.\n",
    "\n",
    "예를 들어, 거스름돈이 15원이면 5원짜리 3개를, 거스름돈이 14원이면 5원짜리 2개와 2원짜리 2개로 총 4개를, 거스름돈이 13원이면 5원짜리 1개와 2원짜리 4개로 총 5개를 주어야 동전의 개수가 최소가 된다."
   ]
  },
  {
   "cell_type": "markdown",
   "id": "97ec7954-75dc-4247-9f4f-a44c0f940df4",
   "metadata": {},
   "source": [
    "`-` 입력 : 첫째 줄에 거스름돈 액수 n(1 ≤ n ≤ 100,000)이 주어진다."
   ]
  },
  {
   "cell_type": "markdown",
   "id": "6ee840f2-08de-4fea-b7b3-e059669c3721",
   "metadata": {},
   "source": [
    "`-` 출력 : 거스름돈 동전의 최소 개수를 출력한다. 만약 거슬러 줄 수 없으면 -1을 출력한다."
   ]
  },
  {
   "cell_type": "markdown",
   "id": "76f73c66-5998-4796-8d6e-f99a5db99694",
   "metadata": {},
   "source": [
    "### sol"
   ]
  },
  {
   "cell_type": "code",
   "execution_count": 41,
   "id": "8eecaf21-0e32-447e-b9ac-df3a9d8d7360",
   "metadata": {
    "tags": []
   },
   "outputs": [
    {
     "name": "stdin",
     "output_type": "stream",
     "text": [
      " 2\n"
     ]
    },
    {
     "name": "stdout",
     "output_type": "stream",
     "text": [
      "1\n"
     ]
    }
   ],
   "source": [
    "n = int(input())\n",
    "count = 0 ## 동전 개수 저장을 위한 변수\n",
    "\n",
    "while(True) :\n",
    "    if n % 5 == 0 :\n",
    "        count += n//5\n",
    "        break\n",
    "    else :\n",
    "        n -= 2\n",
    "        count +=1\n",
    "    if n < 0 :\n",
    "        break\n",
    "if n < 0 :\n",
    "    print(-1)\n",
    "else :\n",
    "    print(count)"
   ]
  },
  {
   "cell_type": "markdown",
   "id": "a8dbdfaf-b30b-407a-8ea0-b348d02718d0",
   "metadata": {},
   "source": [
    "***"
   ]
  },
  {
   "cell_type": "markdown",
   "id": "ba58d73b-b475-4fd0-a7ae-cda28ba321ea",
   "metadata": {},
   "source": [
    "## 서강근육맨"
   ]
  },
  {
   "cell_type": "markdown",
   "id": "4bddb2b2-36e4-4813-80a1-9982009138a1",
   "metadata": {},
   "source": [
    "로니 콜먼 동영상을 보고 보디빌더가 되기로 결심한 향빈이는 PT 상담을 받으러 서강헬스클럽에 갔다. 향빈이가 서강헬스클럽을 선택한 이유는 PT를 받을 때 사용하는 운동기구를 회원이 선택할 수 있다는 점 때문이다. 하지만, 서강헬스클럽은 항상 사람이 많아서 PT를 한 번 받을 때 운동기구를 최대 두 개까지만 선택할 수 있다.\n",
    "\n",
    "헬스장에 있는 \n",
    "$N$개의 운동기구를 한 번씩 사용해보고 싶은 향빈이는 PT를 받을 때마다 이전에 사용하지 않았던 운동기구를 선택하기로 계획을 세웠다. 그리고 비용을 절약하기 위해 PT를 받을 때 운동기구를 되도록이면 두 개를 사용하기로 했다. 예를 들어, 헬스장에 총 \n",
    "$10$개의 운동기구가 있을 경우 PT를 \n",
    "$5$번 받으면 모든 기구를 다 사용할 수 있다. \n",
    "$9$개의 운동기구가 있는 경우에도 PT를 \n",
    "$5$번 받지만, 마지막 PT를 받을 때는 운동기구를 하나만 사용한다.\n",
    "\n",
    "하지만 향빈이는 운동기구를 선택하다가 큰 고민에 빠졌다. 왜냐하면 운동기구마다 근손실이 일어나는 정도가 다르기 때문이다. 어떤 운동기구는 자극이 잘 안 와서 근손실이 적게 일어나는데, 어떤 운동기구는 자극이 잘 와서 근손실이 많이 일어난다. 근손실이 죽음보다 무서운 향빈이는 PT를 한 번 받을 때의 근손실 정도가 \n",
    "$M$을 넘지 않도록 하고 싶다. 이때, \n",
    "$M$의 최솟값을 구해보자. 참고로, 운동기구를 두 개 사용해서 PT를 받을 때의 근손실 정도는 두 운동기구의 근손실 정도의 합이다."
   ]
  },
  {
   "cell_type": "markdown",
   "id": "1e73135a-b31f-4fbd-bdd4-496d4a32ef63",
   "metadata": {},
   "source": [
    "`-` 입력"
   ]
  },
  {
   "cell_type": "markdown",
   "id": "377fb045-70e1-4750-9333-0c9b510471a2",
   "metadata": {},
   "source": [
    "첫째 줄에 서강헬스클럽에 비치된 운동기구의 개수를 나타내는 정수 \n",
    "$N$이 주어진다. (\n",
    "$1 \\leq N \\leq 10\\ 000$)\n",
    "\n",
    "둘째 줄에는 각 운동기구의 근손실 정도를 나타내는 정수 \n",
    "$t_1, t_2, \\cdots, t_N$가 주어진다. (\n",
    "$0 \\leq t_i \\leq 10^{18}$)"
   ]
  },
  {
   "cell_type": "markdown",
   "id": "e24726ba-3548-4b9a-b85c-130ff7889e57",
   "metadata": {},
   "source": [
    "`-` 출력"
   ]
  },
  {
   "cell_type": "markdown",
   "id": "357d516f-d170-420a-bc43-169d7e2f1c46",
   "metadata": {},
   "source": [
    "$M$의 최솟값을 출력한다."
   ]
  },
  {
   "cell_type": "markdown",
   "id": "41f778e7-7e87-4ef2-8868-80a90f49f670",
   "metadata": {},
   "source": [
    "### sol"
   ]
  },
  {
   "cell_type": "code",
   "execution_count": 65,
   "id": "5abdc357-57a7-413c-8d9b-a8687d3b3169",
   "metadata": {
    "tags": []
   },
   "outputs": [
    {
     "name": "stdin",
     "output_type": "stream",
     "text": [
      " 5\n",
      " 1 2 3 4 5\n"
     ]
    },
    {
     "name": "stdout",
     "output_type": "stream",
     "text": [
      "5\n"
     ]
    }
   ],
   "source": [
    "N = int(input())\n",
    "\n",
    "t = list(map(int, input().split()))\n",
    "t.sort()\n",
    "\n",
    "if N<=2 :\n",
    "    print(sum(t))\n",
    "m = 0\n",
    "\n",
    "if len(t) % 2 == 1:\n",
    "    m = t.pop(-1) ## 정렬하면 마지막 원소가 가장 큰 수 이므로\n",
    "\n",
    "lst = [t[i] + t[-i-1] for i in range(len(t) // 2)]\n",
    "lst.append(m)\n",
    "\n",
    "print(max(lst))"
   ]
  },
  {
   "cell_type": "markdown",
   "id": "5cbb9ce4-2efc-4ba1-8772-64694d27e5b6",
   "metadata": {},
   "source": [
    "***"
   ]
  },
  {
   "cell_type": "markdown",
   "id": "7023a63e-c9e1-4418-adbc-6b36aad0621b",
   "metadata": {},
   "source": [
    "## 블로그2"
   ]
  },
  {
   "cell_type": "markdown",
   "id": "dc586b4f-9b05-4684-ab94-161deacf0e82",
   "metadata": {},
   "source": [
    "neighbor 블로그를 운영하는 일우는 매일 아침 풀고 싶은 문제를 미리 정해놓고 글을 올린다. 그리고 매일 밤 각각의 문제에 대하여, 해결한 경우 파란색, 해결하지 못한 경우 빨간색으로 칠한다. 일우는 각 문제를 칠할 때 아래와 같은 과정을 한 번의 작업으로 수행한다.\n",
    "\n",
    "1. 연속된 임의의 문제들을 선택한다.\n",
    "\n",
    "2. 선택된 문제들을 전부 원하는 같은 색으로 칠한다."
   ]
  },
  {
   "cell_type": "markdown",
   "id": "04dbe5f4-e4c6-46d7-9bab-57abbc79844e",
   "metadata": {},
   "source": [
    "<img alt=\"\" src=\"https://upload.acmicpc.net/72fda166-5e2c-42b4-a9c1-e52993a5c45e/-/preview/\" style=\"height: 227px; width: 200px;\">"
   ]
  },
  {
   "cell_type": "markdown",
   "id": "ba2f0452-c137-47a2-aa88-d2be64c34878",
   "metadata": {},
   "source": [
    "예를 들어, 각 문제를 위와 같은 색으로 칠하려고 할 때, 1~2번 문제를 파란색, 3번을 빨간색, 4번을 파란색, 5번을 빨간색, 6~7번을 파란색, 8번을 빨간색으로 칠하는 작업을 순서대로 수행하면 6번의 작업을 거쳐야 한다. 하지만, 1~7번 문제를 파란색, 3번을 빨간색, 5번을 빨간색, 8번을 빨간색으로 순서대로 칠한다면 작업 횟수는 4번으로 가장 적다.\n",
    "\n",
    "일우는 매일 500,000문제까지 시도하기 때문에, 이 작업이 꽤나 귀찮아지기 시작했다. 그래서 가장 효율적인 방법으로 위 작업을 수행하기를 원한다. 일우를 도와 각 문제를 주어진 색으로 칠할 때 필요한 최소한의 작업 횟수를 구하는 프로그램을 작성하라."
   ]
  },
  {
   "cell_type": "markdown",
   "id": "158aa40b-dc53-4183-96d0-a7c743cf174a",
   "metadata": {},
   "source": [
    "`-` 입력"
   ]
  },
  {
   "cell_type": "markdown",
   "id": "eb7f2519-88f4-4592-b57d-ec085fc42d3e",
   "metadata": {},
   "source": [
    "첫째 줄에 색을 칠해야 하는 문제의 수 N (1 ≤ N ≤ 500,000)이 주어진다.\n",
    "\n",
    "둘째 줄에 N개의 문자가 공백 없이 순서대로 주어진다. 각 문자는 i번째 문제를 어떤 색으로 칠해야 하는지를 의미하며, R은 빨간색, B는 파란색을 나타낸다. 그 외에 다른 문자는 주어지지 않는다."
   ]
  },
  {
   "cell_type": "markdown",
   "id": "a033ab66-adce-422f-9349-9a681858a962",
   "metadata": {},
   "source": [
    "`-` 출력"
   ]
  },
  {
   "cell_type": "markdown",
   "id": "161b89bf-8964-454b-85c6-7427c49d4acc",
   "metadata": {},
   "source": [
    "첫째 줄에 일우가 주어진 모든 문제를 원하는 색으로 칠할 때까지 필요한 작업 횟수의 최솟값을 출력하라."
   ]
  },
  {
   "cell_type": "markdown",
   "id": "2ab7f0fa-2ff0-4975-af7d-62d5729fd375",
   "metadata": {},
   "source": [
    "### sol"
   ]
  },
  {
   "cell_type": "code",
   "execution_count": 95,
   "id": "6a37cf12-1eb1-4a5c-8ae0-ddd0e73210ae",
   "metadata": {
    "tags": []
   },
   "outputs": [
    {
     "name": "stdin",
     "output_type": "stream",
     "text": [
      " 5\n",
      " BRBRR\n"
     ]
    }
   ],
   "source": [
    "N = int(input())\n",
    "lst = list(input())"
   ]
  },
  {
   "cell_type": "code",
   "execution_count": 96,
   "id": "6c640d51-73e4-4a4d-b06c-b7e3e592c5c7",
   "metadata": {
    "tags": []
   },
   "outputs": [
    {
     "data": {
      "text/plain": [
       "['B', 'R', 'B', 'R', 'R']"
      ]
     },
     "execution_count": 96,
     "metadata": {},
     "output_type": "execute_result"
    }
   ],
   "source": [
    "lst"
   ]
  },
  {
   "cell_type": "code",
   "execution_count": 97,
   "id": "5e97a3fb-399c-4735-915b-af000ddef6f4",
   "metadata": {
    "tags": []
   },
   "outputs": [],
   "source": [
    "colors = {\"B\" : 0, \"R\" : 0} ## 색깔 count 저장을 위한 딕셔너리 생성\n",
    "\n",
    "colors[lst[0]] += 1"
   ]
  },
  {
   "cell_type": "code",
   "execution_count": 98,
   "id": "11e49438-ff3f-47b5-9137-586da8d41b1c",
   "metadata": {
    "tags": []
   },
   "outputs": [
    {
     "data": {
      "text/plain": [
       "{'B': 1, 'R': 0}"
      ]
     },
     "execution_count": 98,
     "metadata": {},
     "output_type": "execute_result"
    }
   ],
   "source": [
    "colors"
   ]
  },
  {
   "cell_type": "code",
   "execution_count": 99,
   "id": "5e16f8a7-9cbb-40a9-906d-85ca6141d986",
   "metadata": {
    "tags": []
   },
   "outputs": [],
   "source": [
    "for i in range(1, N) :\n",
    "    if lst[i] != lst[i-1] :\n",
    "        colors[lst[i]] += 1  # 연속된 색깔은 횟수 한번으로 간주"
   ]
  },
  {
   "cell_type": "code",
   "execution_count": 100,
   "id": "c468be5c-e19b-424a-ac42-321a7fea3727",
   "metadata": {
    "tags": []
   },
   "outputs": [
    {
     "data": {
      "text/plain": [
       "{'B': 2, 'R': 2}"
      ]
     },
     "execution_count": 100,
     "metadata": {},
     "output_type": "execute_result"
    }
   ],
   "source": [
    "colors"
   ]
  },
  {
   "cell_type": "code",
   "execution_count": 104,
   "id": "8a60fe20-ae70-4953-99e6-e56557fdbf86",
   "metadata": {
    "tags": []
   },
   "outputs": [
    {
     "name": "stdout",
     "output_type": "stream",
     "text": [
      "3\n"
     ]
    }
   ],
   "source": [
    "print(min(colors.values()) + 1)"
   ]
  },
  {
   "cell_type": "markdown",
   "id": "8a10c5f0-e008-4801-bd33-bc26da41bb34",
   "metadata": {},
   "source": [
    "***"
   ]
  },
  {
   "cell_type": "markdown",
   "id": "0f59d6da-0cee-4fce-8abb-d29f4abe00a8",
   "metadata": {},
   "source": [
    "# study(231119)"
   ]
  },
  {
   "cell_type": "markdown",
   "id": "84f29e35-6201-4621-b135-435040276ef6",
   "metadata": {},
   "source": [
    "## 주식"
   ]
  },
  {
   "cell_type": "markdown",
   "id": "bbf67d7e-48be-40c6-ab7a-28aa4c03725b",
   "metadata": {},
   "source": [
    "홍준이는 요즘 주식에 빠져있다. 그는 미래를 내다보는 눈이 뛰어나, 날 별로 주가를 예상하고 언제나 그게 맞아떨어진다. 매일 그는 아래 세 가지 중 한 행동을 한다.\n",
    "\n",
    "1. 주식 하나를 산다.\n",
    "\n",
    "2. 원하는 만큼 가지고 있는 주식을 판다.\n",
    "3. 아무것도 안한다.\n",
    "\n",
    "홍준이는 미래를 예상하는 뛰어난 안목을 가졌지만, 어떻게 해야 자신이 최대 이익을 얻을 수 있는지 모른다. 따라서 당신에게 날 별로 주식의 가격을 알려주었을 때, 최대 이익이 얼마나 되는지 계산을 해달라고 부탁했다.\n",
    "\n",
    "예를 들어 날 수가 3일이고 날 별로 주가가 10, 7, 6일 때, 주가가 계속 감소하므로 최대 이익은 0이 된다. 그러나 만약 날 별로 주가가 3, 5, 9일 때는 처음 두 날에 주식을 하나씩 사고, 마지막날 다 팔아 버리면 이익이 10이 된다."
   ]
  },
  {
   "cell_type": "markdown",
   "id": "41f3c1b9-23d9-4431-a59d-04cff077f5b3",
   "metadata": {},
   "source": [
    "`-` 입력"
   ]
  },
  {
   "cell_type": "markdown",
   "id": "953f6847-0c68-4788-8a16-3d0bcc6620bf",
   "metadata": {
    "tags": []
   },
   "source": [
    "입력의 첫 줄에는 테스트케이스 수를 나타내는 자연수 T가 주어진다. 각 테스트케이스 별로 첫 줄에는 날의 수를 나타내는 자연수 N(2 ≤ N ≤ 1,000,000)이 주어지고, 둘째 줄에는 날 별 주가를 나타내는 N개의 자연수들이 공백으로 구분되어 순서대로 주어진다. 날 별 주가는 10,000이하다."
   ]
  },
  {
   "cell_type": "markdown",
   "id": "9195957c-4dbe-44e7-8573-550249b56c35",
   "metadata": {},
   "source": [
    "`-` 출력"
   ]
  },
  {
   "cell_type": "markdown",
   "id": "c698d22d-234c-4f38-a2e7-066cd53888eb",
   "metadata": {},
   "source": [
    "각 테스트케이스 별로 최대 이익을 나타내는 정수 하나를 출력한다. 답은 부호있는 64bit 정수형으로 표현 가능하다."
   ]
  },
  {
   "cell_type": "markdown",
   "id": "e41de1be-eccf-4bda-88a6-4ea5b17f019c",
   "metadata": {},
   "source": [
    "### sol"
   ]
  },
  {
   "cell_type": "code",
   "execution_count": 48,
   "id": "637cc9d2-86e2-42a7-ab54-d4b7ea29bd18",
   "metadata": {
    "tags": []
   },
   "outputs": [
    {
     "name": "stdin",
     "output_type": "stream",
     "text": [
      " 1\n",
      " 3\n",
      " 3 5 9\n"
     ]
    },
    {
     "name": "stdout",
     "output_type": "stream",
     "text": [
      "10\n"
     ]
    }
   ],
   "source": [
    "T = int(input())\n",
    "for _ in range(T):\n",
    "    N = int(input())\n",
    "    stock = list(map(int, input().split()))\n",
    "    stock.reverse() ## 계산을 편하게 하기 위해\n",
    "    max = stock[0]\n",
    "    sum = 0\n",
    "\n",
    "    for i in range(1, N):\n",
    "        if max < stock[i]:\n",
    "            max = stock[i]\n",
    "            continue\n",
    "        sum += max - stock[i]\n",
    "\n",
    "    print(sum)  "
   ]
  },
  {
   "cell_type": "markdown",
   "id": "a8ac8ec1-7e79-4f09-b7fc-09392fe1729f",
   "metadata": {
    "tags": []
   },
   "source": [
    "***"
   ]
  },
  {
   "cell_type": "markdown",
   "id": "3a827d5c-bc1c-44d4-9ec4-1d1fe7bfad80",
   "metadata": {},
   "source": [
    "## 강의실 배정"
   ]
  },
  {
   "cell_type": "markdown",
   "id": "0a885bd0-7d1b-44cd-877c-40658d1b3c28",
   "metadata": {},
   "source": [
    "수강신청의 마스터 김종혜 선생님에게 새로운 과제가 주어졌다. \n",
    "\n",
    "김종혜 선생님한테는 Si에 시작해서 Ti에 끝나는 N개의 수업이 주어지는데, 최소의 강의실을 사용해서 모든 수업을 가능하게 해야 한다. \n",
    "\n",
    "참고로, 수업이 끝난 직후에 다음 수업을 시작할 수 있다. (즉, Ti ≤ Sj 일 경우 i 수업과 j 수업은 같이 들을 수 있다.)\n",
    "\n",
    "수강신청 대충한 게 찔리면, 선생님을 도와드리자!"
   ]
  },
  {
   "cell_type": "markdown",
   "id": "4d09a5fa-e8e6-4677-ac97-4d031473c680",
   "metadata": {},
   "source": [
    "`-` 입력"
   ]
  },
  {
   "cell_type": "markdown",
   "id": "712fd31f-605d-423a-bdbd-0a2604b03715",
   "metadata": {},
   "source": [
    "첫 번째 줄에 N이 주어진다. (1 ≤ N ≤ 200,000)\n",
    "\n",
    "이후 N개의 줄에 Si, Ti가 주어진다. (0 ≤ Si < Ti ≤ 109)"
   ]
  },
  {
   "cell_type": "markdown",
   "id": "85eddff0-d639-4dc3-9da3-cd1aca5b68c0",
   "metadata": {},
   "source": [
    "`-` 출력"
   ]
  },
  {
   "cell_type": "markdown",
   "id": "e400e191-5fcc-4d5c-be03-07644f9d5263",
   "metadata": {},
   "source": [
    "강의실의 개수를 출력하라."
   ]
  },
  {
   "cell_type": "markdown",
   "id": "ec9348b5-4f20-4c4b-b0f2-fa7d6cdf77f1",
   "metadata": {},
   "source": [
    "### sol"
   ]
  },
  {
   "cell_type": "code",
   "execution_count": 5,
   "id": "247a0cbf-8309-4bf0-8014-9cc7df99159d",
   "metadata": {
    "tags": []
   },
   "outputs": [
    {
     "name": "stdin",
     "output_type": "stream",
     "text": [
      " 3\n"
     ]
    }
   ],
   "source": [
    "N = int(input())"
   ]
  },
  {
   "cell_type": "code",
   "execution_count": 56,
   "id": "866437f3-8ff7-4503-b47d-c6159e03528c",
   "metadata": {
    "tags": []
   },
   "outputs": [
    {
     "name": "stdin",
     "output_type": "stream",
     "text": [
      " 1 3\n",
      " 2 4\n",
      " 3 5\n"
     ]
    },
    {
     "name": "stdout",
     "output_type": "stream",
     "text": [
      "2\n"
     ]
    }
   ],
   "source": [
    "import heapq\n",
    "\n",
    "lecture = []\n",
    "for _ in range(N) :\n",
    "    S, T = map(int, input().split())\n",
    "    lecture.append([S,T])\n",
    "    \n",
    "lecture.sort() ## 강의 시작 시간(S) 기준 정렬\n",
    "\n",
    "room = []\n",
    "\n",
    "heapq.heappush(room, lecture[0][1]) ## 첫 번째 강의 종료 시간을 room[0]에 저장\n",
    "\n",
    "for i in range(1, len(lecture)) :\n",
    "    if room[0] <= lecture[i][0] : ## 만약 첫 번째 강의 종료 시간이 두 번째 강의 시작 시간보다 작거나 같다면, 수업을 같이 들을 수 있음\n",
    "        heapq.heappop(room) ## 기준 바꾸기 위해 첫 번째 강의 종료 시간을 pop \n",
    "        heapq.heappush(room, lecture[i][1]) ## 두 번째 강의 종료 시간을 push\n",
    "        \n",
    "    else :\n",
    "        heapq.heappush(room, lecture[i][1]) ## 새로운 강의실 추가\n",
    "\n",
    "print(len(room))"
   ]
  },
  {
   "cell_type": "markdown",
   "id": "ebbd3119-9101-44d5-bceb-dfb6fa7d4d89",
   "metadata": {},
   "source": [
    "***"
   ]
  },
  {
   "cell_type": "markdown",
   "id": "428710fd-92fb-4cb3-9837-577bdc770f77",
   "metadata": {},
   "source": [
    "## 센서"
   ]
  },
  {
   "cell_type": "markdown",
   "id": "5680143a-0f6a-4e03-8dbc-b1b3557d7f34",
   "metadata": {},
   "source": [
    "한국도로공사는 고속도로의 유비쿼터스화를 위해 고속도로 위에 N개의 센서를 설치하였다. 문제는 이 센서들이 수집한 자료들을 모으고 분석할 몇 개의 집중국을 세우는 일인데, 예산상의 문제로, 고속도로 위에 최대 K개의 집중국을 세울 수 있다고 한다.\n",
    "\n",
    "각 집중국은 센서의 수신 가능 영역을 조절할 수 있다. 집중국의 수신 가능 영역은 고속도로 상에서 연결된 구간으로 나타나게 된다. N개의 센서가 적어도 하나의 집중국과는 통신이 가능해야 하며, 집중국의 유지비 문제로 인해 각 집중국의 수신 가능 영역의 길이의 합을 최소화해야 한다.\n",
    "\n",
    "편의를 위해 고속도로는 평면상의 직선이라고 가정하고, 센서들은 이 직선 위의 한 기점인 원점으로부터의 정수 거리의 위치에 놓여 있다고 하자. 따라서, 각 센서의 좌표는 정수 하나로 표현된다. 이 상황에서 각 집중국의 수신 가능영역의 거리의 합의 최솟값을 구하는 프로그램을 작성하시오. 단, 집중국의 수신 가능영역의 길이는 0 이상이며 모든 센서의 좌표가 다를 필요는 없다."
   ]
  },
  {
   "cell_type": "markdown",
   "id": "f354b6ba-51c0-46a4-9f10-e4271084b8e3",
   "metadata": {},
   "source": [
    "`-` 입력"
   ]
  },
  {
   "cell_type": "markdown",
   "id": "6d93b2c5-a640-4af5-a62f-89c350932d77",
   "metadata": {},
   "source": [
    "첫째 줄에 센서의 개수 N(1 ≤ N ≤ 10,000), 둘째 줄에 집중국의 개수 K(1 ≤ K ≤ 1000)가 주어진다. 셋째 줄에는 N개의 센서의 좌표가 한 개의 정수로 N개 주어진다. 각 좌표 사이에는 빈 칸이 하나 있으며, 좌표의 절댓값은 1,000,000 이하이다."
   ]
  },
  {
   "cell_type": "markdown",
   "id": "c674ad10-6fb2-496e-89f1-7d21d2b23399",
   "metadata": {},
   "source": [
    "`-` 출력"
   ]
  },
  {
   "cell_type": "markdown",
   "id": "7f0defeb-abf3-4890-aaca-c2ac9fecde4d",
   "metadata": {},
   "source": [
    "첫째 줄에 문제에서 설명한 최대 K개의 집중국의 수신 가능 영역의 길이의 합의 최솟값을 출력한다."
   ]
  },
  {
   "cell_type": "code",
   "execution_count": 76,
   "id": "daea27a4-639b-4f2a-999e-207c660d730d",
   "metadata": {
    "tags": []
   },
   "outputs": [
    {
     "name": "stdin",
     "output_type": "stream",
     "text": [
      " 6\n",
      " 2\n",
      " 1 3 6 6 7 9\n"
     ]
    }
   ],
   "source": [
    "N = int(input())\n",
    "K = int(input())\n",
    "\n",
    "sensor = list(map(int,input().split()))\n",
    "sensor.sort()"
   ]
  },
  {
   "cell_type": "code",
   "execution_count": 77,
   "id": "3713b33f-e4a4-4242-aba9-e354f952f292",
   "metadata": {
    "tags": []
   },
   "outputs": [
    {
     "data": {
      "text/plain": [
       "[1, 3, 6, 6, 7, 9]"
      ]
     },
     "execution_count": 77,
     "metadata": {},
     "output_type": "execute_result"
    }
   ],
   "source": [
    "sensor"
   ]
  },
  {
   "cell_type": "code",
   "execution_count": 78,
   "id": "cab469b2-6985-4e4e-92f6-abc220eeb749",
   "metadata": {
    "tags": []
   },
   "outputs": [
    {
     "name": "stdout",
     "output_type": "stream",
     "text": [
      "5\n"
     ]
    }
   ],
   "source": [
    "array = []\n",
    "for i in range(0,N-1):\n",
    "    array.append(sensor[i+1] - sensor[i])\n",
    "\n",
    "array.sort()\n",
    "print(sum(array[:N-K])) ### 이 부분은 왜 이렇게 하는지 이해가 가지 않음...."
   ]
  }
 ],
 "metadata": {
  "kernelspec": {
   "display_name": "Python 3 (ipykernel)",
   "language": "python",
   "name": "python3"
  },
  "language_info": {
   "codemirror_mode": {
    "name": "ipython",
    "version": 3
   },
   "file_extension": ".py",
   "mimetype": "text/x-python",
   "name": "python",
   "nbconvert_exporter": "python",
   "pygments_lexer": "ipython3",
   "version": "3.11.4"
  },
  "toc": {
   "base_numbering": 1,
   "nav_menu": {},
   "number_sections": false,
   "sideBar": true,
   "skip_h1_title": false,
   "title_cell": "Table of Contents",
   "title_sidebar": "Contents",
   "toc_cell": false,
   "toc_position": {
    "height": "calc(100% - 180px)",
    "left": "10px",
    "top": "150px",
    "width": "331.667px"
   },
   "toc_section_display": true,
   "toc_window_display": true
  }
 },
 "nbformat": 4,
 "nbformat_minor": 5
}
