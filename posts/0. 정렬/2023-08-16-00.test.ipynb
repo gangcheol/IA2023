{
 "cells": [
  {
   "cell_type": "raw",
   "id": "595328b9-ac49-4a63-8d18-d2afb1694122",
   "metadata": {},
   "source": [
    "---\n",
    "title : \"00.test\"\n",
    "author : \"GC\"\n",
    "date : \"08/16/23\"\n",
    "---"
   ]
  }
 ],
 "metadata": {
  "kernelspec": {
   "display_name": "Python 3 (ipykernel)",
   "language": "python",
   "name": "python3"
  },
  "language_info": {
   "codemirror_mode": {
    "name": "ipython",
    "version": 3
   },
   "file_extension": ".py",
   "mimetype": "text/x-python",
   "name": "python",
   "nbconvert_exporter": "python",
   "pygments_lexer": "ipython3",
   "version": "3.11.4"
  }
 },
 "nbformat": 4,
 "nbformat_minor": 5
}
