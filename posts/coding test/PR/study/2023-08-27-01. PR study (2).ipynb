{
 "cells": [
  {
   "cell_type": "raw",
   "id": "5381f569-9a80-4ad2-9e33-9627654884da",
   "metadata": {},
   "source": [
    "---\n",
    "title : \"01. PR study (2)\"\n",
    "author : \"GC\"\n",
    "catergories : [python, coding test]\n",
    "date  : \"09/03/23\"\n",
    "---"
   ]
  },
  {
   "cell_type": "markdown",
   "id": "95cf83bb-ceb6-4452-ac17-036848cc5059",
   "metadata": {},
   "source": [
    "# Lv. 0"
   ]
  },
  {
   "cell_type": "markdown",
   "id": "c1d20d4b-852f-4989-8a16-0f757d0cbcd4",
   "metadata": {},
   "source": [
    "## 1. 저주의 숫자 3"
   ]
  },
  {
   "cell_type": "markdown",
   "id": "678ff42f-f8b6-4616-aab8-5bb8a17cafa1",
   "metadata": {},
   "source": [
    "<figure>\n",
    "    <img src=\"저주의 숫자3.png\">\n",
    "</figure>"
   ]
  },
  {
   "cell_type": "markdown",
   "id": "8f75423d-8c4a-44c5-9872-cc9106b4c5d3",
   "metadata": {},
   "source": [
    "`-` 정수 `n`이 주어질 때 위와 같은 규칙을 따르는 숫지를 return 하는 함수를 작성하라"
   ]
  },
  {
   "cell_type": "markdown",
   "id": "37e1ff0f-42ed-4f34-8638-a57019c98dc7",
   "metadata": {},
   "source": [
    "### sol"
   ]
  },
  {
   "cell_type": "markdown",
   "id": "dac800b5-d1ef-41e4-9073-0549e6c7a9d6",
   "metadata": {},
   "source": [
    "1. 임의의 숫자 `n`을 입력 받았을 때, `1`부터  `n` 번째 까지의 상황을 기록하는 변수(`r`)가 필요"
   ]
  },
  {
   "cell_type": "markdown",
   "id": "6e3c216d-6986-487c-8d17-4ffaeb465c90",
   "metadata": {
    "tags": []
   },
   "source": [
    "```python\n",
    "r = 0\n",
    "for i in range(1, n+1) :\n",
    "    r += 1\n",
    "```"
   ]
  },
  {
   "cell_type": "markdown",
   "id": "45f5d83c-d84f-40a2-812b-69c53ae84d25",
   "metadata": {},
   "source": [
    "`2`. 변수 `r`이 3의 배수 이거나 3을 포함하고 있는 `string`일 경우  `r+1`을 수행"
   ]
  },
  {
   "cell_type": "code",
   "execution_count": 43,
   "id": "fcbc6349-45d4-45ca-a400-57f7b1e9d470",
   "metadata": {
    "tags": []
   },
   "outputs": [],
   "source": [
    "n=15"
   ]
  },
  {
   "cell_type": "code",
   "execution_count": null,
   "id": "14230d02-91b6-4e68-ab0a-41916eb79f73",
   "metadata": {},
   "outputs": [
    {
     "data": {
      "text/plain": [
       "25"
      ]
     },
     "execution_count": 48,
     "metadata": {},
     "output_type": "execute_result"
    }
   ],
   "source": [
    "r = 0\n",
    "for i in range(1, n+1) :\n",
    "    r +=1\n",
    "    while (r % 3 == 0) or ('3' in str(r)) : ## 30,31,32... 이럴경우 for문에서 계속 반복해야 하므로\n",
    "        r+=1\n",
    "r"
   ]
  },
  {
   "cell_type": "markdown",
   "id": "87cfea9e-12b5-4d64-ae82-d294688d41dd",
   "metadata": {},
   "source": [
    "`3`. 함수로 작성"
   ]
  },
  {
   "cell_type": "code",
   "execution_count": 95,
   "id": "38d2c864-7e3f-4064-a08f-2df83ca5b696",
   "metadata": {},
   "outputs": [],
   "source": [
    "def solution(n) : \n",
    "        r = 0\n",
    "        for i in range(1, n+1) :\n",
    "            r +=1\n",
    "            while (r % 3 == 0) or ('3' in str(r)) : ## 30,31,32... 이럴경우 for문에서 계속 반복해야 하므로\n",
    "                r+=1\n",
    "        return r"
   ]
  },
  {
   "cell_type": "code",
   "execution_count": 96,
   "id": "8849abe4-12dd-4ac7-b09e-ae5097205846",
   "metadata": {
    "tags": []
   },
   "outputs": [
    {
     "data": {
      "text/plain": [
       "7"
      ]
     },
     "execution_count": 96,
     "metadata": {},
     "output_type": "execute_result"
    }
   ],
   "source": [
    "solution(5)"
   ]
  },
  {
   "cell_type": "markdown",
   "id": "b15a9822-361d-4f33-8ddc-f64b05ef3930",
   "metadata": {},
   "source": [
    "***"
   ]
  },
  {
   "cell_type": "markdown",
   "id": "46592d5f-5743-4b6e-b505-e177ac9f3d86",
   "metadata": {},
   "source": [
    "## 2. OX 퀴즈"
   ]
  },
  {
   "cell_type": "markdown",
   "id": "892c05b1-6d95-4236-ad0b-09de6c7681e1",
   "metadata": {},
   "source": [
    "`-` 리스트 안에 임의의 수식들이 주어졌을 때 결과가 맞으면 \"O\", 아니면 \"X\"를 출력하는 함수를 작성"
   ]
  },
  {
   "cell_type": "markdown",
   "id": "b9330027-c313-4530-992b-fa7a27f45696",
   "metadata": {},
   "source": [
    "### 예비학습"
   ]
  },
  {
   "cell_type": "code",
   "execution_count": 272,
   "id": "04dd6387-6eea-4cd7-839d-ea2ecc94e5e3",
   "metadata": {
    "tags": []
   },
   "outputs": [],
   "source": [
    "lst = [\"3 - 4 = -3\", \"5 + 6 = 11\"]"
   ]
  },
  {
   "cell_type": "markdown",
   "id": "7bb69453-f730-4660-b366-8cacdfb9edab",
   "metadata": {
    "tags": []
   },
   "source": [
    "`-` 연산이 이루어지는 쪽과 결과값을 저장"
   ]
  },
  {
   "cell_type": "code",
   "execution_count": 262,
   "id": "fc62ad98-851c-451a-a70a-6abc0b0e0715",
   "metadata": {
    "tags": []
   },
   "outputs": [
    {
     "data": {
      "text/plain": [
       "(['3', '-', '4'], ' -3')"
      ]
     },
     "execution_count": 262,
     "metadata": {},
     "output_type": "execute_result"
    }
   ],
   "source": [
    "l,r=lst[0].split(\"=\")\n",
    "l = l.split()\n",
    "l,r"
   ]
  },
  {
   "cell_type": "markdown",
   "id": "0d4a54b3-c076-4a8e-89b6-b49f7551ab61",
   "metadata": {
    "tags": []
   },
   "source": [
    "`-` 사칙연산"
   ]
  },
  {
   "cell_type": "code",
   "execution_count": 267,
   "id": "e63c62c7-9771-4ddc-b926-731a75977dd5",
   "metadata": {
    "tags": []
   },
   "outputs": [],
   "source": [
    "if l[1] == \"-\" :\n",
    "    temp = int(l[0]) - int(l[-1]) == int(r)"
   ]
  },
  {
   "cell_type": "code",
   "execution_count": 268,
   "id": "007c3d7e-06bf-4da6-8e34-6e4303aaab0d",
   "metadata": {
    "tags": []
   },
   "outputs": [
    {
     "data": {
      "text/plain": [
       "False"
      ]
     },
     "execution_count": 268,
     "metadata": {},
     "output_type": "execute_result"
    }
   ],
   "source": [
    "temp"
   ]
  },
  {
   "cell_type": "markdown",
   "id": "6663dcdd-d917-4ca4-b842-0de728f7dbfc",
   "metadata": {
    "tags": []
   },
   "source": [
    "`-` 루프를 통해 모든 원소에 적용"
   ]
  },
  {
   "cell_type": "code",
   "execution_count": 279,
   "id": "783d5155-c05b-4d3f-99c8-3a83b4cdaf87",
   "metadata": {
    "tags": []
   },
   "outputs": [],
   "source": [
    "result = []\n",
    "for i in lst :\n",
    "    l,r=i.split(\"=\")\n",
    "    l = l.split()\n",
    "    if l[1] == \"-\" :\n",
    "        temp = int(l[0]) - int(l[-1]) == int(r)\n",
    "    else :\n",
    "        temp = int(l[0]) + int(l[-1]) == int(r)\n",
    "    \n",
    "    result.append(temp)"
   ]
  },
  {
   "cell_type": "code",
   "execution_count": 280,
   "id": "6cdd04fe-f7db-4123-882c-630c55b47d81",
   "metadata": {
    "tags": []
   },
   "outputs": [
    {
     "data": {
      "text/plain": [
       "[False, True]"
      ]
     },
     "execution_count": 280,
     "metadata": {},
     "output_type": "execute_result"
    }
   ],
   "source": [
    "result"
   ]
  },
  {
   "cell_type": "markdown",
   "id": "7563bdd6-8fa4-40d4-a807-ea6123bfe07f",
   "metadata": {},
   "source": [
    "`-` 위 result를 \"O\", \"X\"로 변경"
   ]
  },
  {
   "cell_type": "code",
   "execution_count": 281,
   "id": "3be13d47-d20b-4d87-8b03-5e56c057efaf",
   "metadata": {
    "tags": []
   },
   "outputs": [
    {
     "data": {
      "text/plain": [
       "['X', 'O']"
      ]
     },
     "execution_count": 281,
     "metadata": {},
     "output_type": "execute_result"
    }
   ],
   "source": [
    "[\"O\" if i == True else \"X\" for i in result]"
   ]
  },
  {
   "cell_type": "markdown",
   "id": "e242163c-e6c5-4093-b2f6-90a60df8620c",
   "metadata": {
    "tags": []
   },
   "source": [
    "`-` 함수 작성"
   ]
  },
  {
   "cell_type": "markdown",
   "id": "845036aa-2494-449d-88da-095aa1d52d2f",
   "metadata": {
    "toc-hr-collapsed": true
   },
   "source": [
    "### sol1"
   ]
  },
  {
   "cell_type": "code",
   "execution_count": 293,
   "id": "eab0ae7b-74bc-4d67-9bb3-f1c6de5eab65",
   "metadata": {
    "tags": []
   },
   "outputs": [],
   "source": [
    "lst =[\"19 - 6 = 13\", \"5 + 66 = 71\", \"5 - 15 = 63\", \"3 - 1 = 2\"]\n",
    "\n",
    "def solution(lst) : \n",
    "    result = []\n",
    "    for i in lst :\n",
    "        l,r=i.split(\"=\")\n",
    "        l = l.split()\n",
    "        if l[1] == \"-\" :\n",
    "            temp = int(l[0]) - int(l[-1]) == int(r)\n",
    "        else :\n",
    "            temp = int(l[0]) + int(l[-1]) == int(r)\n",
    "\n",
    "        result.append(temp)\n",
    "    print(result)\n",
    "    result = [\"O\" if i == True else \"X\" for i in result]\n",
    "    return result"
   ]
  },
  {
   "cell_type": "code",
   "execution_count": 294,
   "id": "75e4856e-7d44-4c9b-b481-ae01500167ca",
   "metadata": {
    "tags": []
   },
   "outputs": [
    {
     "name": "stdout",
     "output_type": "stream",
     "text": [
      "[True, True, False, True]\n"
     ]
    },
    {
     "data": {
      "text/plain": [
       "['O', 'O', 'X', 'O']"
      ]
     },
     "execution_count": 294,
     "metadata": {},
     "output_type": "execute_result"
    }
   ],
   "source": [
    "solution(lst)"
   ]
  },
  {
   "cell_type": "markdown",
   "id": "c25d73f1-5319-465f-b58f-38c54efec9e1",
   "metadata": {},
   "source": [
    "### sol2 (쩌는거...)"
   ]
  },
  {
   "cell_type": "code",
   "execution_count": 318,
   "id": "4aeb64b2-7128-483d-bad6-782b7c98b82e",
   "metadata": {
    "tags": []
   },
   "outputs": [],
   "source": [
    "def valid(equation):\n",
    "    equation = equation.replace('=', '==')\n",
    "    return eval(equation)\n",
    "\n",
    "def solution(equations):\n",
    "    return [\"O\" if valid(equation) else \"X\" for equation in equations]"
   ]
  },
  {
   "cell_type": "code",
   "execution_count": 319,
   "id": "4275429d-ba82-4408-8096-c3f7b5d0e57e",
   "metadata": {
    "tags": []
   },
   "outputs": [
    {
     "data": {
      "text/plain": [
       "['O', 'O', 'X', 'O']"
      ]
     },
     "execution_count": 319,
     "metadata": {},
     "output_type": "execute_result"
    }
   ],
   "source": [
    "lst =[\"19 - 6 = 13\", \"5 + 66 = 71\", \"5 - 15 = 63\", \"3 - 1 = 2\"]\n",
    "solution(lst)"
   ]
  },
  {
   "cell_type": "markdown",
   "id": "31fe1078-286d-4e6f-89ae-b26b64091603",
   "metadata": {},
   "source": [
    "***"
   ]
  },
  {
   "cell_type": "markdown",
   "id": "05408675-d64f-4c64-8f4d-9e7ab97ba3c5",
   "metadata": {},
   "source": [
    "# Lv. 1"
   ]
  },
  {
   "cell_type": "markdown",
   "id": "ecf3945a-e0d8-4805-8e4b-9dc124b98a0a",
   "metadata": {},
   "source": [
    "## 1. 정수를 나선형으로 배치하기"
   ]
  },
  {
   "cell_type": "markdown",
   "id": "cc90f967-37c6-4a96-84f3-4e160b9de700",
   "metadata": {},
   "source": [
    "### sol"
   ]
  },
  {
   "cell_type": "markdown",
   "id": "ae718b35-1395-47fe-b427-892d534147b3",
   "metadata": {},
   "source": [
    "###"
   ]
  },
  {
   "cell_type": "code",
   "execution_count": 37,
   "id": "7bfbc227-cd7b-4933-bd3d-5fa0cc9a0180",
   "metadata": {
    "tags": []
   },
   "outputs": [],
   "source": [
    "def solution(n):\n",
    "    if n == 1:\n",
    "        return [[1]]\n",
    "    \n",
    "    answer = [[0 for j in range(n)] for i in range(n)] \n",
    "    x = 0\n",
    "    y = 0\n",
    "    dir = 'r'\n",
    "    for i in range(n*n):\n",
    "        answer[x][y] = i + 1\n",
    "        if dir == 'r':\n",
    "            y += 1\n",
    "            if y == n-1 or answer[x][y+1] != 0: \n",
    "                dir = 'd'\n",
    "        elif dir == 'd':\n",
    "            x += 1\n",
    "            if x == n-1 or answer[x+1][y] != 0:\n",
    "                dir = 'l'\n",
    "        elif dir == 'l':\n",
    "            y -= 1\n",
    "            if y == 0 or answer[x][y-1] != 0:\n",
    "                dir = 'u'\n",
    "        elif dir == 'u':\n",
    "            x -= 1\n",
    "            if x == n-1 or answer[x-1][y] != 0:\n",
    "                dir = 'r'        \n",
    "    return answer"
   ]
  },
  {
   "cell_type": "code",
   "execution_count": 38,
   "id": "7aaf78f4-0748-4899-ac44-8870f9bd2d64",
   "metadata": {
    "tags": []
   },
   "outputs": [
    {
     "data": {
      "text/plain": [
       "[[1, 2, 3, 4], [12, 13, 14, 5], [11, 16, 15, 6], [10, 9, 8, 7]]"
      ]
     },
     "execution_count": 38,
     "metadata": {},
     "output_type": "execute_result"
    }
   ],
   "source": [
    "solution(4)"
   ]
  },
  {
   "cell_type": "markdown",
   "id": "5d82c0aa-0e97-4a62-a2b7-9237c8a931c6",
   "metadata": {},
   "source": [
    "## 2. 직사각형 별찍기"
   ]
  },
  {
   "cell_type": "markdown",
   "id": "6305fc76-7986-4441-bb69-ea3d79b36537",
   "metadata": {},
   "source": [
    "`-` n과 m을 입력받아 $n \\times m$ 크기 만큼 `*` 채우기"
   ]
  },
  {
   "cell_type": "markdown",
   "id": "1ae254f6-7add-4244-ad58-b2894ed262ad",
   "metadata": {},
   "source": [
    "### sol 1"
   ]
  },
  {
   "cell_type": "code",
   "execution_count": 93,
   "id": "ab80df83-d7ec-4603-a377-de636ae93592",
   "metadata": {
    "tags": []
   },
   "outputs": [
    {
     "name": "stdin",
     "output_type": "stream",
     "text": [
      " 5 3\n"
     ]
    }
   ],
   "source": [
    "n,m = map(int,input().split())"
   ]
  },
  {
   "cell_type": "code",
   "execution_count": 92,
   "id": "dec466ab-c343-4d56-a437-ef5fbcc5de72",
   "metadata": {
    "tags": []
   },
   "outputs": [
    {
     "name": "stdout",
     "output_type": "stream",
     "text": [
      "*****\n",
      "*****\n",
      "*****\n",
      "\n"
     ]
    }
   ],
   "source": [
    "print((\"*\"*n +\"\\n\")*m)"
   ]
  },
  {
   "cell_type": "markdown",
   "id": "0b8df436-130b-4345-ba65-4a0e3c09087b",
   "metadata": {},
   "source": [
    "### sol 2"
   ]
  },
  {
   "cell_type": "code",
   "execution_count": 94,
   "id": "4e666c55-51aa-4967-b403-2b5e10546539",
   "metadata": {
    "tags": []
   },
   "outputs": [
    {
     "name": "stdout",
     "output_type": "stream",
     "text": [
      "*****\n",
      "*****\n",
      "*****\n"
     ]
    }
   ],
   "source": [
    "for i in range(m) :\n",
    "    print(\"*\"*n)"
   ]
  }
 ],
 "metadata": {
  "kernelspec": {
   "display_name": "Python 3 (ipykernel)",
   "language": "python",
   "name": "python3"
  },
  "language_info": {
   "codemirror_mode": {
    "name": "ipython",
    "version": 3
   },
   "file_extension": ".py",
   "mimetype": "text/x-python",
   "name": "python",
   "nbconvert_exporter": "python",
   "pygments_lexer": "ipython3",
   "version": "3.11.4"
  }
 },
 "nbformat": 4,
 "nbformat_minor": 5
}
