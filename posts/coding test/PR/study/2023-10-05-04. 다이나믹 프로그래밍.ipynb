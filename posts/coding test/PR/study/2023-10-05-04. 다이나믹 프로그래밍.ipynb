{
 "cells": [
  {
   "cell_type": "raw",
   "id": "8df26d16-41bd-4e77-9007-e03c170d8cca",
   "metadata": {},
   "source": [
    "---\n",
    "title : \"04. 다이나믹 프로그래밍\"\n",
    "author : \"GC\"\n",
    "date : \"10/08/23\"\n",
    "categories : [study, 다이나믹 프로그래밍]\n",
    "---"
   ]
  },
  {
   "cell_type": "markdown",
   "id": "46b9f11c-e32e-44bd-810e-8215d07d0d7d",
   "metadata": {},
   "source": [
    "# 피보나치 수열"
   ]
  },
  {
   "cell_type": "markdown",
   "id": "ded421f6-a09c-4d67-974a-c8704cf3b648",
   "metadata": {},
   "source": [
    "`-` 동적 프로그래밍의 대표적인 예제\n",
    "\n",
    "$$a_{n} = a_{n-1} + a_{n-2},\\quad n\\geq3$$"
   ]
  },
  {
   "cell_type": "markdown",
   "id": "d361c813",
   "metadata": {},
   "source": [
    "$$a_1 = 1, a_2 =1$$"
   ]
  },
  {
   "cell_type": "markdown",
   "id": "4f1987e7",
   "metadata": {},
   "source": [
    "if $n = 4$?"
   ]
  },
  {
   "cell_type": "markdown",
   "id": "91de035c",
   "metadata": {},
   "source": [
    "$$\\begin{align} \\text{fibo(4)} &= \\text{fibo(3)} + \\text{fibo(2)} \\\\\n",
    "                                                          &=  2 + 1 = 3\\end {align}$$"
   ]
  },
  {
   "cell_type": "markdown",
   "id": "7d3227e4",
   "metadata": {},
   "source": [
    "## 방법 1. 탑다운"
   ]
  },
  {
   "cell_type": "markdown",
   "id": "9cc236fb",
   "metadata": {},
   "source": [
    "`-` 재귀함수를 이용 : 큰 문제를 해결하기 위해 작은 문제를 호출하는 방식"
   ]
  },
  {
   "cell_type": "markdown",
   "id": "ae75370b",
   "metadata": {},
   "source": [
    "### 풀이 1 : 재귀함수"
   ]
  },
  {
   "cell_type": "code",
   "execution_count": 12,
   "id": "72fe5a2a",
   "metadata": {},
   "outputs": [],
   "source": [
    "def fibo1(n) :\n",
    "        if n == 1 or n == 2 :\n",
    "            return 1\n",
    "        return fibo1(n-1) + fibo1(n-2)"
   ]
  },
  {
   "cell_type": "code",
   "execution_count": 15,
   "id": "1a3d54d0",
   "metadata": {},
   "outputs": [
    {
     "data": {
      "text/plain": [
       "8"
      ]
     },
     "execution_count": 15,
     "metadata": {},
     "output_type": "execute_result"
    }
   ],
   "source": [
    "fibo1(6)"
   ]
  },
  {
   "cell_type": "markdown",
   "id": "d1f2940c",
   "metadata": {},
   "source": [
    "####  문제점"
   ]
  },
  {
   "cell_type": "markdown",
   "id": "7abfb6ce",
   "metadata": {},
   "source": [
    "`-` **fibo1(6)** 를 구하기 위해 **fibo(3)** 이 몇 번 호출될까?"
   ]
  },
  {
   "cell_type": "code",
   "execution_count": 23,
   "id": "151e55bc",
   "metadata": {},
   "outputs": [],
   "source": [
    "def fibo1(n) :\n",
    "        if n == 1 or n == 2 :\n",
    "            return 1\n",
    "        if n == 3:\n",
    "            print(n)\n",
    "        return fibo1(n-1) + fibo1(n-2)"
   ]
  },
  {
   "cell_type": "code",
   "execution_count": 24,
   "id": "80a32814",
   "metadata": {},
   "outputs": [
    {
     "name": "stdout",
     "output_type": "stream",
     "text": [
      "3\n",
      "3\n",
      "3\n"
     ]
    },
    {
     "data": {
      "text/plain": [
       "8"
      ]
     },
     "execution_count": 24,
     "metadata": {},
     "output_type": "execute_result"
    }
   ],
   "source": [
    "fibo1(6)"
   ]
  },
  {
   "cell_type": "markdown",
   "id": "4ba30792",
   "metadata": {},
   "source": [
    "`-` 이를 직관적으로 표현하면...??"
   ]
  },
  {
   "cell_type": "markdown",
   "id": "9edc60bd",
   "metadata": {},
   "source": [
    "```python\n",
    "fibo(6) = fibo(5) + fibo(4)\n",
    "\n",
    "fibo(5) = fibo(4) + fibo(3)....  ## 1번\n",
    "\n",
    "fibo(4) = fibo(3) + fibo(2)... ## 2번\n",
    "\n",
    "fibo(3) = fibo(2) + fibo(1)... ## 3번\n",
    "....\n",
    "```"
   ]
  },
  {
   "cell_type": "markdown",
   "id": "29f902bc",
   "metadata": {},
   "source": [
    "`-` 총 3번 호출된다.\n",
    "\n",
    "* 여기서 말하는 문제점은 단순히 재귀함수를 통해 **매번 계산하는 방식**은 **비효율적이라는 것이다.**"
   ]
  },
  {
   "cell_type": "markdown",
   "id": "29c837e0",
   "metadata": {},
   "source": [
    "* `f(n)`에서 `n`이 커질수록, 반복해서 호출하고 계산하고...**벌써 끔찍함..**"
   ]
  },
  {
   "cell_type": "markdown",
   "id": "310d86a7",
   "metadata": {},
   "source": [
    "*  이러한 문제점을 해결하기 위해 **\"메모제이션을 활용한 TOP-down\"** 또는 **\"DP 테이블을 활용한 Bottom-Up\"** 방식이 사용된다."
   ]
  },
  {
   "cell_type": "markdown",
   "id": "e08f63c0",
   "metadata": {},
   "source": [
    "### 풀이 2 : `Top-Down(재귀함수)` + `메모제이션`"
   ]
  },
  {
   "cell_type": "markdown",
   "id": "d27aacf3",
   "metadata": {},
   "source": [
    "`-` 메모제이션(Memoization) : 한 번 계산한 결과를 메모리 공간에 메모하는 기법\n",
    "* 같은 문제를 다시 호출하면 메모했던 결과를 그대로 가져옴\n",
    "* 값을 기록해 놓는다는 점에서 **캐싱(Cashing)** 이라고도 한다.."
   ]
  },
  {
   "cell_type": "code",
   "execution_count": 28,
   "id": "028c0d51",
   "metadata": {},
   "outputs": [],
   "source": [
    "## step 1. 한 번 계산된 결과를 메모제이션 하기 위한 리스트 초기화\n",
    "d = [0] * 100\n",
    "\n",
    "def fibo(x) :\n",
    "        if x ==1 or x== 2:\n",
    "            return 1\n",
    "        ## step 2. 만약 이전의 결과를 저장해 놓았다면 그 값을 그대로 반환\n",
    "        if d[x] != 0:\n",
    "            print(\"어 이전에 값을 저장해 두셨네요! 핳\")\n",
    "            return d[x]\n",
    "        ## step 3. 아직 계산하지 않은 문제라면 점화식에 따라서 피보나치 결과를 반환\n",
    "        if x == 3:\n",
    "            print(x)\n",
    "        print(\"저장해둔 값이 없네요...\")\n",
    "        d[x] = fibo(x-1) + fibo(x-2)\n",
    "        return d[x]"
   ]
  },
  {
   "cell_type": "markdown",
   "id": "f7a55faf",
   "metadata": {},
   "source": [
    "`-` 아래와 같이 `fibo(3)`을 계산하려고 할 떄 저장된 값이 있다면? 그냥 값을 가져옴을 확인할 수 있다!!"
   ]
  },
  {
   "cell_type": "code",
   "execution_count": 29,
   "id": "8cbe8ec7",
   "metadata": {},
   "outputs": [
    {
     "name": "stdout",
     "output_type": "stream",
     "text": [
      "저장해둔 값이 없네요...\n",
      "저장해둔 값이 없네요...\n",
      "저장해둔 값이 없네요...\n",
      "3\n",
      "저장해둔 값이 없네요...\n",
      "어 이전에 값을 저장해 두셨네요! 핳\n",
      "어 이전에 값을 저장해 두셨네요! 핳\n"
     ]
    },
    {
     "data": {
      "text/plain": [
       "8"
      ]
     },
     "execution_count": 29,
     "metadata": {},
     "output_type": "execute_result"
    }
   ],
   "source": [
    "fibo(6)"
   ]
  },
  {
   "cell_type": "markdown",
   "id": "7335c49d",
   "metadata": {},
   "source": [
    "## 방법 2. 보텀업"
   ]
  },
  {
   "cell_type": "markdown",
   "id": "8f2ed13a",
   "metadata": {},
   "source": [
    "`-` 단순히 **반복문**을 이용하여 작은 문제를 먼저 해결하고, 해결된 작은 문제를 모아 큰 문제를 해결하는 방식"
   ]
  },
  {
   "cell_type": "code",
   "execution_count": 33,
   "id": "f7dfe2fe",
   "metadata": {},
   "outputs": [
    {
     "name": "stdout",
     "output_type": "stream",
     "text": [
      "8\n"
     ]
    }
   ],
   "source": [
    " # 앞서 계산된 결과를 저장하기 위한 테이블 초기화\n",
    "d = [0] * 100\n",
    "\n",
    "  # 첫 번째 피보나치 수와 두 번째 피보나치 수는 1\n",
    "d[1] = 1\n",
    "d[2] = 1\n",
    "n = 6\n",
    "\n",
    "  # 피보나치 함수(Fibonacci Function) 반복문으로 구현(보텀업 다이나믹 프로그래밍)\n",
    "for i in range(3, n + 1):\n",
    "    d[i] = d[i - 1] + d[i - 2]\n",
    "\n",
    "print(d[n])"
   ]
  },
  {
   "cell_type": "markdown",
   "id": "0e6e5b91",
   "metadata": {},
   "source": [
    "# summary 1"
   ]
  },
  {
   "cell_type": "markdown",
   "id": "c30e0a4f",
   "metadata": {},
   "source": [
    "`-` 다이나믹 프로그래밍이란,  프로그램이 실행되는 도중에 실행에 필요한 메모리를 할당하는 기법이다."
   ]
  },
  {
   "cell_type": "markdown",
   "id": "1bcbdb60",
   "metadata": {},
   "source": [
    "`-` 이에 덧붙여,  한 번 계산한 답은 **다시 계산하지 않도록 하는 문제 해결 기법**임"
   ]
  },
  {
   "cell_type": "markdown",
   "id": "c4d3b890",
   "metadata": {},
   "source": [
    "`-` 피보나치 수열 예제에서 볼 수 있듯이, `탑다운(재귀 함수)`를 이용할 경우 `메모리제이션` 기법과 함꼐 사용하지 않으면 `오버헤드`가 발생하는 것을 확인하였음...."
   ]
  },
  {
   "cell_type": "markdown",
   "id": "08e9ed37",
   "metadata": {},
   "source": [
    "`-`  가능하면 다이나믹 프로그래밍 문제에서는 `보텀업` 방식을 사용하자.."
   ]
  },
  {
   "cell_type": "markdown",
   "id": "e3eba538",
   "metadata": {},
   "source": [
    "`-` 다음과 같은 조건일 때 **다이나믹 프로그래밍**을 사용할 수 있다."
   ]
  },
  {
   "cell_type": "markdown",
   "id": "01d18d91",
   "metadata": {},
   "source": [
    "1. **최적 부분 구조(Optimal Substructure)**  : 작은 문제의 답을 모아서 큰 문제를 해결할 수 있는 문제\n",
    "\n",
    "2. **중복되는 부분 문제(Overlapping Subprobelm)** : 동일한 작은 문제를 반복적으로 해결해야함\n",
    "\n",
    "3. 위 조건을 충족하려면 일단 텅빈 DP table을 할당 후 거기에 모든 경우를 다담아놔야됨...(뭔말인지 문제 풀다보면 암)"
   ]
  },
  {
   "cell_type": "markdown",
   "id": "d1caec3b",
   "metadata": {},
   "source": [
    "****"
   ]
  },
  {
   "cell_type": "markdown",
   "id": "09b1e36f",
   "metadata": {},
   "source": [
    "# study"
   ]
  },
  {
   "cell_type": "markdown",
   "id": "54949a4b",
   "metadata": {},
   "source": [
    "## ex1. K번째 수"
   ]
  },
  {
   "cell_type": "markdown",
   "id": "43d6f4d8",
   "metadata": {},
   "source": [
    "배열 array의 i번째 숫자부터 j번째 숫자까지 자르고 정렬했을 때, k번째에 있는 수를 구하려 합니다.\n",
    "\n",
    "예를 들어 array가 [1, 5, 2, 6, 3, 7, 4], i = 2, j = 5, k = 3이라면\n",
    "\n",
    "1. array의 2번째부터 5번째까지 자르면 [5, 2, 6, 3]입니다.\n",
    "\n",
    "2. 1에서 나온 배열을 정렬하면 [2, 3, 5, 6]입니다.\n",
    "\n",
    "3. 2에서 나온 배열의 3번째 숫자는 5입니다.\n",
    "\n",
    "배열 array, [i, j, k]를 원소로 가진 2차원 배열 commands가 매개변수로 주어질 때, commands의 모든 원소에 대해 앞서 설명한 연산을 적용했을 때 나온 결과를 배열에 담아 return 하도록 solution 함수를 작성해주세요."
   ]
  },
  {
   "cell_type": "markdown",
   "id": "b4d6ed9e",
   "metadata": {},
   "source": [
    "### sol"
   ]
  },
  {
   "cell_type": "markdown",
   "id": "70112cb2",
   "metadata": {},
   "source": [
    "`-` 예비학습"
   ]
  },
  {
   "cell_type": "code",
   "execution_count": 11,
   "id": "20c87a80",
   "metadata": {},
   "outputs": [],
   "source": [
    "array = [1, 5, 2, 6 ,3 ,7]\n",
    "commands = [[2, 5, 3], [4, 4, 1], [1, 7, 3]]"
   ]
  },
  {
   "cell_type": "code",
   "execution_count": 12,
   "id": "874cef84",
   "metadata": {},
   "outputs": [
    {
     "name": "stdout",
     "output_type": "stream",
     "text": [
      "[5]\n",
      "[5, 6]\n",
      "[5, 6, 3]\n"
     ]
    },
    {
     "data": {
      "text/plain": [
       "[5, 6, 3]"
      ]
     },
     "execution_count": 12,
     "metadata": {},
     "output_type": "execute_result"
    }
   ],
   "source": [
    "result = []\n",
    "for c in commands :\n",
    "    i, j, k = c\n",
    "    result.append((sorted(array[i-1:j])[k-1]))\n",
    "    print(result)\n",
    "result"
   ]
  },
  {
   "cell_type": "markdown",
   "id": "16ed5529",
   "metadata": {},
   "source": [
    "`-` 함수로 작성"
   ]
  },
  {
   "cell_type": "code",
   "execution_count": 32,
   "id": "09c9c184",
   "metadata": {},
   "outputs": [],
   "source": [
    "def solution(array, commands) :\n",
    "    result = []\n",
    "    for c in commands :  \n",
    "        i, j, k = c\n",
    "        result.append((sorted(array[i-1:j])[k-1]))\n",
    "    return result"
   ]
  },
  {
   "cell_type": "code",
   "execution_count": 31,
   "id": "5691580d",
   "metadata": {},
   "outputs": [
    {
     "data": {
      "text/plain": [
       "[5, 6, 3]"
      ]
     },
     "execution_count": 31,
     "metadata": {},
     "output_type": "execute_result"
    }
   ],
   "source": [
    "solutions(array,commands)"
   ]
  },
  {
   "cell_type": "markdown",
   "id": "d6e91f02",
   "metadata": {},
   "source": [
    "## ex2. 완주하지 못한 선수"
   ]
  },
  {
   "cell_type": "markdown",
   "id": "af4b31f7",
   "metadata": {},
   "source": [
    "[완주하지 못한 선수](https://gangcheol.github.io/IA2023/posts/coding%20test/PR/study/2023-09-24-03.%20PR%20study%20(4).html#sol2-1)"
   ]
  },
  {
   "cell_type": "markdown",
   "id": "d16c7369",
   "metadata": {},
   "source": [
    "## ex3. RGB 거리"
   ]
  },
  {
   "cell_type": "markdown",
   "id": "c944deb5",
   "metadata": {},
   "source": [
    "RGB거리에는 집이 N개 있다. 거리는 선분으로 나타낼 수 있고, 1번 집부터 N번 집이 순서대로 있다.\n",
    "\n",
    "집은 빨강, 초록, 파랑 중 하나의 색으로 칠해야 한다. 각각의 집을 빨강, 초록, 파랑으로 칠하는 비용이 주어졌을 때, 아래 규칙을 만족하면서 모든 집을 칠하는 비용의 최솟값을 구해보자.\n",
    "\n",
    "* 1번 집의 색은 2번 집의 색과 같지 않아야 한다.\n",
    "* N번 집의 색은 N-1번 집의 색과 같지 않아야 한다.\n",
    "* i(2 ≤ i ≤ N-1)번 집의 색은 i-1번, i+1번 집의 색과 같지 않아야 한다."
   ]
  },
  {
   "cell_type": "markdown",
   "id": "df4cd34c",
   "metadata": {},
   "source": [
    "`-` 입력"
   ]
  },
  {
   "cell_type": "markdown",
   "id": "9b0d064f",
   "metadata": {},
   "source": [
    "첫째 줄에 집의 수 N(2 ≤ N ≤ 1,000)이 주어진다. 둘째 줄부터 N개의 줄에는 각 집을 빨강, 초록, 파랑으로 칠하는 비용이 1번 집부터 한 줄에 하나씩 주어진다. 집을 칠하는 비용은 1,000보다 작거나 같은 자연수이다."
   ]
  },
  {
   "cell_type": "markdown",
   "id": "a79556bb",
   "metadata": {},
   "source": [
    "`-` 출력"
   ]
  },
  {
   "cell_type": "markdown",
   "id": "37fd9247",
   "metadata": {},
   "source": [
    "첫째 줄에 모든 집을 칠하는 비용의 최솟값을 출력한다."
   ]
  },
  {
   "cell_type": "markdown",
   "id": "a497f798",
   "metadata": {},
   "source": [
    "`-` 접근법 : 보텀업 방식\n",
    "    \n",
    "*  i번째 집과 i-1 번째집의 색깔이 같으며 안되므로 i번쨰 집이 `0`의 색깔일 때, `i-1`번쨰 집이 `1,2` 인 경우 작은 값을 더 해서 쌓자"
   ]
  },
  {
   "cell_type": "markdown",
   "id": "f3d0dd7b",
   "metadata": {},
   "source": [
    "### sol"
   ]
  },
  {
   "cell_type": "code",
   "execution_count": 33,
   "id": "5db1fdd7",
   "metadata": {
    "scrolled": true
   },
   "outputs": [
    {
     "name": "stdout",
     "output_type": "stream",
     "text": [
      "3\n",
      "26 40 83\n",
      "49 60 57\n",
      "13 89 99\n"
     ]
    },
    {
     "data": {
      "text/plain": [
       "[[26, 40, 83], [89, 86, 83], [96, 172, 185]]"
      ]
     },
     "execution_count": 33,
     "metadata": {},
     "output_type": "execute_result"
    }
   ],
   "source": [
    "n = int(input())\n",
    "a = [0]*n\n",
    "\n",
    "for i in range(n):\n",
    "    a[i] = list(map(int,input().split()))\n",
    "    \n",
    "for i in range(1,n): \n",
    "    a[i][0]= min(a[i-1][1],a[i-1][2]) + a[i][0] \n",
    "    a[i][1]= min(a[i-1][0],a[i-1][2]) + a[i][1]\n",
    "    a[i][2]= min(a[i-1][0],a[i-1][1]) + a[i][2]"
   ]
  },
  {
   "cell_type": "code",
   "execution_count": 37,
   "id": "dc22d3ef",
   "metadata": {},
   "outputs": [
    {
     "name": "stdout",
     "output_type": "stream",
     "text": [
      "96\n"
     ]
    }
   ],
   "source": [
    "print(min(a[n-1][0],a[n-1][1],a[n-1][2]))"
   ]
  },
  {
   "cell_type": "markdown",
   "id": "aac9a829",
   "metadata": {},
   "source": [
    "## ex4. 계단 오르기"
   ]
  },
  {
   "cell_type": "markdown",
   "id": "0d96f444",
   "metadata": {},
   "source": [
    "계단 오르기 게임은 계단 아래 시작점부터 계단 꼭대기에 위치한 도착점까지 가는 게임이다. <그림 1>과 같이 각각의 계단에는 일정한 점수가 쓰여 있는데 계단을 밟으면 그 계단에 쓰여 있는 점수를 얻게 된다."
   ]
  },
  {
   "cell_type": "markdown",
   "id": "52b7b4d4",
   "metadata": {},
   "source": [
    "<center> <img src = \"계단오르기.png\" width = 400> </center>"
   ]
  },
  {
   "cell_type": "markdown",
   "id": "0a540f7f",
   "metadata": {},
   "source": [
    "예를 들어 <그림 2>와 같이 시작점에서부터 첫 번째, 두 번째, 네 번째, 여섯 번째 계단을 밟아 도착점에 도달하면 총 점수는 10 + 20 + 25 + 20 = 75점이 된다."
   ]
  },
  {
   "cell_type": "markdown",
   "id": "1d3ca721",
   "metadata": {},
   "source": [
    "계단 오르는 데는 다음과 같은 규칙이 있다.\n",
    "\n",
    "1. 계단은 한 번에 한 계단씩 또는 두 계단씩 오를 수 있다. 즉, 한 계단을 밟으면서 이어서 다음 계단이나, 다음 다음 계단으로 오를 수 있다.\n",
    "\n",
    "2. 연속된 세 개의 계단을 모두 밟아서는 안 된다. 단, 시작점은 계단에 포함되지 않는다.\n",
    "\n",
    "3. 마지막 도착 계단은 반드시 밟아야 한다.\n",
    "\n",
    "따라서 첫 번째 계단을 밟고 이어 두 번째 계단이나, 세 번째 계단으로 오를 수 있다. 하지만, 첫 번째 계단을 밟고 이어 네 번째 계단으로 올라가거나, 첫 번째, 두 번째, 세 번째 계단을 연속해서 모두 밟을 수는 없다.\n",
    "\n",
    "각 계단에 쓰여 있는 점수가 주어질 때 이 게임에서 얻을 수 있는 총 점수의 최댓값을 구하는 프로그램을 작성하시오."
   ]
  },
  {
   "cell_type": "markdown",
   "id": "8065455c",
   "metadata": {},
   "source": [
    "### sol"
   ]
  },
  {
   "cell_type": "markdown",
   "id": "d7d493cb",
   "metadata": {},
   "source": [
    "`-` 점화식 1. $(i \\geq 3)$"
   ]
  },
  {
   "cell_type": "markdown",
   "id": "6295e480",
   "metadata": {},
   "source": [
    "* 연속된 3개의 계단을 밞을 수 없으므로 1칸, 1칸 간 경우와\n",
    "\n",
    "* 한번에 2칸 간 경우, 최대값을 구하면 된다."
   ]
  },
  {
   "cell_type": "markdown",
   "id": "f3e5f7e0",
   "metadata": {},
   "source": [
    "$$\\text{dp}[i] = \\text {max}(\\text {dp}[i-3] + \\text {s}[i-1] + s[i], \\text{dp}[i-2] + s[i])$$"
   ]
  },
  {
   "cell_type": "code",
   "execution_count": 44,
   "id": "3dd0ddeb",
   "metadata": {},
   "outputs": [
    {
     "name": "stdout",
     "output_type": "stream",
     "text": [
      "6\n",
      "10\n",
      "20\n",
      "15\n",
      "20\n",
      "25\n",
      "20\n",
      "80\n"
     ]
    }
   ],
   "source": [
    "n = int(input()) # 계단 개수 입력\n",
    "\n",
    "for i in range(n):\n",
    "    s[i] = list(map(int,input().split()))\n",
    "\n",
    "dp=[0]*(n) \n",
    "\n",
    "if len(s)<=2: # 계단의 개수 가 2인 경우\n",
    "    print(sum(s))\n",
    "\n",
    "else: # 계단이 3개 이상일 때\n",
    "    dp[0]=s[0] # 첫째 계단 수동 계산\n",
    "    dp[1]=s[0]+s[1] # 둘째 계단까지 수동 계산\n",
    "    \n",
    "    for i in range(2,n):\n",
    "        dp[i]=max(dp[i-3]+s[i-1]+s[i], dp[i-2]+s[i])\n",
    "    print(dp[-1])"
   ]
  },
  {
   "cell_type": "markdown",
   "id": "072818d9",
   "metadata": {},
   "source": [
    "## ex 5. 가장 긴 증가하는 부분 수열"
   ]
  },
  {
   "cell_type": "markdown",
   "id": "519919c7",
   "metadata": {},
   "source": [
    "### sol"
   ]
  },
  {
   "cell_type": "code",
   "execution_count": 105,
   "id": "80f306ed",
   "metadata": {
    "scrolled": true
   },
   "outputs": [
    {
     "name": "stdout",
     "output_type": "stream",
     "text": [
      "6\n",
      " 10 20 10 30 20 50\n",
      "i번째 result :  1\n",
      "i번째 result :  2\n",
      "i번째 result :  2\n",
      "i번째 result :  3\n",
      "i번째 result :  3\n",
      "i번째 result :  4\n",
      "4\n"
     ]
    }
   ],
   "source": [
    "n=int(input())\n",
    "A = list(map(int, input().split()))\n",
    "\n",
    "dp = [0]*1001 ## dp 초기화\n",
    "result = 0\n",
    "\n",
    "for i in range(n):\n",
    "    num = A[i] ## i 번째 원소 전달\n",
    "    dp[num] = max(dp[0:num])+1 \n",
    "    result = max(result, dp[num])\n",
    "    print(\"i번째 result : \", result)\n",
    "print(result)"
   ]
  },
  {
   "cell_type": "markdown",
   "id": "cfec4d10",
   "metadata": {},
   "source": [
    "## ex4. 2xN 타일링과 쿼리 (못품...)"
   ]
  },
  {
   "cell_type": "markdown",
   "id": "ba546378",
   "metadata": {},
   "source": [
    "2xN 크기의 직사각형에 1x2 또는 2x1크기의 타일로 채우는 방법의 수를 구하는 문제는 잘 알려져 있다.\n",
    "\n",
    "최초에 아무런 제한이 없는 2xN 직사각형에 블럭을 놓는 칸에 대한 제한이 빈번히 생기고 사라질 때 제한을 제외한 나머지 칸을 전부 채우는 방법의 수를 구하는 프로그램을 작성하시오."
   ]
  },
  {
   "cell_type": "markdown",
   "id": "3e4657d0",
   "metadata": {},
   "source": [
    "각 쿼리는 다음과 같다."
   ]
  },
  {
   "cell_type": "markdown",
   "id": "ecd98861",
   "metadata": {},
   "source": [
    "* 1 x y : (x,y)의 위치에 블럭을 놓을 수 없다는 제한을 추가한다. 이전에 제한이 없었음이 보장된다.\n",
    "\n",
    "* 2 x y : (x,y)의 위치에 블럭을 놓을 수 없다는 제한을 삭제한다. 이전에 제한이 있었음이 보장된다."
   ]
  },
  {
   "cell_type": "markdown",
   "id": "81497bae-4543-41dc-95c5-c4ff3deca7cf",
   "metadata": {},
   "source": [
    "***"
   ]
  },
  {
   "cell_type": "markdown",
   "id": "d08a69d6-00f0-44d0-98de-baed1e03a08f",
   "metadata": {},
   "source": [
    "# study"
   ]
  },
  {
   "cell_type": "markdown",
   "id": "f5fd561e-efed-4770-a275-77a45e359bae",
   "metadata": {},
   "source": [
    "## ex1. 바이러스"
   ]
  },
  {
   "cell_type": "markdown",
   "id": "4a54f975-e933-46bb-bdb9-7a308c29a63c",
   "metadata": {},
   "source": [
    "신종 바이러스인 웜 바이러스는 네트워크를 통해 전파된다. 한 컴퓨터가 웜 바이러스에 걸리면 그 컴퓨터와 네트워크 상에서 연결되어 있는 모든 컴퓨터는 웜 바이러스에 걸리게 된다.\n",
    "\n",
    "예를 들어 7대의 컴퓨터가 <그림 1>과 같이 네트워크 상에서 연결되어 있다고 하자. 1번 컴퓨터가 웜 바이러스에 걸리면 웜 바이러스는 2번과 5번 컴퓨터를 거쳐 3번과 6번 컴퓨터까지 전파되어 `2, 3, 5, 6` 네 대의 컴퓨터는 웜 바이러스에 걸리게 된다. 하지만 4번과 7번 컴퓨터는 1번 컴퓨터와 네트워크상에서 연결되어 있지 않기 때문에 영향을 받지 않는다."
   ]
  },
  {
   "cell_type": "markdown",
   "id": "0b88e1e4-3ee5-446a-beb8-218579908b88",
   "metadata": {},
   "source": [
    "<center> <img src = \"https://www.acmicpc.net/upload/images/zmMEZZ8ioN6rhCdHmcIT4a7.png\" width =  239> </center>"
   ]
  },
  {
   "cell_type": "markdown",
   "id": "35a8c6cf-1fb0-4905-9900-20664e111857",
   "metadata": {},
   "source": [
    "> 입력\n",
    "\n",
    "첫째 줄에는 컴퓨터의 수가 주어진다. 컴퓨터의 수는 100 이하인 양의 정수이고 각 컴퓨터에는 1번 부터 차례대로 번호가 매겨진다. 둘째 줄에는 네트워크 상에서 직접 연결되어 있는 컴퓨터 쌍의 수가 주어진다. 이어서 그 수만큼 한 줄에 한 쌍씩 네트워크 상에서 직접 연결되어 있는 컴퓨터의 번호 쌍이 주어진다."
   ]
  },
  {
   "cell_type": "markdown",
   "id": "1c02883a-408b-40ea-9900-be7379f6594a",
   "metadata": {},
   "source": [
    "```python\n",
    "7\n",
    "6\n",
    "1 2\n",
    "2 3\n",
    "1 5\n",
    "5 2\n",
    "5 6\n",
    "4 7\n",
    "```"
   ]
  },
  {
   "cell_type": "markdown",
   "id": "032dd5e3-4225-4862-a88a-cff97af29d2e",
   "metadata": {},
   "source": [
    "> 출력\n",
    "\n",
    "1번 컴퓨터가 웜 바이러스에 걸렸을 때, 1번 컴퓨터를 통해 웜 바이러스에 걸리게 되는 컴퓨터의 수를 첫째 줄에 출력한다."
   ]
  },
  {
   "cell_type": "markdown",
   "id": "8aa37699-b82a-47b1-ae72-0ccabf275bd9",
   "metadata": {},
   "source": [
    "### sol"
   ]
  },
  {
   "cell_type": "markdown",
   "id": "dcfeb464-c3c1-4482-b669-dd713b594a54",
   "metadata": {},
   "source": [
    "`-`dfs를 이용한 풀이"
   ]
  },
  {
   "cell_type": "code",
   "execution_count": 82,
   "id": "fa6fd043-59b5-4780-850c-7ba3630baac4",
   "metadata": {
    "tags": []
   },
   "outputs": [
    {
     "name": "stdin",
     "output_type": "stream",
     "text": [
      " 7\n",
      " 6\n",
      " 2 3\n",
      " 1 2\n",
      " 1 5\n",
      " 5 2\n",
      " 5 6\n",
      " 4 7\n"
     ]
    },
    {
     "name": "stdout",
     "output_type": "stream",
     "text": [
      "4\n"
     ]
    }
   ],
   "source": [
    "# 컴퓨터\n",
    "v = int(input())\n",
    "\n",
    "# 네트워크 쌍\n",
    "e = int(input())\n",
    "\n",
    "graph = [[] for _ in range(v+1)]\n",
    "for _ in range(e):\n",
    "    a, b = map(int, input().split())\n",
    "    graph[a].append(b)\n",
    "    graph[b].append(a)\n",
    "\n",
    "# 재귀적 구현\n",
    "def dfs(x):\n",
    "    global count ## 전역변수 설정\n",
    "    visited[x] = True\n",
    "    count += 1\n",
    "    for node in graph[x]: \n",
    "        if visited[node]:\n",
    "            continue\n",
    "        dfs(node)\n",
    "\n",
    "count = 0\n",
    "visited = [False for _ in range(v+1)]\n",
    "dfs(1)\n",
    "print(count-1)"
   ]
  },
  {
   "cell_type": "markdown",
   "id": "cdb283bc-4e9c-4d98-8cdf-9b606ce8b6d9",
   "metadata": {},
   "source": [
    "## ex 2. 단지번호 붙이기"
   ]
  },
  {
   "cell_type": "markdown",
   "id": "fdb44358-1738-4d10-bc10-c2363b253c46",
   "metadata": {},
   "source": [
    "<그림 1>과 같이 정사각형 모양의 지도가 있다. 1은 집이 있는 곳을, 0은 집이 없는 곳을 나타낸다. 철수는 이 지도를 가지고 연결된 집의 모임인 단지를 정의하고, 단지에 번호를 붙이려 한다. 여기서 연결되었다는 것은 어떤 집이 좌우, 혹은 아래위로 다른 집이 있는 경우를 말한다. 대각선상에 집이 있는 경우는 연결된 것이 아니다. <그림 2>는 <그림 1>을 단지별로 번호를 붙인 것이다. 지도를 입력하여 단지수를 출력하고, 각 단지에 속하는 집의 수를 오름차순으로 정렬하여 출력하는 프로그램을 작성하시오."
   ]
  },
  {
   "cell_type": "markdown",
   "id": "c321d724-e0e7-4a85-808e-0dcc0ff45bf0",
   "metadata": {},
   "source": [
    "<center><img src = \"https://www.acmicpc.net/upload/images/ITVH9w1Gf6eCRdThfkegBUSOKd.png\"></center>"
   ]
  },
  {
   "cell_type": "markdown",
   "id": "24f73cb6-52d5-4fde-bacf-c2685f9be168",
   "metadata": {},
   "source": [
    "`=` 입력조건"
   ]
  },
  {
   "cell_type": "markdown",
   "id": "bb610206-383a-4155-a0c7-e3a8edc2401e",
   "metadata": {},
   "source": [
    "첫 번째 줄에는 지도의 크기 N(정사각형이므로 가로와 세로의 크기는 같으며 5≤N≤25)이 입력되고, 그 다음 N줄에는 각각 N개의 자료(0혹은 1)가 입력된다."
   ]
  },
  {
   "cell_type": "markdown",
   "id": "64d23967-9edc-4083-891d-a70425bd4bbb",
   "metadata": {},
   "source": [
    "`-` 출력조건"
   ]
  },
  {
   "cell_type": "markdown",
   "id": "8ffbfee3-24fb-4a81-aebe-c25f240de2bf",
   "metadata": {},
   "source": [
    "첫 번째 줄에는 지도의 크기 N(정사각형이므로 가로와 세로의 크기는 같으며 5≤N≤25)이 입력되고, 그 다음 N줄에는 각각 N개의 자료(0혹은 1)가 입력된다."
   ]
  },
  {
   "cell_type": "markdown",
   "id": "cb433593-ae46-460a-b212-66f7637ca2f0",
   "metadata": {},
   "source": [
    "### sol"
   ]
  },
  {
   "cell_type": "markdown",
   "id": "53d8004c-723d-419a-baa8-40085521cc7f",
   "metadata": {},
   "source": [
    "`-` dfs를 이용한 풀이"
   ]
  },
  {
   "cell_type": "code",
   "execution_count": 93,
   "id": "d4f39bd0-aa5a-4587-a63e-19caafc1da45",
   "metadata": {
    "tags": []
   },
   "outputs": [
    {
     "name": "stdin",
     "output_type": "stream",
     "text": [
      " 7\n",
      " 0110100\n",
      " 0110101\n",
      " 1110101\n",
      " 0000111\n",
      " 0100000\n",
      " 0111110\n",
      " 0111000\n"
     ]
    },
    {
     "name": "stdout",
     "output_type": "stream",
     "text": [
      "7\n",
      "[[0, 1, 1, 0, 1, 0, 0], [0, 1, 1, 0, 1, 0, 1], [1, 1, 1, 0, 1, 0, 1], [0, 0, 0, 0, 1, 1, 1], [0, 1, 0, 0, 0, 0, 0], [0, 1, 1, 1, 1, 1, 0], [0, 1, 1, 1, 0, 0, 0]]\n"
     ]
    }
   ],
   "source": [
    "n = int(input()) ## 가로 세로 길이\n",
    "graph = []\n",
    "\n",
    "for i in range(n):\n",
    "    graph.append(list(map(int, input())))\n",
    "\n",
    "dx = [0, 0, 1, -1]\n",
    "dy = [1, -1, 0, 0]\n",
    "print(n)\n",
    "print(graph)"
   ]
  },
  {
   "cell_type": "code",
   "execution_count": 94,
   "id": "a3cd0669-a679-44df-82d3-9bc18ed529d1",
   "metadata": {
    "tags": []
   },
   "outputs": [],
   "source": [
    "## 재귀함수 작성\n",
    "def DFS(x, y):\n",
    "    if x < 0 or x >= n or y < 0 or y >= n:\n",
    "        return False\n",
    "\n",
    "    if graph[x][y] == 1:\n",
    "        global count\n",
    "        count += 1\n",
    "        graph[x][y] = 0\n",
    "        for i in range(4):\n",
    "            nx = x + dx[i] ## x좌표\n",
    "            ny = y + dy[i] ## y좌표\n",
    "            DFS(nx, ny)\n",
    "        return True\n",
    "    return False"
   ]
  },
  {
   "cell_type": "code",
   "execution_count": 95,
   "id": "03184e1b-f694-40ee-a69b-1bc844c6969e",
   "metadata": {
    "tags": []
   },
   "outputs": [
    {
     "name": "stdout",
     "output_type": "stream",
     "text": [
      "3\n",
      "7\n",
      "8\n",
      "9\n"
     ]
    }
   ],
   "source": [
    "count = 0\n",
    "result = 0\n",
    "num = []\n",
    "\n",
    "for i in range(n):\n",
    "    for j in range(n):\n",
    "        if DFS(i, j) == True:\n",
    "            num.append(count)\n",
    "            result += 1\n",
    "            count = 0\n",
    "\n",
    "num.sort()\n",
    "print(result)\n",
    "for i in range(len(num)):\n",
    "    print(num[i])"
   ]
  },
  {
   "cell_type": "markdown",
   "id": "7c93c0b8-f8b1-4f4c-b094-cf47f4da9573",
   "metadata": {},
   "source": [
    "## ex 3. 유기농 배추"
   ]
  },
  {
   "cell_type": "markdown",
   "id": "d07c3278-12c7-4dd8-806b-efe43e22295c",
   "metadata": {},
   "source": [
    "차세대 영농인 한나는 강원도 고랭지에서 유기농 배추를 재배하기로 하였다. 농약을 쓰지 않고 배추를 재배하려면 배추를 해충으로부터 보호하는 것이 중요하기 때문에, 한나는 해충 방지에 효과적인 배추흰지렁이를 구입하기로 결심한다. 이 지렁이는 배추근처에 서식하며 해충을 잡아 먹음으로써 배추를 보호한다. 특히, 어떤 배추에 배추흰지렁이가 한 마리라도 살고 있으면 이 지렁이는 인접한 다른 배추로 이동할 수 있어, 그 배추들 역시 해충으로부터 보호받을 수 있다. 한 배추의 상하좌우 네 방향에 다른 배추가 위치한 경우에 서로 인접해있는 것이다.\n",
    "\n",
    "한나가 배추를 재배하는 땅은 고르지 못해서 배추를 군데군데 심어 놓았다. 배추들이 모여있는 곳에는 배추흰지렁이가 한 마리만 있으면 되므로 서로 인접해있는 배추들이 몇 군데에 퍼져있는지 조사하면 총 몇 마리의 지렁이가 필요한지 알 수 있다. 예를 들어 배추밭이 아래와 같이 구성되어 있으면 최소 5마리의 배추흰지렁이가 필요하다. 0은 배추가 심어져 있지 않은 땅이고, 1은 배추가 심어져 있는 땅을 나타낸다."
   ]
  },
  {
   "cell_type": "markdown",
   "id": "b3a4c856-3cff-42b3-8eec-e1e4fd3d8d10",
   "metadata": {},
   "source": [
    "<table class=\"table table-bordered\" style=\"width:40%\">\n",
    "\t<tbody>\n",
    "\t\t<tr>\n",
    "\t\t\t<td style=\"text-align:center; width:4%\"><strong>1</strong></td>\n",
    "\t\t\t<td style=\"text-align:center; width:4%\"><strong>1</strong></td>\n",
    "\t\t\t<td style=\"text-align:center; width:4%\">0</td>\n",
    "\t\t\t<td style=\"text-align:center; width:4%\">0</td>\n",
    "\t\t\t<td style=\"text-align:center; width:4%\">0</td>\n",
    "\t\t\t<td style=\"text-align:center; width:4%\">0</td>\n",
    "\t\t\t<td style=\"text-align:center; width:4%\">0</td>\n",
    "\t\t\t<td style=\"text-align:center; width:4%\">0</td>\n",
    "\t\t\t<td style=\"text-align:center; width:4%\">0</td>\n",
    "\t\t\t<td style=\"text-align:center; width:4%\">0</td>\n",
    "\t\t</tr>\n",
    "\t\t<tr>\n",
    "\t\t\t<td style=\"text-align:center; width:4%\">0</td>\n",
    "\t\t\t<td style=\"text-align:center; width:4%\"><strong>1</strong></td>\n",
    "\t\t\t<td style=\"text-align:center; width:4%\">0</td>\n",
    "\t\t\t<td style=\"text-align:center; width:4%\">0</td>\n",
    "\t\t\t<td style=\"text-align:center; width:4%\">0</td>\n",
    "\t\t\t<td style=\"text-align:center; width:4%\">0</td>\n",
    "\t\t\t<td style=\"text-align:center; width:4%\">0</td>\n",
    "\t\t\t<td style=\"text-align:center; width:4%\">0</td>\n",
    "\t\t\t<td style=\"text-align:center; width:4%\">0</td>\n",
    "\t\t\t<td style=\"text-align:center; width:4%\">0</td>\n",
    "\t\t</tr>\n",
    "\t\t<tr>\n",
    "\t\t\t<td style=\"text-align:center; width:4%\">0</td>\n",
    "\t\t\t<td style=\"text-align:center; width:4%\">0</td>\n",
    "\t\t\t<td style=\"text-align:center; width:4%\">0</td>\n",
    "\t\t\t<td style=\"text-align:center; width:4%\">0</td>\n",
    "\t\t\t<td style=\"text-align:center; width:4%\"><strong>1</strong></td>\n",
    "\t\t\t<td style=\"text-align:center; width:4%\">0</td>\n",
    "\t\t\t<td style=\"text-align:center; width:4%\">0</td>\n",
    "\t\t\t<td style=\"text-align:center; width:4%\">0</td>\n",
    "\t\t\t<td style=\"text-align:center; width:4%\">0</td>\n",
    "\t\t\t<td style=\"text-align:center; width:4%\">0</td>\n",
    "\t\t</tr>\n",
    "\t\t<tr>\n",
    "\t\t\t<td style=\"text-align:center; width:4%\">0</td>\n",
    "\t\t\t<td style=\"text-align:center; width:4%\">0</td>\n",
    "\t\t\t<td style=\"text-align:center; width:4%\">0</td>\n",
    "\t\t\t<td style=\"text-align:center; width:4%\">0</td>\n",
    "\t\t\t<td style=\"text-align:center; width:4%\"><strong>1</strong></td>\n",
    "\t\t\t<td style=\"text-align:center; width:4%\">0</td>\n",
    "\t\t\t<td style=\"text-align:center; width:4%\">0</td>\n",
    "\t\t\t<td style=\"text-align:center; width:4%\">0</td>\n",
    "\t\t\t<td style=\"text-align:center; width:4%\">0</td>\n",
    "\t\t\t<td style=\"text-align:center; width:4%\">0</td>\n",
    "\t\t</tr>\n",
    "\t\t<tr>\n",
    "\t\t\t<td style=\"text-align:center; width:4%\">0</td>\n",
    "\t\t\t<td style=\"text-align:center; width:4%\">0</td>\n",
    "\t\t\t<td style=\"text-align:center; width:4%\"><strong>1</strong></td>\n",
    "\t\t\t<td style=\"text-align:center; width:4%\"><strong>1</strong></td>\n",
    "\t\t\t<td style=\"text-align:center; width:4%\">0</td>\n",
    "\t\t\t<td style=\"text-align:center; width:4%\">0</td>\n",
    "\t\t\t<td style=\"text-align:center; width:4%\">0</td>\n",
    "\t\t\t<td style=\"text-align:center; width:4%\"><strong>1</strong></td>\n",
    "\t\t\t<td style=\"text-align:center; width:4%\"><strong>1</strong></td>\n",
    "\t\t\t<td style=\"text-align:center; width:4%\"><strong>1</strong></td>\n",
    "\t\t</tr>\n",
    "\t\t<tr>\n",
    "\t\t\t<td style=\"text-align:center; width:4%\">0</td>\n",
    "\t\t\t<td style=\"text-align:center; width:4%\">0</td>\n",
    "\t\t\t<td style=\"text-align:center; width:4%\">0</td>\n",
    "\t\t\t<td style=\"text-align:center; width:4%\">0</td>\n",
    "\t\t\t<td style=\"text-align:center; width:4%\"><strong>1</strong></td>\n",
    "\t\t\t<td style=\"text-align:center; width:4%\">0</td>\n",
    "\t\t\t<td style=\"text-align:center; width:4%\">0</td>\n",
    "\t\t\t<td style=\"text-align:center; width:4%\"><strong>1</strong></td>\n",
    "\t\t\t<td style=\"text-align:center; width:4%\"><strong>1</strong></td>\n",
    "\t\t\t<td style=\"text-align:center; width:4%\"><strong>1</strong></td>\n",
    "\t\t</tr>\n",
    "\t</tbody>\n",
    "</table>"
   ]
  },
  {
   "cell_type": "markdown",
   "id": "9bcd24e4-d059-400d-b892-584c3d9f97a0",
   "metadata": {},
   "source": [
    "`-` 입력"
   ]
  },
  {
   "cell_type": "markdown",
   "id": "52368926-7569-43d1-901d-9968b13c7587",
   "metadata": {},
   "source": [
    "입력의 첫 줄에는 테스트 케이스의 개수 T가 주어진다. 그 다음 줄부터 각각의 테스트 케이스에 대해 첫째 줄에는 배추를 심은 배추밭의 가로길이 M(1 ≤ M ≤ 50)과 세로길이 N(1 ≤ N ≤ 50), 그리고 배추가 심어져 있는 위치의 개수 K(1 ≤ K ≤ 2500)이 주어진다. 그 다음 K줄에는 배추의 위치 X(0 ≤ X ≤ M-1), Y(0 ≤ Y ≤ N-1)가 주어진다. 두 배추의 위치가 같은 경우는 없다."
   ]
  },
  {
   "cell_type": "markdown",
   "id": "7d7cb26d-b027-4f0f-83cd-0bf6efbc2294",
   "metadata": {},
   "source": [
    "`-` 출력"
   ]
  },
  {
   "cell_type": "markdown",
   "id": "7f01a642-fad1-44fe-ba4a-dca304634904",
   "metadata": {},
   "source": [
    "각 테스트 케이스에 대해 필요한 최소의 배추흰지렁이 마리 수를 출력한다."
   ]
  },
  {
   "cell_type": "markdown",
   "id": "4f989b81-fd15-48a0-b18b-b5593552467a",
   "metadata": {},
   "source": [
    "`-` 예제 입력"
   ]
  },
  {
   "cell_type": "markdown",
   "id": "793ff472-6e29-4958-bf77-2b128741202a",
   "metadata": {},
   "source": [
    "```python\n",
    "1\n",
    "5 3 6\n",
    "0 2\n",
    "1 2\n",
    "2 2\n",
    "3 2\n",
    "4 2\n",
    "4 0\n",
    "```"
   ]
  },
  {
   "cell_type": "markdown",
   "id": "cbf909ce-c609-4b09-be13-79b813cfdf2c",
   "metadata": {},
   "source": [
    "### sol : dfs"
   ]
  },
  {
   "cell_type": "markdown",
   "id": "40cc8ccd-131b-439e-ad7d-ffb0923d6810",
   "metadata": {},
   "source": [
    "```python\n",
    "import sys\n",
    "sys.setrecursionlimit(10**6)\n",
    "input = sys.stdin.readline\n",
    "```"
   ]
  },
  {
   "cell_type": "code",
   "execution_count": 103,
   "id": "ea3db06e-595a-48c6-8d03-a1b84462028a",
   "metadata": {
    "tags": []
   },
   "outputs": [],
   "source": [
    "# dfs 정의\n",
    "def dfs(x, y):\n",
    "    # 상하좌우\n",
    "    dx = [0, 0, -1, 1] \n",
    "    dy = [1, -1, 0, 0]\n",
    "\n",
    "    # 네 방향 탐색\n",
    "    for i in range(4):\n",
    "        nx = x + dx[i]\n",
    "        ny = y + dy[i]\n",
    "        if (0 <= nx < m) and (0 <= ny < n) and graph[ny][nx] == 1:    \n",
    "            graph[ny][nx] = -1 # 지나간것을 -1로 표시하고 주변 탐색\n",
    "            dfs(nx, ny)"
   ]
  },
  {
   "cell_type": "markdown",
   "id": "3c8ccdd6-a449-4076-a37c-f8a63447f00e",
   "metadata": {},
   "source": [
    "|0|1|2|\n",
    "|:---:|:---:|:---:|\n",
    "|0|0|1|0|0|0|\n",
    "|0|0|1|0|0|0|\n",
    "|0|0|1|0|0|0|\n",
    "|0|0|1|0|0|0|\n",
    "|0|0|1|0|0|0|\n",
    "|1|0|0|0|0|0|\n"
   ]
  },
  {
   "cell_type": "code",
   "execution_count": 104,
   "id": "df471c20-5964-4b50-8401-284cddc3ad9a",
   "metadata": {
    "tags": []
   },
   "outputs": [
    {
     "name": "stdin",
     "output_type": "stream",
     "text": [
      " 1\n",
      " 5 3 6\n",
      " 0 2\n",
      " 1 2\n",
      " 2 2\n",
      " 3 2\n",
      " 4 2\n",
      " 4 0\n"
     ]
    },
    {
     "name": "stdout",
     "output_type": "stream",
     "text": [
      "2\n"
     ]
    }
   ],
   "source": [
    "t = int(input()) # 테스트 케이스의 개수\n",
    "for _ in range(t):\n",
    "    m, n, k = map(int, input().split()) # 가로, 세로, 배추 개수\n",
    "    graph = [[0 for _ in range(m)] for _ in range(n)] \n",
    "\n",
    "    # 배추 위치 표시\n",
    "    for _ in range(k):\n",
    "        X, Y = map(int, input().split()) \n",
    "        graph[Y][X] = 1 # X, Y 바꿔서 표시해야하는거 주의! 그래프 loop문 확인\n",
    "\n",
    "    # 배추 그룹 수(=배추흰지렁이 개수) 세기\n",
    "    count = 0\n",
    "    for a in range(m):\n",
    "        for b in range(n):\n",
    "            if graph[b][a] == 1:\n",
    "                dfs(a ,b)\n",
    "                count += 1\n",
    "    print(count)"
   ]
  },
  {
   "cell_type": "markdown",
   "id": "ff1948fb-2813-42f1-893a-685313a9a564",
   "metadata": {},
   "source": [
    "## ex 4. 연결 요소의 개수"
   ]
  },
  {
   "cell_type": "markdown",
   "id": "1dece197-1e92-47b3-94a7-d5e0f964bc85",
   "metadata": {},
   "source": [
    "방향 없는 그래프가 주어졌을 때, 연결 요소 (Connected Component)의 개수를 구하는 프로그램을 작성하시오."
   ]
  },
  {
   "cell_type": "markdown",
   "id": "557e24cf-0d9a-4baa-a613-f92948865689",
   "metadata": {},
   "source": [
    "`-` 입력"
   ]
  },
  {
   "cell_type": "markdown",
   "id": "c5c83ced-bb70-4d86-aba8-ab568d5457c6",
   "metadata": {},
   "source": [
    "첫째 줄에 정점의 개수 N과 간선의 개수 M이 주어진다. (1 ≤ N ≤ 1,000, 0 ≤ M ≤ N×(N-1)/2) 둘째 줄부터 M개의 줄에 간선의 양 끝점 u와 v가 주어진다. (1 ≤ u, v ≤ N, u ≠ v) 같은 간선은 한 번만 주어진다."
   ]
  },
  {
   "cell_type": "markdown",
   "id": "cd99817e-63c3-4fcd-bee2-e2b6c3a6cf2a",
   "metadata": {},
   "source": [
    "`-` 출력"
   ]
  },
  {
   "cell_type": "markdown",
   "id": "4da21632-41f4-41ac-bbfc-4ea262e5b96a",
   "metadata": {},
   "source": [
    "첫째 줄에 연결 요소의 개수를 출력한다."
   ]
  },
  {
   "cell_type": "markdown",
   "id": "2fba5aa7-7c89-4413-9ee6-4ec7e0564e0a",
   "metadata": {},
   "source": [
    "```python\n",
    "import sys\n",
    "sys.setrecursionlimit(10**6)\n",
    "input = sys.stdin.readline\n",
    "```"
   ]
  },
  {
   "cell_type": "code",
   "execution_count": 105,
   "id": "43ce42f6-33f0-4d19-a26e-5fb3558ef8ff",
   "metadata": {
    "tags": []
   },
   "outputs": [],
   "source": [
    "# dfs 함수\n",
    "def dfs(graph, v, visited):\n",
    "    visited[v] = True\n",
    "    for i in graph[v]:\n",
    "        if not visited[i]:\n",
    "            dfs(graph, i, visited)"
   ]
  },
  {
   "cell_type": "code",
   "execution_count": 106,
   "id": "ea2a2954-5cd1-40e1-b373-32854cdffc71",
   "metadata": {
    "tags": []
   },
   "outputs": [
    {
     "name": "stdin",
     "output_type": "stream",
     "text": [
      " 6 5\n",
      " 1 2\n",
      " 2 5\n",
      " 5 1\n",
      " 3 4\n",
      " 4 6\n"
     ]
    }
   ],
   "source": [
    "n, m = map(int, input().split()) # 정점의 개수, 간선의 개수\n",
    "\n",
    "graph = [[] for _ in range(n+1)]\n",
    "\n",
    "for i in range(m):\n",
    "    u, v = map(int, input().split())\n",
    "    graph[u].append(v)\n",
    "    graph[v].append(u)"
   ]
  },
  {
   "cell_type": "code",
   "execution_count": 107,
   "id": "8dea4eef-81a1-44c5-9364-871eda9f48fd",
   "metadata": {
    "tags": []
   },
   "outputs": [
    {
     "data": {
      "text/plain": [
       "[[], [2, 5], [1, 5], [4], [3, 6], [2, 1], [4]]"
      ]
     },
     "execution_count": 107,
     "metadata": {},
     "output_type": "execute_result"
    }
   ],
   "source": [
    "graph"
   ]
  },
  {
   "cell_type": "code",
   "execution_count": 108,
   "id": "6b95a440-444f-4a59-afdc-cc147f95f9ff",
   "metadata": {
    "tags": []
   },
   "outputs": [
    {
     "name": "stdout",
     "output_type": "stream",
     "text": [
      "2\n"
     ]
    }
   ],
   "source": [
    "count = 0 # 연결 노드의 수\n",
    "visited = [False] * (n+1)\n",
    "for i in range(1, n+1):\n",
    "    if not visited[i]:\n",
    "        dfs(graph, i, visited)\n",
    "        count += 1 # dfs 한 번 끝날 때마다 count+1\n",
    "\n",
    "print(count)"
   ]
  },
  {
   "cell_type": "markdown",
   "id": "7d494296",
   "metadata": {},
   "source": [
    "***"
   ]
  },
  {
   "cell_type": "markdown",
   "id": "2631984f",
   "metadata": {},
   "source": [
    "# 이취코"
   ]
  },
  {
   "cell_type": "markdown",
   "id": "97762710",
   "metadata": {},
   "source": [
    "## ex1. 금광"
   ]
  },
  {
   "cell_type": "markdown",
   "id": "64a4a746",
   "metadata": {},
   "source": [
    "`n x m`크기의 금광이 있다. \n",
    "\n",
    "금광은 `1 x 1` 크기의 칸으로 나누어져 있으며, 각 칸은 특정한 크기의 금이 들어 있다.\n",
    "\n",
    "채굴자는 첫 번째 열부터 출발하여 금을 캐기 시작하는데 맨 처음에는 첫 번째 열의 어느 행에서든 출발할 수 있다.\n",
    "\n",
    "이후에 `m`번에 걸쳐서 매번 오른쪽 위, 오른쪽, 오른쪽 아래 3가지 중 하나의 위치로 이동해야 한다.\n",
    "\n",
    "결과적으로 채굴자가 얻을 수 있는 금의 `최대 크기`를 출력하는 프로그램을 작성하시오."
   ]
  },
  {
   "cell_type": "markdown",
   "id": "b70ca29a",
   "metadata": {},
   "source": [
    "### 접근법 & 점화식"
   ]
  },
  {
   "cell_type": "markdown",
   "id": "b40b2a0f",
   "metadata": {},
   "source": [
    "`-` 금광의 모든 위치에 대하여 왼쪽 위, 왼쪽 아래, 왼쪽에서 오는 경우의 3가지 경우만 존재한다."
   ]
  },
  {
   "cell_type": "markdown",
   "id": "1642ab1f",
   "metadata": {},
   "source": [
    "`-` 따라서. 이 3가지 경우 중 최대값을 테이블에 갱신해주면 문제를 해결할 수 있다."
   ]
  },
  {
   "cell_type": "markdown",
   "id": "0e5328d2",
   "metadata": {},
   "source": [
    "`-` 점화식은 다음과 같다."
   ]
  },
  {
   "cell_type": "markdown",
   "id": "a1afe4ec",
   "metadata": {},
   "source": [
    "$$\\text{dp}_{i,j} = \\text{array}_{i,j} + \\text{max}(\\text{dp}_{i-1,j-1},\\,\\, \\text{dp}_{i+1,j-1},\\,\\, \\text{dp}_{i,j-1})$$"
   ]
  },
  {
   "cell_type": "markdown",
   "id": "c4ede57e",
   "metadata": {},
   "source": [
    "* $\\text{dp}_{i-1,j-1}$ : 왼쪽 위\n",
    "\n",
    "* $\\text{dp}_{i,j-1}$ : 왼쪽\n",
    "\n",
    "* $\\text{dp}_{i+1,j-1}$ : 왼쪽 아래"
   ]
  },
  {
   "cell_type": "markdown",
   "id": "8ac77f82",
   "metadata": {},
   "source": [
    "`-` 입력조건"
   ]
  },
  {
   "cell_type": "markdown",
   "id": "9581c1dc",
   "metadata": {},
   "source": [
    "* 첫째 줄에 테스트 케이스 T가 입력된다. (1 <= T <= 1,000)"
   ]
  },
  {
   "cell_type": "markdown",
   "id": "8bffe414",
   "metadata": {},
   "source": [
    "* 매 테스트 케이스 첫째 줄에 n과 m이 공백으로 구분되어 입력된다. (1 < n, m <= 20)"
   ]
  },
  {
   "cell_type": "markdown",
   "id": "0c97274b",
   "metadata": {},
   "source": [
    "* 매 테스트 케이스 둘째 줄에 n x m 위치에 매장된 금의 개수가 공백으로 구분되어 입력된다. (0 이상 100 이하의 정수)"
   ]
  },
  {
   "cell_type": "markdown",
   "id": "27741c1d",
   "metadata": {},
   "source": [
    "`-` 출력조건\n",
    "\n",
    "* 각 테스트 케이스에서 채굴자가 얻을 수 있는 금의 최대 크기를 출력"
   ]
  },
  {
   "cell_type": "markdown",
   "id": "0f395177",
   "metadata": {},
   "source": [
    "`-` 예시"
   ]
  },
  {
   "cell_type": "markdown",
   "id": "3d147735",
   "metadata": {},
   "source": [
    "만약 다음과 같이 3x4 크기의 금광이 존재한다고 가정합시다.\n",
    "\n",
    "1 3 3 2\n",
    "\n",
    "2 1 4 1\n",
    "\n",
    "0 6 4 7\n",
    "\n",
    "가장 왼쪽 위의 위치를 (1,1), 가장 오른쪽 아래의 위치를 (n, m)이라고 할 때, 위 예시에서는 (2,1) -> (3,2) -> (3,3) -> (3,4)의 위치로 이동하면 총 19만큼의 금을 채굴할 수 있으며, 이때의 값이 최댓값입니다."
   ]
  },
  {
   "cell_type": "markdown",
   "id": "d73360ca",
   "metadata": {},
   "source": [
    "`-` 문제 풀이\n",
    " \n",
    "1. 채굴자가 얻을 수 있는 금의 최대 크기를 구해야 하므로 max 함수 활용\n",
    "\n",
    "2.  테스트 케이스가 한 번에 여러 개 입력되므로 for문 안에서 알고리즘 실행\n",
    "\n",
    "3. 1열은 이전의 값이 없으므로 2열부터 시작함\n",
    "\n",
    "4. 예를 들어, 2열 1행은 1열 1행 또는 1열 2행의 값을 받을 수 있으므로 두 값 중 큰 수와 더해줌.\n",
    "\n",
    "5. 2열 마지막행은 1열 마지막행 또는 1열 마지막행-1의 값을 받을 수 있으므로 두 값 중 큰 수와 더해줌.\n",
    "\n",
    "6. 2열 중간행은 위,중간,아래행의 값을 받을 수 있으므로 세 값 중 큰 수와 더해줌."
   ]
  },
  {
   "cell_type": "markdown",
   "id": "a653c1ff",
   "metadata": {},
   "source": [
    "### 예비학습"
   ]
  },
  {
   "cell_type": "code",
   "execution_count": 86,
   "id": "c22809d2",
   "metadata": {},
   "outputs": [
    {
     "data": {
      "text/plain": [
       "[[1, 3, 3, 2], [2, 1, 4, 1], [0, 6, 4, 7]]"
      ]
     },
     "execution_count": 86,
     "metadata": {},
     "output_type": "execute_result"
    }
   ],
   "source": [
    "## 테스트 케이스를 1이라고 가정\n",
    "tc = 1\n",
    "##  3 x 4에 금광\n",
    "n, m = 3, 4\n",
    "## 금광을 담을 배열\n",
    "array = [1, 3, 3, 2, 2, 1, 4, 1, 0, 6, 4, 7]\n",
    "\n",
    "## 다이나믹 프로그래밍을 위한 2차원 DP 테이블 초기화\n",
    "dp = []\n",
    "index = 0\n",
    "for i in range(n) :\n",
    "      dp.append(array[index:index+m]) ## n번째 행에 m개만큼 배열을 다음\n",
    "      index += m ## array가 1차원이므로 index 값 갱신\n",
    "\n",
    "dp ## 단순히 array를 2차식으로 표시한것임"
   ]
  },
  {
   "cell_type": "markdown",
   "id": "456dca8c",
   "metadata": {},
   "source": [
    "* $\\text{dp}_{i-1,j-1}$ : 왼쪽 위\n",
    "\n",
    "* $\\text{dp}_{i,j-1}$ : 왼쪽\n",
    "\n",
    "* $\\text{dp}_{i+1,j-1}$ : 왼쪽 아래"
   ]
  },
  {
   "cell_type": "code",
   "execution_count": 87,
   "id": "ccf80254",
   "metadata": {
    "scrolled": true
   },
   "outputs": [
    {
     "name": "stdout",
     "output_type": "stream",
     "text": [
      "초기 dp :  [[1, 3, 3, 2], [2, 1, 4, 1], [0, 6, 4, 7]]\n",
      "연산후 dp :  [[1, 5, 8, 14], [2, 3, 12, 13], [0, 8, 12, 19]]\n"
     ]
    }
   ],
   "source": [
    "## 다이나믹 프로그래밍 진행\n",
    "print(\"초기 dp : \",dp)\n",
    "for j in range(1, m) : ## 열기준 : j가 1인 이유는 항상 왼쪽에서 오니까 0번쨰 인덱스를 입력받기 위함임\n",
    "    for i in range(n) :\n",
    "        # 1. 왼쪽 위에서 오는 경우\n",
    "        if i == 0 : ## 인덱스값을 벗어나는지 체크\n",
    "            left_up = 0\n",
    "        else : \n",
    "            left_up = dp[i-1][j-1]\n",
    "        # 2. 왼쪽 아래에서 오는 경우\n",
    "        if i == n-1 : # i  == n-1이면  dp[n][j-1]이므로 왼쪽아래가 성립이 안된다..\n",
    "            left_down = 0\n",
    "        else :\n",
    "            left_down = dp[i+1][j-1]\n",
    "        ## 3. 왼쪽에서 오는 경우\n",
    "        left = dp[i][j-1]\n",
    "        ## 4. 위에서 세운 점화식을 구현 -> 2차식으로 구현한 array를 max 값을 입력받아 갱신\n",
    "        dp[i][j] = dp[i][j] + max(left_up, left_down, left) ## 모든 j번쨰 열에서 행의 값이 최대값을 +한 것으로 업데이트됨\n",
    "\n",
    "print(\"연산후 dp : \",dp)"
   ]
  },
  {
   "cell_type": "code",
   "execution_count": 85,
   "id": "2f41d27c",
   "metadata": {},
   "outputs": [
    {
     "name": "stdout",
     "output_type": "stream",
     "text": [
      "14\n",
      "14\n",
      "19\n"
     ]
    }
   ],
   "source": [
    "result = 0\n",
    "for i in range(n):\n",
    "    result = max(result, dp[i][m - 1]) ## 결국 모든 열과 행의 각 요소에서 가장 금광을 많이 캔 것을 저장했으므로!! 모든 행의 마지막열 중 가장 큰 값을 찾으면됨.\n",
    "    print(result)"
   ]
  },
  {
   "cell_type": "markdown",
   "id": "f5498959",
   "metadata": {},
   "source": [
    "`-` 이를 한번에 하면~~"
   ]
  },
  {
   "cell_type": "code",
   "execution_count": 88,
   "id": "f68fe4fe",
   "metadata": {},
   "outputs": [
    {
     "name": "stdout",
     "output_type": "stream",
     "text": [
      "1\n",
      "3 4\n",
      "1 3 3 2 2 1 4 1 0 6 4 7\n",
      "19\n"
     ]
    }
   ],
   "source": [
    "# 테스트 케이스(Test Case) 입력\n",
    "for tc in range(int(input())):\n",
    "    # 금광 정보 입력\n",
    "    n, m = map(int, input().split())\n",
    "    array = list(map(int, input().split()))\n",
    "\n",
    "    # 다이나믹 프로그래밍을 위한 2차원 DP 테이블 초기화\n",
    "    dp = []\n",
    "    index = 0\n",
    "    for i in range(n):\n",
    "        dp.append(array[index:index + m])\n",
    "        index += m\n",
    "\n",
    "    # 다이나믹 프로그래밍 진행\n",
    "    for j in range(1, m):\n",
    "        for i in range(n):\n",
    "            # 왼쪽 위에서 오는 경우\n",
    "            if i == 0:\n",
    "                left_up = 0\n",
    "            else:\n",
    "                left_up = dp[i - 1][j - 1]\n",
    "            # 왼쪽 아래에서 오는 경우\n",
    "            if i == n - 1:\n",
    "                left_down = 0\n",
    "            else:\n",
    "                left_down = dp[i + 1][j - 1]\n",
    "            # 왼쪽에서 오는 경우\n",
    "            left = dp[i][j - 1]\n",
    "            dp[i][j] = dp[i][j] + max(left_up, left_down, left)\n",
    "\n",
    "    result = 0\n",
    "    for i in range(n):\n",
    "        result = max(result, dp[i][m - 1])\n",
    "\n",
    "    print(result)"
   ]
  },
  {
   "cell_type": "markdown",
   "id": "2790c311-b504-4883-9c26-a7682b504b23",
   "metadata": {},
   "source": [
    "***"
   ]
  }
 ],
 "metadata": {
  "kernelspec": {
   "display_name": "Python 3 (ipykernel)",
   "language": "python",
   "name": "python3"
  },
  "language_info": {
   "codemirror_mode": {
    "name": "ipython",
    "version": 3
   },
   "file_extension": ".py",
   "mimetype": "text/x-python",
   "name": "python",
   "nbconvert_exporter": "python",
   "pygments_lexer": "ipython3",
   "version": "3.11.4"
  },
  "toc": {
   "base_numbering": 1,
   "nav_menu": {},
   "number_sections": false,
   "sideBar": true,
   "skip_h1_title": false,
   "title_cell": "Table of Contents",
   "title_sidebar": "Contents",
   "toc_cell": false,
   "toc_position": {
    "height": "calc(100% - 180px)",
    "left": "10px",
    "top": "150px",
    "width": "290.304px"
   },
   "toc_section_display": true,
   "toc_window_display": true
  }
 },
 "nbformat": 4,
 "nbformat_minor": 5
}
