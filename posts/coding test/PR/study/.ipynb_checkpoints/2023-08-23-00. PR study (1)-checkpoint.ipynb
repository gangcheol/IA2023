{
 "cells": [
  {
   "cell_type": "raw",
   "id": "69e3b868",
   "metadata": {},
   "source": [
    "---\n",
    "title : \"00. PR study (1)\"\n",
    "author : \"GC\"\n",
    "catergories : [python, coding test]\n",
    "date  : \"08/23/23\"\n",
    "---"
   ]
  },
  {
   "cell_type": "markdown",
   "id": "660a4cc2",
   "metadata": {},
   "source": [
    "# Lv. 0"
   ]
  },
  {
   "cell_type": "markdown",
   "id": "b314ae4a",
   "metadata": {},
   "source": [
    "## 1. 최빈값 구하기"
   ]
  },
  {
   "cell_type": "markdown",
   "id": "8391d508-a8ad-4dbf-9d2d-ca587bc0ec4f",
   "metadata": {},
   "source": [
    "### 풀이(내가 푼거)"
   ]
  },
  {
   "cell_type": "code",
   "execution_count": 150,
   "id": "5049e22c",
   "metadata": {
    "tags": []
   },
   "outputs": [],
   "source": [
    "def solution(lst):\n",
    "    dic = {i : lst.count(i) for i in set(lst)}\n",
    "    M = max(dic.values())\n",
    "    l = [i for i in lst if lst.count(i)==M ]\n",
    "    if len(set(l)) !=1 :\n",
    "         return (-1) \n",
    "    else : \n",
    "         return (l[0])"
   ]
  },
  {
   "cell_type": "code",
   "execution_count": 154,
   "id": "29359c88",
   "metadata": {
    "tags": []
   },
   "outputs": [
    {
     "name": "stdout",
     "output_type": "stream",
     "text": [
      "3\n",
      "-1\n",
      "1\n"
     ]
    }
   ],
   "source": [
    "print(solution([1, 2, 3, 3, 3, 4]))\n",
    "print(solution([1, 1, 2, 2]))\n",
    "print(solution([1]))"
   ]
  },
  {
   "cell_type": "markdown",
   "id": "55fc0607-eb65-4151-b887-4937b5bed12d",
   "metadata": {},
   "source": [
    "### 풀이 2 ($\\star\\star$)"
   ]
  },
  {
   "cell_type": "code",
   "execution_count": 167,
   "id": "9ef50291-7b44-4163-a93a-9170e163ba1e",
   "metadata": {
    "tags": []
   },
   "outputs": [],
   "source": [
    "def solution(array):\n",
    "    while len(array) != 0: ## array길이가 0이 아닐때 까지\n",
    "        \n",
    "        for i, a in enumerate(set(array)):  ## 루프를 돌려서 유니크한 값 하나씩 array에서 제거\n",
    "           \n",
    "            array.remove(a)  ## 유니크한 값 하나씩 array에서 제거 하고 다시 루프로 돌아가 유니크한 값을 다시 뽑음\n",
    "        \n",
    "        if i == 0: return a ## 그러다 보면 값이 하나만 남게 되고 유니크 인덱스가 0이 될테니 해당 값이 최빈값!\n",
    "    \n",
    "    return -1 ## [1,1,2,2] 에 경우 두번에 루프에서 array의 모든값이 제거되므로 return -1이됨"
   ]
  },
  {
   "cell_type": "code",
   "execution_count": 168,
   "id": "24e67370-6f39-48ef-8405-3b800e291767",
   "metadata": {
    "tags": []
   },
   "outputs": [
    {
     "name": "stdout",
     "output_type": "stream",
     "text": [
      "3\n",
      "-1\n",
      "1\n"
     ]
    }
   ],
   "source": [
    "print(solution([1, 2, 3, 3, 3, 4]))\n",
    "print(solution([1, 1, 2, 2]))\n",
    "print(solution([1]))"
   ]
  },
  {
   "cell_type": "markdown",
   "id": "dab0d1d2",
   "metadata": {},
   "source": [
    "## 2. 코드 처리하기"
   ]
  },
  {
   "cell_type": "markdown",
   "id": "14afc0a9",
   "metadata": {},
   "source": [
    "### 풀이 1 (내가 푼거)"
   ]
  },
  {
   "cell_type": "code",
   "execution_count": 89,
   "id": "f06fb101",
   "metadata": {},
   "outputs": [],
   "source": [
    "def solution(code):\n",
    "    m=0\n",
    "    m_l = []\n",
    "    for i in code : \n",
    "        if i ==  \"1\" :\n",
    "            m=m+1\n",
    "            m_l.append(m)\n",
    "        else :\n",
    "            m_l.append(m)\n",
    "    mode = [0 if i % 2 ==0 else 1 for i in m_l ]\n",
    "    rat = []\n",
    "    idx = list(range(0,len(code)))\n",
    "\n",
    "    for i in idx :\n",
    "        if (mode[i]== 0) and  (i  % 2==0) :\n",
    "                rat.append(code[i])\n",
    "        elif (mode[i]==1) and (i % 2== 1) :\n",
    "                rat.append(code[i])\n",
    "                \n",
    "    result = \"\".join([i for i in rat if i !=\"1\"])\n",
    "    if len(result) == 0 :\n",
    "        return \"EMPTY\"\n",
    "    else :\n",
    "        return result"
   ]
  },
  {
   "cell_type": "code",
   "execution_count": 90,
   "id": "ca2ddd4c",
   "metadata": {},
   "outputs": [
    {
     "data": {
      "text/plain": [
       "'acbac'"
      ]
     },
     "execution_count": 90,
     "metadata": {},
     "output_type": "execute_result"
    }
   ],
   "source": [
    "solution(\"abc1abc1abc\")"
   ]
  },
  {
   "cell_type": "markdown",
   "id": "4e2840b1",
   "metadata": {},
   "source": [
    "### 풀이 2 (개쩌는거)"
   ]
  },
  {
   "cell_type": "code",
   "execution_count": 91,
   "id": "d26db69e",
   "metadata": {},
   "outputs": [],
   "source": [
    "def solution(code):\n",
    "    return \"\".join(code.split(\"1\"))[::2] or \"EMPTY\""
   ]
  },
  {
   "cell_type": "code",
   "execution_count": 92,
   "id": "5f246b68",
   "metadata": {},
   "outputs": [
    {
     "data": {
      "text/plain": [
       "'acbac'"
      ]
     },
     "execution_count": 92,
     "metadata": {},
     "output_type": "execute_result"
    }
   ],
   "source": [
    "solution(\"abc1abc1abc\")"
   ]
  },
  {
   "cell_type": "markdown",
   "id": "76424976-edd7-4185-b2d9-fdbf8a0ac404",
   "metadata": {},
   "source": [
    "***"
   ]
  },
  {
   "cell_type": "markdown",
   "id": "4d141644-66c1-412f-98ce-1ce33b94ca46",
   "metadata": {},
   "source": [
    "# Lv. 1"
   ]
  },
  {
   "cell_type": "markdown",
   "id": "bb2718c4-2c23-417b-a21b-189f7b5fb770",
   "metadata": {},
   "source": [
    "## 1. 비밀지도"
   ]
  },
  {
   "cell_type": "markdown",
   "id": "84f72d9c-aeeb-49b9-9969-fb52caf19a91",
   "metadata": {},
   "source": [
    "`-` 두 개의 배열을 입력받아 다음과 같은 연산을 작성하는 코드를 작성하라"
   ]
  },
  {
   "cell_type": "markdown",
   "id": "ba5842a6-c8f8-4886-b0bd-b40c09ec3bb0",
   "metadata": {},
   "source": [
    "<img src = \"비밀지도.png\" width=200>"
   ]
  },
  {
   "cell_type": "markdown",
   "id": "7726ae46-78b5-454e-8a7f-0a7dbc1ef5eb",
   "metadata": {},
   "source": [
    "###  예비학습 : 비트 연산 사용하기"
   ]
  },
  {
   "cell_type": "markdown",
   "id": "a1c23482-a341-4341-bcc5-454a00fdb584",
   "metadata": {},
   "source": [
    "`-` 해당 문제는 주어진 이진수를 비트 (or)연산을 이용하여 해결하는 문제이다."
   ]
  },
  {
   "cell_type": "markdown",
   "id": "01e1271b-97e6-4aa5-9cc5-9a1e8e45b272",
   "metadata": {},
   "source": [
    "* 비트 연산 표"
   ]
  },
  {
   "cell_type": "markdown",
   "id": "603d222b-3bbb-41a6-9e01-34c4161d0626",
   "metadata": {},
   "source": [
    "|연산자| 설명|\n",
    "|:---:|---|\n",
    "|`&` (and)|대응되는 비트가 모두 1이면 1을 반환|\n",
    "|`ㅣ` (or) |대응되는 비트 중에서 하나라도 1이면 1을 반환|\n",
    "|`^` (xor) |대응되는 비트가 서로 다르면 1을 반환|\n",
    "|`~` (not) |비트를 1이면 0으로, 0이변 1로 반전시킴|\n",
    "|`<<` (left shift) |지정한 수만큼 비트를 왼쪽으로 전부 이동시킴 (거듭제곱)|\n",
    "|`>>` (right shift) |위와 반대|"
   ]
  },
  {
   "cell_type": "markdown",
   "id": "2bed9303-e598-42aa-9da1-cfce5ee7f0fb",
   "metadata": {},
   "source": [
    "`-` 해당 문제는 주어진 이진수를 비트 (or)연산을 이용하여 해결하는 문제이다."
   ]
  },
  {
   "cell_type": "markdown",
   "id": "b2db29aa-bdaa-42e9-b39d-15b850f339d1",
   "metadata": {},
   "source": [
    "`1`. 배열 셋팅"
   ]
  },
  {
   "cell_type": "code",
   "execution_count": 32,
   "id": "894ce590-1acc-480f-b69c-f7e1cb651b81",
   "metadata": {
    "tags": []
   },
   "outputs": [],
   "source": [
    "n=5\n",
    "arr1 = [9,1,28,18,11]\n",
    "arr2 = [30,1,21,17,28]"
   ]
  },
  {
   "cell_type": "markdown",
   "id": "e01d9b56-0ec5-45c7-b538-688f428774ba",
   "metadata": {},
   "source": [
    "`2` 비트연산 확인"
   ]
  },
  {
   "cell_type": "code",
   "execution_count": 52,
   "id": "f8b4ab35-e358-46b6-bd42-bb95c96fd2f2",
   "metadata": {
    "tags": []
   },
   "outputs": [
    {
     "name": "stdout",
     "output_type": "stream",
     "text": [
      "\n",
      "   십진수 : 1 -> 이진수 변환 : 0b1001\n",
      "   십진수 : 1 -> 이진수 변환 : 0b1\n",
      "   \n",
      "   비트연산(or) : 1\n",
      "   \n",
      "\n"
     ]
    }
   ],
   "source": [
    "print(f'''\n",
    "   십진수 : {arr1[1]} -> 이진수 변환 : { bin(arr1[0])}\n",
    "   십진수 : {arr2[1]} -> 이진수 변환 : { bin(arr2[1])}\n",
    "   \n",
    "   비트연산(or) : {format(arr1[1] | arr2[1],\"b\")}\n",
    "   \n",
    "''')"
   ]
  },
  {
   "cell_type": "markdown",
   "id": "b5d3e3ea-0d84-4f41-9ee4-7b1599f2fd0a",
   "metadata": {},
   "source": [
    "`3` 해당 문제는 다섯칸 전부를 채워야 하므로 비었는 부분을 0으로 채워주기"
   ]
  },
  {
   "cell_type": "markdown",
   "id": "f90e6c08-7291-4369-8ce4-97083e1f669c",
   "metadata": {},
   "source": [
    "* `r.zfill(width)` : `width`는 숫자의 자릿수로 비어있는 부분을 0으로 채워준다."
   ]
  },
  {
   "cell_type": "code",
   "execution_count": 53,
   "id": "a628d802-ef30-4f3a-9651-0ca61c35d3ea",
   "metadata": {
    "tags": []
   },
   "outputs": [
    {
     "name": "stdout",
     "output_type": "stream",
     "text": [
      "비트연산(or) : 1, 비트연산.zfill : 00001\n"
     ]
    }
   ],
   "source": [
    "r = format(arr1[1] | arr2[1],\"b\")\n",
    "print(f\"비트연산(or) : {r}, 비트연산.zfill : {r.zfill(n)}\" )"
   ]
  },
  {
   "cell_type": "markdown",
   "id": "afc6711e-b364-42de-9b91-197b22aeab24",
   "metadata": {},
   "source": [
    "`4` \"1\"을 \"#\" 으로 바꿔주기, 0은 공백으로 바꿔주기"
   ]
  },
  {
   "cell_type": "code",
   "execution_count": 55,
   "id": "cec197f2-f673-4173-9b43-3617c334c0ec",
   "metadata": {
    "tags": []
   },
   "outputs": [
    {
     "data": {
      "text/plain": [
       "'    #'"
      ]
     },
     "execution_count": 55,
     "metadata": {},
     "output_type": "execute_result"
    }
   ],
   "source": [
    "r.zfill(n).replace(\"1\",\"#\").replace(\"0\",\" \")"
   ]
  },
  {
   "cell_type": "markdown",
   "id": "31fefd7f-cd63-4ba6-88c5-4dcf3ded6246",
   "metadata": {},
   "source": [
    "`4` loof를 이용하여 전체의 적용"
   ]
  },
  {
   "cell_type": "code",
   "execution_count": 56,
   "id": "303295eb-e959-4095-8c1d-da5cfe23c6f5",
   "metadata": {
    "tags": []
   },
   "outputs": [],
   "source": [
    "result = []\n",
    "for i,j in zip(arr1,arr2) :\n",
    "    r = format(i | j,\"b\").zfill(n).replace(\"1\",\"#\").replace(\"0\",\" \")\n",
    "    result.append(r)"
   ]
  },
  {
   "cell_type": "markdown",
   "id": "25d20b7d-7c8f-4534-b02d-ab72f5672133",
   "metadata": {},
   "source": [
    "`5` 결과확인"
   ]
  },
  {
   "cell_type": "code",
   "execution_count": 59,
   "id": "5381e4ef-21f8-4767-b88a-30f7d0f899c3",
   "metadata": {
    "tags": []
   },
   "outputs": [
    {
     "data": {
      "text/plain": [
       "['#####', '    #', '### #', '#  ##', '#####']"
      ]
     },
     "execution_count": 59,
     "metadata": {},
     "output_type": "execute_result"
    }
   ],
   "source": [
    "result"
   ]
  },
  {
   "cell_type": "markdown",
   "id": "d141f74a-eef4-4aec-98d6-e85d4275a2d9",
   "metadata": {},
   "source": [
    "### 풀이1"
   ]
  },
  {
   "cell_type": "code",
   "execution_count": null,
   "id": "b39dcd7a-e56e-453a-bd86-636e952aeb96",
   "metadata": {},
   "outputs": [],
   "source": [
    "def solution (n,arr1,arr2) :\n",
    "    result = []\n",
    "    for i,j in zip(arr1,arr2) :\n",
    "        r = format(i | j,\"b\").zfill(n).replace(\"1\",\"#\").replace(\"0\",\" \")\n",
    "        result.append(r)            \n",
    "    return result"
   ]
  },
  {
   "cell_type": "markdown",
   "id": "1e7ac738-4fc0-42fa-9ffc-9a9985d98052",
   "metadata": {},
   "source": [
    "## 2. 숫자 문자열과 영단어"
   ]
  },
  {
   "cell_type": "markdown",
   "id": "8c3a9e8e-89b3-489b-83e2-6234227e91f5",
   "metadata": {},
   "source": [
    "`-` 다음과 같은 문자와 숫자가 섞인 문자열이 주어졌을 떼 문자를 숫자로 바꿔서 완전한 숫자로 바꾸기"
   ]
  },
  {
   "cell_type": "markdown",
   "id": "220fc466-a7bb-450f-9442-8b5126f9ed93",
   "metadata": {},
   "source": [
    "* `\"one4seveneight\"` $\\to$ `1478`"
   ]
  },
  {
   "cell_type": "markdown",
   "id": "0b4f845a-41b1-4b90-9adf-f919d8649ba7",
   "metadata": {},
   "source": [
    "### 예비학습"
   ]
  },
  {
   "cell_type": "markdown",
   "id": "2dc8b45a-54b9-49b2-9532-e7e5d02ea8a5",
   "metadata": {},
   "source": [
    "`1` 다음과 같은 리스트를 생성"
   ]
  },
  {
   "cell_type": "code",
   "execution_count": 140,
   "id": "a936b59c-ef15-4bd8-8699-ee4c90e66322",
   "metadata": {
    "tags": []
   },
   "outputs": [],
   "source": [
    "lst=  [\"zero\",'one', 'two', 'three', 'four', 'five', 'six', 'seven', 'eight', 'nine']"
   ]
  },
  {
   "cell_type": "code",
   "execution_count": 141,
   "id": "9b568b5f-9ba0-4d87-bc91-5421cbeb0690",
   "metadata": {
    "tags": []
   },
   "outputs": [
    {
     "name": "stdout",
     "output_type": "stream",
     "text": [
      "['zero', 'one', 'two', 'three', 'four', 'five', 'six', 'seven', 'eight', 'nine']\n"
     ]
    }
   ],
   "source": [
    "print(lst)"
   ]
  },
  {
   "cell_type": "markdown",
   "id": "5c5db2c6-daea-49f7-b099-b85304fe6bf1",
   "metadata": {},
   "source": [
    "`2`  replace 함수를 이용해서 바뀌는지 확인!"
   ]
  },
  {
   "cell_type": "code",
   "execution_count": 142,
   "id": "24eed95a-4746-4b92-8335-16e9840555f9",
   "metadata": {
    "tags": []
   },
   "outputs": [],
   "source": [
    "s = \"12one456nine12\""
   ]
  },
  {
   "cell_type": "code",
   "execution_count": 143,
   "id": "0f9db1c7-2082-415b-8157-43bc1bdf5039",
   "metadata": {
    "tags": []
   },
   "outputs": [
    {
     "data": {
      "text/plain": [
       "'12one456nine12'"
      ]
     },
     "execution_count": 143,
     "metadata": {},
     "output_type": "execute_result"
    }
   ],
   "source": [
    "s.replace(lst[0],str(1))"
   ]
  },
  {
   "cell_type": "markdown",
   "id": "9827de7f-e681-4f24-8a1b-2760a760ea54",
   "metadata": {},
   "source": [
    "`3` loop를 이용하여 문자로 표기된 것들을 모두 숫자로 변경!"
   ]
  },
  {
   "cell_type": "code",
   "execution_count": 144,
   "id": "96336eb2-6cd4-4e01-95bb-5c2502a6b1bd",
   "metadata": {
    "tags": []
   },
   "outputs": [],
   "source": [
    "for i in range(0,10) :\n",
    "    s=s.replace(lst[i],str(i))"
   ]
  },
  {
   "cell_type": "code",
   "execution_count": 145,
   "id": "a0a06127-2e30-4bb5-b354-f668b3baae1c",
   "metadata": {
    "tags": []
   },
   "outputs": [
    {
     "data": {
      "text/plain": [
       "121456912"
      ]
     },
     "execution_count": 145,
     "metadata": {},
     "output_type": "execute_result"
    }
   ],
   "source": [
    "int(s)"
   ]
  },
  {
   "cell_type": "markdown",
   "id": "1866f7d0-6ef3-4b39-aacb-b3af5e64bedd",
   "metadata": {},
   "source": [
    "### 풀이 1"
   ]
  },
  {
   "cell_type": "code",
   "execution_count": 146,
   "id": "368c74fd-36be-4901-a2c9-9b6396c72d98",
   "metadata": {
    "tags": []
   },
   "outputs": [],
   "source": [
    "def solution(s):\n",
    "    lst=  [\"zero\",'one', 'two', 'three', 'four', 'five', 'six', 'seven', 'eight', 'nine']\n",
    "    for i in range(0,10) :\n",
    "        s=s.replace(lst[i],str(i))\n",
    "    return int(s)"
   ]
  },
  {
   "cell_type": "code",
   "execution_count": 147,
   "id": "6d9fbeb0-60f9-48ca-b0ee-7cfe398fb764",
   "metadata": {
    "tags": []
   },
   "outputs": [
    {
     "data": {
      "text/plain": [
       "121456912"
      ]
     },
     "execution_count": 147,
     "metadata": {},
     "output_type": "execute_result"
    }
   ],
   "source": [
    "solution(s)"
   ]
  },
  {
   "cell_type": "markdown",
   "id": "d40fa995-0c69-4286-bf62-ae4db4a58a7f",
   "metadata": {},
   "source": [
    "### 풀이 2"
   ]
  },
  {
   "cell_type": "code",
   "execution_count": 169,
   "id": "2950d2c4-080a-449a-95d4-9bf33e6f4e8c",
   "metadata": {
    "tags": []
   },
   "outputs": [],
   "source": [
    "num_dic = {\"zero\":\"0\", \"one\":\"1\", \"two\":\"2\", \"three\":\"3\", \"four\":\"4\", \"five\":\"5\", \"six\":\"6\", \"seven\":\"7\", \"eight\":\"8\", \"nine\":\"9\"}\n",
    "\n",
    "def solution(s):\n",
    "    answer = s\n",
    "    for key, value in num_dic.items():\n",
    "        answer = answer.replace(key, value)\n",
    "    return int(answer)"
   ]
  }
 ],
 "metadata": {
  "kernelspec": {
   "display_name": "Python 3 (ipykernel)",
   "language": "python",
   "name": "python3"
  },
  "language_info": {
   "codemirror_mode": {
    "name": "ipython",
    "version": 3
   },
   "file_extension": ".py",
   "mimetype": "text/x-python",
   "name": "python",
   "nbconvert_exporter": "python",
   "pygments_lexer": "ipython3",
   "version": "3.11.4"
  },
  "toc": {
   "base_numbering": 1,
   "nav_menu": {},
   "number_sections": false,
   "sideBar": true,
   "skip_h1_title": false,
   "title_cell": "Table of Contents",
   "title_sidebar": "Contents",
   "toc_cell": false,
   "toc_position": {
    "height": "calc(100% - 180px)",
    "left": "10px",
    "top": "150px",
    "width": "341.323px"
   },
   "toc_section_display": true,
   "toc_window_display": true
  }
 },
 "nbformat": 4,
 "nbformat_minor": 5
}
