{
 "cells": [
  {
   "cell_type": "raw",
   "id": "a676d3fe-10f4-4443-a942-87ca76a78ffb",
   "metadata": {},
   "source": [
    "---\n",
    "title : \"03. PR study (4)\"\n",
    "author : \"GC\"\n",
    "catergories : [python, coding test]\n",
    "date  : \"09/24/23\"\n",
    "---"
   ]
  },
  {
   "cell_type": "markdown",
   "id": "586b961a-e861-4e52-8f95-ed0894eea225",
   "metadata": {},
   "source": [
    "# 1번 문자열 밀기"
   ]
  },
  {
   "cell_type": "markdown",
   "id": "8d331df3-b07f-47e5-a978-53685eae8ea6",
   "metadata": {},
   "source": [
    "## sol"
   ]
  },
  {
   "cell_type": "code",
   "execution_count": 340,
   "id": "e14dcc62-a61f-4dc3-a8c1-84565fef8823",
   "metadata": {
    "tags": []
   },
   "outputs": [],
   "source": [
    "A = [\"hello\", \"apple\", \"stat\", \"abc\"]\n",
    "B = [\"lohel\", \"elppa\", \"tata\", \"abc\"]"
   ]
  },
  {
   "cell_type": "code",
   "execution_count": 341,
   "id": "f57863d5-d4e0-4890-bc7f-bbde9b970df1",
   "metadata": {
    "tags": []
   },
   "outputs": [],
   "source": [
    "a = A[0]\n",
    "b = B[0]"
   ]
  },
  {
   "cell_type": "code",
   "execution_count": 342,
   "id": "2a35e099-aba1-43a7-a3d0-f04c8d692023",
   "metadata": {
    "tags": []
   },
   "outputs": [],
   "source": [
    "def solution(a,b) : \n",
    "    if b not in a*2 : ### hello*2 -> hellohello \n",
    "        return -1\n",
    "    if a==b : \n",
    "        return 0\n",
    "    for i in range(len(a)) :\n",
    "        r = a[-1]\n",
    "        temp = r+a[0:-1]\n",
    "        print(f\"{i+1}번 밀기\")\n",
    "        a = temp\n",
    "        print(f\"{i+1}번 민 후 결과 : {a}\")\n",
    "        print(\"\\n\")\n",
    "        print(\"*\"*50)\n",
    "        print(\"\\n\")\n",
    "        if a == b : break\n",
    "    return i+1"
   ]
  },
  {
   "cell_type": "code",
   "execution_count": 343,
   "id": "314434d5-52d6-40c9-93c8-3b9a81bfc80c",
   "metadata": {
    "tags": []
   },
   "outputs": [
    {
     "name": "stdout",
     "output_type": "stream",
     "text": [
      "1번 밀기\n",
      "1번 민 후 결과 : ohell\n",
      "\n",
      "\n",
      "**************************************************\n",
      "\n",
      "\n",
      "2번 밀기\n",
      "2번 민 후 결과 : lohel\n",
      "\n",
      "\n",
      "**************************************************\n",
      "\n",
      "\n"
     ]
    },
    {
     "data": {
      "text/plain": [
       "2"
      ]
     },
     "execution_count": 343,
     "metadata": {},
     "output_type": "execute_result"
    }
   ],
   "source": [
    "solution(a,b)"
   ]
  },
  {
   "cell_type": "markdown",
   "id": "94d4234d-b45d-49c1-945e-0286f2b523af",
   "metadata": {},
   "source": [
    "***"
   ]
  },
  {
   "cell_type": "markdown",
   "id": "cfb1c3ef-74c8-4cc8-a9ef-16c72d11f1c7",
   "metadata": {},
   "source": [
    "# 2. 평행"
   ]
  },
  {
   "cell_type": "markdown",
   "id": "ffb91e76-9516-417b-a1e2-ac01d9218f45",
   "metadata": {},
   "source": [
    "`-` 두 직선이 평행인 경우 1, 아니면 0"
   ]
  },
  {
   "cell_type": "code",
   "execution_count": 344,
   "id": "b3647d7e-17cf-4c01-ba23-19383fd6ac82",
   "metadata": {
    "tags": []
   },
   "outputs": [],
   "source": [
    "dots = [[1, 4], [9, 2], [3, 8], [11, 6]]"
   ]
  },
  {
   "cell_type": "code",
   "execution_count": 345,
   "id": "19ae95a5-b789-4e34-9402-2ad4c7fb2a73",
   "metadata": {
    "tags": []
   },
   "outputs": [],
   "source": [
    "dots.sort()"
   ]
  },
  {
   "cell_type": "code",
   "execution_count": 346,
   "id": "20c56163-1f0c-4fa0-81ab-0db24c233c49",
   "metadata": {
    "tags": []
   },
   "outputs": [
    {
     "data": {
      "text/plain": [
       "[[1, 4], [3, 8], [9, 2], [11, 6]]"
      ]
     },
     "execution_count": 346,
     "metadata": {},
     "output_type": "execute_result"
    }
   ],
   "source": [
    "dots"
   ]
  },
  {
   "cell_type": "markdown",
   "id": "f88299f5-64c9-4aa9-a553-b3bd1fb0e167",
   "metadata": {},
   "source": [
    "## sol"
   ]
  },
  {
   "cell_type": "markdown",
   "id": "787fc30c-838b-4dd7-9646-27d11cd174de",
   "metadata": {},
   "source": [
    "`-` 평행인 2개의 직선을 그려보면 왜 $x$값을 기준으로 정렬해서 풀어야하는지 금방 이해할 수 있다."
   ]
  },
  {
   "cell_type": "code",
   "execution_count": 348,
   "id": "c2149328-c84c-4d8d-ae81-f9a2df725664",
   "metadata": {
    "tags": []
   },
   "outputs": [],
   "source": [
    "def solution (dots) :\n",
    "    print(\"정렬 전 : \", dots)\n",
    "    dots.sort()\n",
    "    print(\"정렬 후 : \", dots)\n",
    "    [x1, y1], [x2, y2] = dots[:2]\n",
    "    [x3, y3], [x4, y4] = dots[2:]\n",
    "    \n",
    "    a1 = (y1-y2)/(x1-x2)\n",
    "    a2 = (y3-y4)/(x3-x4)\n",
    "    \n",
    "    if a1==a2 :\n",
    "        return 1\n",
    "    else : \n",
    "        return 0"
   ]
  },
  {
   "cell_type": "code",
   "execution_count": 349,
   "id": "1349a1d8-422f-487b-9dab-5c8024e09d33",
   "metadata": {
    "tags": []
   },
   "outputs": [
    {
     "name": "stdout",
     "output_type": "stream",
     "text": [
      "정렬 전 :  [[1, 4], [3, 8], [9, 2], [11, 6]]\n",
      "정렬 후 :  [[1, 4], [3, 8], [9, 2], [11, 6]]\n"
     ]
    },
    {
     "data": {
      "text/plain": [
       "1"
      ]
     },
     "execution_count": 349,
     "metadata": {},
     "output_type": "execute_result"
    }
   ],
   "source": [
    "solution(dots)"
   ]
  },
  {
   "cell_type": "markdown",
   "id": "597c303d-182a-4253-8410-c708b54243e3",
   "metadata": {},
   "source": [
    "## sol2"
   ]
  },
  {
   "cell_type": "markdown",
   "id": "55474a54-2098-40b0-afe7-6328b26bce41",
   "metadata": {},
   "source": [
    "$$\\text {기울기 구하는 공식} = \\frac{(y_1-y_2)}{(x_1-x_2)}$$"
   ]
  },
  {
   "cell_type": "code",
   "execution_count": 350,
   "id": "bb659940-cbd8-423f-9e7d-4f26563d8f2d",
   "metadata": {
    "tags": []
   },
   "outputs": [
    {
     "data": {
      "text/plain": [
       "[[1, 4], [3, 8], [9, 2], [11, 6]]"
      ]
     },
     "execution_count": 350,
     "metadata": {},
     "output_type": "execute_result"
    }
   ],
   "source": [
    "dots"
   ]
  },
  {
   "cell_type": "code",
   "execution_count": 351,
   "id": "816e28f9-26af-449f-b3cb-c490b3cd7ef5",
   "metadata": {
    "tags": []
   },
   "outputs": [],
   "source": [
    "def solution(dots):\n",
    "    [[x1, y1], [x2, y2], [x3, y3], [x4, y4]]=dots\n",
    "    answer1 = ((y1-y2)*(x3-x4) == (y3-y4)*(x1-x2))\n",
    "    answer2 = ((y1-y3)*(x2-x4) == (y2-y4)*(x1-x3))\n",
    "    answer3 = ((y1-y4)*(x2-x3) == (y2-y3)*(x1-x4))\n",
    "    return 1 if answer1 or answer2 or answer3 else 0"
   ]
  },
  {
   "cell_type": "code",
   "execution_count": 352,
   "id": "b428be8f-ad1b-46a7-b381-c99075bb7876",
   "metadata": {
    "tags": []
   },
   "outputs": [
    {
     "data": {
      "text/plain": [
       "1"
      ]
     },
     "execution_count": 352,
     "metadata": {},
     "output_type": "execute_result"
    }
   ],
   "source": [
    "solution(dots)"
   ]
  },
  {
   "cell_type": "markdown",
   "id": "bfb4d88d-de56-49f1-a554-80601418f10f",
   "metadata": {},
   "source": [
    "***"
   ]
  },
  {
   "cell_type": "markdown",
   "id": "ee5e1f57-b59a-48cf-95c6-a61b1eaaec01",
   "metadata": {},
   "source": [
    "# 3. 크기가 작은 부분문자열"
   ]
  },
  {
   "cell_type": "markdown",
   "id": "d2102d42-a06c-4487-aa8e-5c0b3e2032aa",
   "metadata": {
    "tags": []
   },
   "source": [
    "숫자로 이루어진 문자열 `t`, `p`가 주어질 때, `t`에서 `p`와 길이가 같은 부분문자열 중에서, \n",
    "\n",
    "이 부분문자열이 나타내는 수가 `p`가 나타내는 수보다 작거나 같은 것이 나오는 횟수를 return"
   ]
  },
  {
   "cell_type": "code",
   "execution_count": 355,
   "id": "dfc182a6-f827-4b16-bfad-08a1ca56886a",
   "metadata": {
    "tags": []
   },
   "outputs": [],
   "source": [
    "t = \"3141592\"\n",
    "p = \"271\""
   ]
  },
  {
   "cell_type": "code",
   "execution_count": 358,
   "id": "f54bbc75-107e-4b21-87ba-97f3113974cf",
   "metadata": {
    "tags": []
   },
   "outputs": [],
   "source": [
    "def solution(t,p) : \n",
    "    n = len(p)\n",
    "    return len([int(t[i:i+n]) for i in range(len(t)-n+1) if int(t[i:i+n]) <= int(p) ])"
   ]
  },
  {
   "cell_type": "code",
   "execution_count": 357,
   "id": "a71b8cb7-04dd-41bc-ba93-2ad1ab9b006b",
   "metadata": {
    "tags": []
   },
   "outputs": [
    {
     "data": {
      "text/plain": [
       "2"
      ]
     },
     "execution_count": 357,
     "metadata": {},
     "output_type": "execute_result"
    }
   ],
   "source": [
    "solution(t,p)"
   ]
  },
  {
   "cell_type": "markdown",
   "id": "9bb4184f-5e75-4ad7-8dc3-1ade4971f158",
   "metadata": {
    "tags": []
   },
   "source": [
    "```python \n",
    "for i in range(len(t)-n+1) ### t의 문자열길이를 입력받아 p만큼 빼주고 1을 더 함 : \n",
    "```"
   ]
  },
  {
   "cell_type": "markdown",
   "id": "a511ef4d-1f44-40a7-8406-7714331f1046",
   "metadata": {},
   "source": [
    "***"
   ]
  },
  {
   "cell_type": "markdown",
   "id": "e6b8eb17-8a1f-46a0-adee-1fc072080f62",
   "metadata": {},
   "source": [
    "***"
   ]
  },
  {
   "cell_type": "markdown",
   "id": "ed426a5b-e774-479a-b000-87e40d744b3b",
   "metadata": {},
   "source": [
    "# 4.완주하지 못한 선수"
   ]
  },
  {
   "cell_type": "markdown",
   "id": "b8424ef4-5fd3-4ef4-91d6-a5a64dc11617",
   "metadata": {
    "tags": []
   },
   "source": [
    "완주하지 못한 선수의 이름을 return"
   ]
  },
  {
   "cell_type": "markdown",
   "id": "443d8ad1-31f5-44e8-b6f5-c3b00698a4e3",
   "metadata": {},
   "source": [
    "동명이인이 존재할 수 있음"
   ]
  },
  {
   "cell_type": "code",
   "execution_count": 364,
   "id": "3f745b74-2b3d-49e7-b05d-11b7ed3838f6",
   "metadata": {
    "tags": []
   },
   "outputs": [],
   "source": [
    "p = [\"mislav\", \"stanko\", \"mislav\", \"ana\"]\n",
    "c = [\"stanko\", \"ana\", \"mislav\"]"
   ]
  },
  {
   "cell_type": "markdown",
   "id": "ee6f9c9e-7873-44c0-9040-e20a5d8394d4",
   "metadata": {},
   "source": [
    "## sol1"
   ]
  },
  {
   "cell_type": "code",
   "execution_count": 365,
   "id": "ff00eb54-eb00-4b2c-a473-1440315347a3",
   "metadata": {
    "tags": []
   },
   "outputs": [
    {
     "data": {
      "text/plain": [
       "['mislav', 'stanko', 'mislav', 'ana']"
      ]
     },
     "execution_count": 365,
     "metadata": {},
     "output_type": "execute_result"
    }
   ],
   "source": [
    "p"
   ]
  },
  {
   "cell_type": "code",
   "execution_count": 366,
   "id": "d4e8d931-179b-4a3d-9bdf-5ddea8917f9d",
   "metadata": {
    "tags": []
   },
   "outputs": [
    {
     "data": {
      "text/plain": [
       "['stanko', 'ana', 'mislav']"
      ]
     },
     "execution_count": 366,
     "metadata": {},
     "output_type": "execute_result"
    }
   ],
   "source": [
    "c"
   ]
  },
  {
   "cell_type": "code",
   "execution_count": 363,
   "id": "2b0fe4f2-731c-4ec7-bf93-6c30a6c8c712",
   "metadata": {
    "tags": []
   },
   "outputs": [
    {
     "name": "stdout",
     "output_type": "stream",
     "text": [
      "0 번째 loop\n",
      "ana 이 완주했는가?\n",
      "ana 은 완주했음!!\n",
      "**************************************************\n",
      "1 번째 loop\n",
      "mislav 이 완주했는가?\n",
      "mislav 은 완주했음!!\n",
      "**************************************************\n",
      "2 번째 loop\n",
      "stanko 이 완주했는가?\n",
      "stanko 은 완주했음!!\n",
      "**************************************************\n",
      "3 번째 loop\n",
      "mislav 이 완주했는가?\n",
      "mislav 은 완주하지 못함...\n",
      "**************************************************\n"
     ]
    }
   ],
   "source": [
    "for i in range(len(p)) :\n",
    "    print(i,\"번째 loop\")\n",
    "    person = p.pop()\n",
    "    print(person,\"이 완주했는가?\")\n",
    "    if person in c :\n",
    "        print(person, \"은 완주했음!!\")\n",
    "        c.remove(person)\n",
    "    else : print(person, \"은 완주하지 못함...\")\n",
    "    print(\"*\"*50)"
   ]
  },
  {
   "cell_type": "markdown",
   "id": "69f4b0d0-691b-4b3a-827d-706f0ad0a064",
   "metadata": {},
   "source": [
    "## sol2"
   ]
  },
  {
   "cell_type": "code",
   "execution_count": 223,
   "id": "06c0f434-531e-4586-bffc-951050d4ae59",
   "metadata": {
    "tags": []
   },
   "outputs": [],
   "source": [
    "def solution(p,c) :\n",
    "    p.sort()\n",
    "    c.sort()\n",
    "    for i in range(len(c)) :\n",
    "        if p[i] != c[i] :\n",
    "            return p[i]\n",
    "    return p[-1]"
   ]
  },
  {
   "cell_type": "code",
   "execution_count": 224,
   "id": "d91e6447-1cac-4877-95a1-3625e450b062",
   "metadata": {
    "tags": []
   },
   "outputs": [
    {
     "data": {
      "text/plain": [
       "'mislav'"
      ]
     },
     "execution_count": 224,
     "metadata": {},
     "output_type": "execute_result"
    }
   ],
   "source": [
    "solution(p,c)"
   ]
  },
  {
   "cell_type": "markdown",
   "id": "cede250d-70a3-45d3-839a-48951e3ca912",
   "metadata": {},
   "source": [
    "***"
   ]
  },
  {
   "cell_type": "markdown",
   "id": "54309585-7b37-4668-9869-367952b391c4",
   "metadata": {},
   "source": [
    "# 5. 겹치는 선분의 길이"
   ]
  },
  {
   "cell_type": "markdown",
   "id": "ea0cf47b-d931-460b-b454-6bb52dde71e0",
   "metadata": {},
   "source": [
    "## 예비학습"
   ]
  },
  {
   "cell_type": "code",
   "execution_count": 381,
   "id": "268b285f-6737-4aa4-bd4f-400465bb79bb",
   "metadata": {
    "tags": []
   },
   "outputs": [],
   "source": [
    "lines = [[0, 5], [3, 9], [1, 10]]"
   ]
  },
  {
   "cell_type": "code",
   "execution_count": 382,
   "id": "7456b8cf-a44b-4552-a0eb-e4f2acc5aa60",
   "metadata": {
    "tags": []
   },
   "outputs": [
    {
     "data": {
      "text/plain": [
       "[[0, 5], [3, 9], [1, 10]]"
      ]
     },
     "execution_count": 382,
     "metadata": {},
     "output_type": "execute_result"
    }
   ],
   "source": [
    "lines"
   ]
  },
  {
   "cell_type": "code",
   "execution_count": 383,
   "id": "fc4b1f92-49c3-4153-b2f6-4061aef206a1",
   "metadata": {
    "tags": []
   },
   "outputs": [
    {
     "data": {
      "text/plain": [
       "[{0, 1, 2, 3, 4}, {3, 4, 5, 6, 7, 8}, {1, 2, 3, 4, 5, 6, 7, 8, 9}]"
      ]
     },
     "execution_count": 383,
     "metadata": {},
     "output_type": "execute_result"
    }
   ],
   "source": [
    "sets = [set(range(l[0],l[1])) for l in lines]\n",
    "sets"
   ]
  },
  {
   "cell_type": "markdown",
   "id": "83535d78-91e7-430b-99cd-8c06830f6def",
   "metadata": {},
   "source": [
    "$$\\text{sets[0]} \\cap \\text {sets[1]}= \\text{{3, 4}}$$"
   ]
  },
  {
   "cell_type": "code",
   "execution_count": 384,
   "id": "381361d7-8a80-4650-b711-2de1d85fae54",
   "metadata": {
    "tags": []
   },
   "outputs": [
    {
     "data": {
      "text/plain": [
       "{3, 4}"
      ]
     },
     "execution_count": 384,
     "metadata": {},
     "output_type": "execute_result"
    }
   ],
   "source": [
    "(sets[0] & sets[1])"
   ]
  },
  {
   "cell_type": "code",
   "execution_count": 386,
   "id": "82ad720e-a641-4fb4-a521-2000fdc3d471",
   "metadata": {
    "tags": []
   },
   "outputs": [
    {
     "data": {
      "text/plain": [
       "8"
      ]
     },
     "execution_count": 386,
     "metadata": {},
     "output_type": "execute_result"
    }
   ],
   "source": [
    "len((sets[0] & sets[1]) | (sets[0] & sets[2]) | (sets[1] & sets[2]))"
   ]
  },
  {
   "cell_type": "markdown",
   "id": "4d42a5d5-fd72-4168-9541-cf651ddef450",
   "metadata": {},
   "source": [
    "## sol"
   ]
  },
  {
   "cell_type": "code",
   "execution_count": 387,
   "id": "fc660239-1f9e-4902-bb80-9231e603dba8",
   "metadata": {
    "tags": []
   },
   "outputs": [],
   "source": [
    "def solution(lines):\n",
    "    sets = [set(range(min(l), max(l))) for l in lines]\n",
    "    return len(sets[0] & sets[1] | sets[0] & sets[2] | sets[1] & sets[2])"
   ]
  },
  {
   "cell_type": "code",
   "execution_count": 388,
   "id": "b082f98f-e7d0-425c-bb50-22c7d99123e6",
   "metadata": {
    "tags": []
   },
   "outputs": [
    {
     "data": {
      "text/plain": [
       "8"
      ]
     },
     "execution_count": 388,
     "metadata": {},
     "output_type": "execute_result"
    }
   ],
   "source": [
    "solution(lines)"
   ]
  }
 ],
 "metadata": {
  "kernelspec": {
   "display_name": "Python 3 (ipykernel)",
   "language": "python",
   "name": "python3"
  },
  "language_info": {
   "codemirror_mode": {
    "name": "ipython",
    "version": 3
   },
   "file_extension": ".py",
   "mimetype": "text/x-python",
   "name": "python",
   "nbconvert_exporter": "python",
   "pygments_lexer": "ipython3",
   "version": "3.11.4"
  }
 },
 "nbformat": 4,
 "nbformat_minor": 5
}
