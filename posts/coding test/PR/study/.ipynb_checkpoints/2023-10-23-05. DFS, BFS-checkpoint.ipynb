{
 "cells": [
  {
   "cell_type": "raw",
   "id": "1d73a184-737d-451c-8e20-b3ca01474099",
   "metadata": {},
   "source": [
    "---\n",
    "title : \"05. DFS & BFS\"\n",
    "author : \"GC\"\n",
    "date : \"10/23/23\"\n",
    "categories : [dfs, bfs]\n",
    "---"
   ]
  },
  {
   "cell_type": "markdown",
   "id": "1814e4b9-360f-43e7-81fc-391ffd657468",
   "metadata": {},
   "source": [
    "# 1. 꼭 필요한 자료구조 기초"
   ]
  },
  {
   "cell_type": "markdown",
   "id": "85d4e27e-e883-4771-ba72-1c7c12d14182",
   "metadata": {},
   "source": [
    "`-` 탐색(search) : 많은 양의 데이터 중에서 원하는 데이터를 찾는 과정"
   ]
  },
  {
   "cell_type": "markdown",
   "id": "c64a7703-bd1b-4c0e-a89a-78f615a7cb91",
   "metadata": {},
   "source": [
    "`-` 자료구조(Data Structure) : 데이터를 표현하고 관리하고 처리하기 위한 구조 "
   ]
  },
  {
   "cell_type": "markdown",
   "id": "4faf05af-a748-480b-a38d-a204b574e6fc",
   "metadata": {},
   "source": [
    "* 대표적인 자료구조로 `stack`과 `queue`가 있으며 두 핵심적인 함수로 구성된다.\n",
    "    * 삽입(Push) : 데이터를 삽입한다.\n",
    "    * 삭제(Pop) : 데이터를 삭제한다."
   ]
  },
  {
   "cell_type": "markdown",
   "id": "af384b60-fa5c-4a56-9d7a-090f1b3e4550",
   "metadata": {},
   "source": [
    "`-` 물론 실제로 스택과 큐를 사용할 때는 삽입과 삭제 외에도 오버플로와 언더플로를 고민해야 한다."
   ]
  },
  {
   "cell_type": "markdown",
   "id": "03215c57-e366-4507-9df4-9acc7b6dc100",
   "metadata": {},
   "source": [
    "* 오버플로(overflow) : 특정한 자료구조가 수용할 수 있는 데이터의 크기를 이미 가득 찬 상태에서 삽입 연산을 수행할 때 발생"
   ]
  },
  {
   "cell_type": "markdown",
   "id": "701f0bec-21f5-45dd-ae97-adfa97c3bb46",
   "metadata": {},
   "source": [
    "* 언더플로(underflow) : 특정한 자료구조에 데이터가 전혀 들어 있지 않은 상태에서 삭제 연산을 수행하면 데이터가 전혀 없는 상태이므로 언더플로가 발생한다."
   ]
  },
  {
   "cell_type": "markdown",
   "id": "229f29fc-4f89-419f-8e91-aa55481a5f3f",
   "metadata": {},
   "source": [
    "## (1) 스택"
   ]
  },
  {
   "cell_type": "markdown",
   "id": "45049541-eec4-4b34-b591-f5b642f2fa75",
   "metadata": {},
   "source": [
    "`-` 선입후출의 구조 (First in Last out)"
   ]
  },
  {
   "cell_type": "markdown",
   "id": "442dd1e4-3b12-4f94-9e27-eaa99e54ce60",
   "metadata": {},
   "source": [
    "`-` 예제"
   ]
  },
  {
   "cell_type": "markdown",
   "id": "ed30c320-a03f-4c8a-aab5-30ed4eb58fb8",
   "metadata": {},
   "source": [
    "> 삽입 (5) - 삽입 (2) - 삽입(3) - 삽입(7) - 삭제() - 삽입(1) - 삽입 (4) - 삭제() : `[5, 2, 3, 1]`"
   ]
  },
  {
   "cell_type": "code",
   "execution_count": 1,
   "id": "7b4b7240-a892-46cc-aa18-9c9ecec601f6",
   "metadata": {
    "tags": []
   },
   "outputs": [
    {
     "name": "stdout",
     "output_type": "stream",
     "text": [
      "삽입 -> stack 상태 :  [5]\n",
      "삽입 -> stack 상태 :  [5, 2]\n",
      "삽입 -> stack 상태 :  [5, 2, 3]\n",
      "삽입 -> stack 상태 :  [5, 2, 3, 7]\n",
      "삭제 -> stack 상태 :  [5, 2, 3]\n",
      "삽입 -> stack 상태 :  [5, 2, 3, 1]\n",
      "삽입 -> stack 상태 :  [5, 2, 3, 1, 4]\n",
      "삭제 -> stack 상태 :  [5, 2, 3, 1]\n"
     ]
    }
   ],
   "source": [
    "stack = []\n",
    "stack.append(5)\n",
    "print(\"삽입 -> stack 상태 : \", stack)\n",
    "stack.append(2)\n",
    "print(\"삽입 -> stack 상태 : \", stack)\n",
    "stack.append(3)\n",
    "print(\"삽입 -> stack 상태 : \", stack)\n",
    "stack.append(7)\n",
    "print(\"삽입 -> stack 상태 : \", stack)\n",
    "stack.pop()\n",
    "print(\"삭제 -> stack 상태 : \", stack)\n",
    "stack.append(1)\n",
    "print(\"삽입 -> stack 상태 : \", stack)\n",
    "stack.append(4)\n",
    "print(\"삽입 -> stack 상태 : \", stack)\n",
    "stack.pop()\n",
    "print(\"삭제 -> stack 상태 : \", stack)"
   ]
  },
  {
   "cell_type": "markdown",
   "id": "c0aef158-c41e-4081-a67f-ccb5f4911a3a",
   "metadata": {},
   "source": [
    "## (2) 큐"
   ]
  },
  {
   "cell_type": "markdown",
   "id": "4c8d8178-9083-4c74-b69a-f9b121032342",
   "metadata": {},
   "source": [
    "`-` 큐는 대기 줄에 비유할 수 있으며 선입선출에 구조이다."
   ]
  },
  {
   "cell_type": "markdown",
   "id": "40d87ebb-0aba-4f77-bc0e-90de0a960aee",
   "metadata": {},
   "source": [
    "> 삽입 (5) - 삽입 (2) - 삽입 (3) - 삽입(7) - 삭제() - 삽입(1) - 삽입(4) - 삭제() : `[4, 1, 7, 3]`"
   ]
  },
  {
   "cell_type": "code",
   "execution_count": 14,
   "id": "6cc9d209-142f-4944-9197-f8f3f4b8f9fe",
   "metadata": {
    "tags": []
   },
   "outputs": [
    {
     "name": "stdout",
     "output_type": "stream",
     "text": [
      "큐 상태 -> [5]\n",
      "큐 상태 -> [2, 5]\n",
      "큐 상태 -> [3, 2, 5]\n",
      "큐 상태 -> [7, 3, 2, 5]\n",
      "큐 상태 -> [7, 3, 2]\n",
      "큐 상태 -> [1, 7, 3, 2]\n",
      "큐 상태 -> [4, 1, 7, 3, 2]\n",
      "큐 상태 -> [4, 1, 7, 3]\n"
     ]
    }
   ],
   "source": [
    "from collections import deque\n",
    "\n",
    "queue = deque()\n",
    "\n",
    "queue.append(5)\n",
    "print(\"큐 상태 ->\", list(queue))\n",
    "queue.append(2)\n",
    "print(\"큐 상태 ->\", list(queue)[: :-1])\n",
    "queue.append(3)\n",
    "print(\"큐 상태 ->\", list(queue)[: :-1])\n",
    "queue.append(7)\n",
    "print(\"큐 상태 ->\", list(queue)[: :-1])\n",
    "queue.popleft()\n",
    "print(\"큐 상태 ->\", list(queue)[: :-1])\n",
    "queue.append(1)\n",
    "print(\"큐 상태 ->\", list(queue)[: :-1])\n",
    "queue.append(4)\n",
    "print(\"큐 상태 ->\", list(queue)[: :-1])\n",
    "queue.popleft()\n",
    "print(\"큐 상태 ->\", list(queue)[: :-1])"
   ]
  },
  {
   "cell_type": "markdown",
   "id": "f823a4b6-0588-4ad2-b6b0-892261f722c2",
   "metadata": {},
   "source": [
    "## (3) 재귀 함수"
   ]
  },
  {
   "cell_type": "markdown",
   "id": "f3eaacc8-14e5-45c5-9e20-b8b586b5e286",
   "metadata": {},
   "source": [
    "DFS외 BFS를 구현하려면 재귀함수도 이해하고 있어야 한다. **재귀함수(Recursive Function)** 란 자기 자신을 다시 호출하는 함수!"
   ]
  },
  {
   "cell_type": "markdown",
   "id": "7601cc9a-dc4a-45b1-88ec-c56b03cc872c",
   "metadata": {},
   "source": [
    "`-` 그러나 재귀함수 사용 시 종료 조건을 무조건 명시해야함"
   ]
  },
  {
   "cell_type": "markdown",
   "id": "72d0437e-32ad-4e43-8e48-6f843ecec514",
   "metadata": {},
   "source": [
    "`-` 그렇지 않으면 호출 횟수 제한을 벗어나 다음과 같은 에러문이 발생한다."
   ]
  },
  {
   "cell_type": "markdown",
   "id": "dd0cc5f1-1e16-4488-b4fc-e0fa7eb54143",
   "metadata": {},
   "source": [
    "```python\n",
    "RecursiveError : maximum recursion depth exceeded while pickling an object\n",
    "```"
   ]
  },
  {
   "cell_type": "markdown",
   "id": "cdf69dcd-ac66-4b8c-82d0-e2682cddb08b",
   "metadata": {},
   "source": [
    "### 재귀 함수 종료조건 예제"
   ]
  },
  {
   "cell_type": "markdown",
   "id": "297f6539-8153-44a7-962e-d0045a3e5136",
   "metadata": {},
   "source": [
    "`-` 100번째 출력했을 때 종료되도록 종료 조건 명시"
   ]
  },
  {
   "cell_type": "code",
   "execution_count": 25,
   "id": "01656071-7a15-4d50-86f2-3b2ff819dd38",
   "metadata": {
    "tags": []
   },
   "outputs": [
    {
     "name": "stdout",
     "output_type": "stream",
     "text": [
      "1 번째 호출\n",
      "2 번째 호출\n",
      "3 번째 호출\n",
      "4 번째 호출\n",
      "4 번째 재귀함수 종료\n",
      "3 번째 재귀함수 종료\n",
      "2 번째 재귀함수 종료\n",
      "1 번째 재귀함수 종료\n"
     ]
    }
   ],
   "source": [
    "def r(i) :\n",
    "    if i == 5 :\n",
    "        return\n",
    "    print(i,\"번째 호출\")\n",
    "    r(i+1)\n",
    "    print(i,\"번째 재귀함수 종료\")\n",
    "\n",
    "r(1)"
   ]
  },
  {
   "cell_type": "markdown",
   "id": "879c8b21-339b-4ac6-9e0c-bbd1b15563d5",
   "metadata": {},
   "source": [
    "`-` 컴퓨터 내부에서 재귀함수의 수행은 스택 자료구조를 이용한다."
   ]
  },
  {
   "cell_type": "markdown",
   "id": "4ce0ce42-d81e-4144-ae77-8dc54c0270a5",
   "metadata": {},
   "source": [
    "### 팩토리얼 1. 반복문으로 구현"
   ]
  },
  {
   "cell_type": "code",
   "execution_count": 32,
   "id": "9974150c-e415-4862-8330-ae6bc665248a",
   "metadata": {
    "tags": []
   },
   "outputs": [],
   "source": [
    "def f(n) :\n",
    "    result = 1\n",
    "    for i in range(1,n+1):\n",
    "        result *= i\n",
    "    return result"
   ]
  },
  {
   "cell_type": "code",
   "execution_count": 33,
   "id": "62db5b27-7c2d-463f-8dfe-4396d530c9e0",
   "metadata": {
    "tags": []
   },
   "outputs": [
    {
     "data": {
      "text/plain": [
       "120"
      ]
     },
     "execution_count": 33,
     "metadata": {},
     "output_type": "execute_result"
    }
   ],
   "source": [
    "f(5)"
   ]
  },
  {
   "cell_type": "markdown",
   "id": "e7b5f3a4-da40-483c-bdaa-70f3b3881a7c",
   "metadata": {},
   "source": [
    "### 팩토리얼 2. 재귀적으로 구현"
   ]
  },
  {
   "cell_type": "code",
   "execution_count": 34,
   "id": "aa02cfc9-bdbf-4d77-9e2f-733fbcaab633",
   "metadata": {
    "tags": []
   },
   "outputs": [],
   "source": [
    "def f(n) :\n",
    "    if n <= 1 :\n",
    "        return 1\n",
    "    return n*f(n-1)"
   ]
  },
  {
   "cell_type": "code",
   "execution_count": 35,
   "id": "5e2e7e66-6668-472b-b23d-cf83d76501b1",
   "metadata": {
    "tags": []
   },
   "outputs": [
    {
     "data": {
      "text/plain": [
       "120"
      ]
     },
     "execution_count": 35,
     "metadata": {},
     "output_type": "execute_result"
    }
   ],
   "source": [
    "f(5)"
   ]
  },
  {
   "cell_type": "markdown",
   "id": "5765f490-a896-4a42-8c09-d92eb60389f1",
   "metadata": {},
   "source": [
    "### summary"
   ]
  },
  {
   "cell_type": "markdown",
   "id": "485da1c5-86b7-4ccc-9a04-d6ff0c9e1ce9",
   "metadata": {},
   "source": [
    "`-` 스택은 선입후출, 큐는 선입선출"
   ]
  },
  {
   "cell_type": "markdown",
   "id": "d33d3a64-5979-4e8e-a513-5212729661c4",
   "metadata": {},
   "source": [
    "`-` 재귀함수를 이용하면 반복문으로 구현했을때 보다 훨씬 간결하게 코드를 작성할 수 있음"
   ]
  },
  {
   "cell_type": "markdown",
   "id": "973bd144-2b6a-4e65-b358-22fb5df9c680",
   "metadata": {},
   "source": [
    "***"
   ]
  },
  {
   "cell_type": "markdown",
   "id": "b593a658-86f2-4cab-8974-fe96b38cd864",
   "metadata": {},
   "source": [
    "# 2. 탐색 알고리즘 DFS/BFS"
   ]
  },
  {
   "cell_type": "markdown",
   "id": "afa0f3f2-cb96-4d6a-ad51-5b7151f92abd",
   "metadata": {},
   "source": [
    "`-` DFS를 알기전 알아야할 개념"
   ]
  },
  {
   "cell_type": "markdown",
   "id": "19c208dc-f8d5-4139-9e07-8e0f973bbe9e",
   "metadata": {},
   "source": [
    "`-` 그래프 : 그래프는 노드와 간선으로 표현되며 이때 노드를 `정점`이라고도 한다."
   ]
  },
  {
   "cell_type": "markdown",
   "id": "6ea475c2-8455-4cfe-ab0c-c6d1b1af2fe1",
   "metadata": {},
   "source": [
    "`-` 그래프는 크게 두가지 방식으로 표현한다.\n",
    "\n",
    "* 인접행렬(Adjacency Matrix) : 2차원 배열로 그래프의 연결관계를 표현한 방식\n",
    "\n",
    "* 인접 리스트(Adjacency List) : 리스트로 그래프의 연결 관계를 표현한 방식"
   ]
  },
  {
   "cell_type": "markdown",
   "id": "708b4265-7f89-4760-b795-bc5cf229c3c3",
   "metadata": {},
   "source": [
    "## 인접 행렬"
   ]
  },
  {
   "cell_type": "markdown",
   "id": "56b44573-7436-415b-bead-c3fae02bff21",
   "metadata": {},
   "source": [
    "`-` 아래는 노드 간의 관계를 인접행렬로 표현한 것이다."
   ]
  },
  {
   "cell_type": "markdown",
   "id": "034658e6-8f71-4c88-b541-8e11854564c1",
   "metadata": {},
   "source": [
    "<center><img src=\"https://blog.kakaocdn.net/dn/byASgO/btrneZSIvLc/heBzkfrXOH4kQCeyWVZzH1/img.png\" srcset=\"https://img1.daumcdn.net/thumb/R1280x0/?scode=mtistory2&amp;fname=https%3A%2F%2Fblog.kakaocdn.net%2Fdn%2FbyASgO%2FbtrneZSIvLc%2FheBzkfrXOH4kQCeyWVZzH1%2Fimg.png\" onerror=\"this.onerror=null; this.src='//t1.daumcdn.net/tistory_admin/static/images/no-image-v1.png'; this.srcset='//t1.daumcdn.net/tistory_admin/static/images/no-image-v1.png';\" width=\"400\" height=\"200\" data-filename=\"이것이 코딩테스트다 참고 자료1.png\" data-origin-width=\"1280\" data-origin-height=\"720\" alt=\"인접 행렬 방식\"></center>"
   ]
  },
  {
   "cell_type": "markdown",
   "id": "f8d2881b-a906-4fdc-be58-bbe75e23dfeb",
   "metadata": {},
   "source": [
    "`-` 인접행렬에서는 연결이 되어 있지 않은 노드끼리는 무한의 비용이라고 작성한다."
   ]
  },
  {
   "cell_type": "code",
   "execution_count": 50,
   "id": "d58e0a67-957c-4fe0-9dc4-88cd4998fdd4",
   "metadata": {
    "tags": []
   },
   "outputs": [
    {
     "name": "stdout",
     "output_type": "stream",
     "text": [
      "[[0, 7, 5], [7, 0, 999999999], [5, 999999999, 0]]\n"
     ]
    }
   ],
   "source": [
    "inf = 999999999\n",
    "\n",
    "graph1 = [\n",
    "        [0, 7, 5],\n",
    "        [7, 0, inf],\n",
    "        [5, inf, 0]]\n",
    "\n",
    "print(graph1)"
   ]
  },
  {
   "cell_type": "markdown",
   "id": "e2bb539c-57f1-436e-accc-eeb3280e8e22",
   "metadata": {},
   "source": [
    "## 인접 리스트"
   ]
  },
  {
   "cell_type": "markdown",
   "id": "cf0dba09-5ce9-4476-8527-7861d9341771",
   "metadata": {},
   "source": [
    "<center><img src=\"https://blog.kakaocdn.net/dn/cJAhQE/btrnevq3c9V/OjqAz8M9FIm9iAYKG9p190/img.png\" srcset=\"https://img1.daumcdn.net/thumb/R1280x0/?scode=mtistory2&amp;fname=https%3A%2F%2Fblog.kakaocdn.net%2Fdn%2FcJAhQE%2Fbtrnevq3c9V%2FOjqAz8M9FIm9iAYKG9p190%2Fimg.png\" onerror=\"this.onerror=null; this.src='//t1.daumcdn.net/tistory_admin/static/images/no-image-v1.png'; this.srcset='//t1.daumcdn.net/tistory_admin/static/images/no-image-v1.png';\" width=\"400\" height=\"200\" data-filename=\"2. 인접리스트 방식.png\" data-origin-width=\"1280\" data-origin-height=\"720\" alt=\"인접 행렬 방식\"></center>"
   ]
  },
  {
   "cell_type": "markdown",
   "id": "3901765f-ebb5-4335-afac-757942512765",
   "metadata": {},
   "source": [
    "`-` 인접 리스트에서는 모든 노드에 연결된 노드에 대한 정보를 차레대로 연결하여 저장한다."
   ]
  },
  {
   "cell_type": "markdown",
   "id": "87d6a9b8-7d56-49ac-83ad-f2206e7bacc8",
   "metadata": {},
   "source": [
    "`-` 위를 코드로 작성하면"
   ]
  },
  {
   "cell_type": "code",
   "execution_count": 51,
   "id": "c7529fd2-5a2d-459c-88c5-6e96c0c3cee5",
   "metadata": {
    "tags": []
   },
   "outputs": [
    {
     "data": {
      "text/plain": [
       "[[], [], []]"
      ]
     },
     "execution_count": 51,
     "metadata": {},
     "output_type": "execute_result"
    }
   ],
   "source": [
    "graph2 = [[] for _ in range(3)]\n",
    "graph2"
   ]
  },
  {
   "cell_type": "markdown",
   "id": "24b34520-d7de-4f35-850e-26ab021f00b3",
   "metadata": {},
   "source": [
    "`-` step1. 노드 0에 연결된 노드 정보 저장(노드, 거리)"
   ]
  },
  {
   "cell_type": "code",
   "execution_count": 52,
   "id": "3aa472fc-2960-470b-ba92-133ab97f9c46",
   "metadata": {
    "tags": []
   },
   "outputs": [
    {
     "data": {
      "text/plain": [
       "[[(1, 7), (2, 5)], [], []]"
      ]
     },
     "execution_count": 52,
     "metadata": {},
     "output_type": "execute_result"
    }
   ],
   "source": [
    "graph2[0].append((1,7))\n",
    "graph2[0].append((2,5))\n",
    "graph2"
   ]
  },
  {
   "cell_type": "markdown",
   "id": "ec56b3a6-56fd-4496-9dee-2db61c58d742",
   "metadata": {},
   "source": [
    "* 현재 총 노드가 3개이므로 각 리스트에 `i`번째 원소는 `i`번째 노드와 해당 노드와 연결된 노드와의 연결 정보를 의미한다."
   ]
  },
  {
   "cell_type": "markdown",
   "id": "d0188b39-6755-45f1-83e5-1bc0370e0dfd",
   "metadata": {},
   "source": [
    "`-` step2. 노드 1에 연결된 노드 정보 저장"
   ]
  },
  {
   "cell_type": "code",
   "execution_count": 53,
   "id": "3f26e8e2-4b6a-46e9-ad19-180753c415fa",
   "metadata": {
    "tags": []
   },
   "outputs": [
    {
     "data": {
      "text/plain": [
       "[[(1, 7), (2, 5)], [(0, 7)], []]"
      ]
     },
     "execution_count": 53,
     "metadata": {},
     "output_type": "execute_result"
    }
   ],
   "source": [
    "graph2[1].append((0,7))\n",
    "graph2"
   ]
  },
  {
   "cell_type": "markdown",
   "id": "a7cc7100-6415-4366-af84-a64241ea9bf3",
   "metadata": {},
   "source": [
    "`-` step3. 노드 2에 연결된 노드 정보 저장"
   ]
  },
  {
   "cell_type": "code",
   "execution_count": 54,
   "id": "15063d65-047a-4b99-8ae1-be6e78823436",
   "metadata": {
    "tags": []
   },
   "outputs": [
    {
     "data": {
      "text/plain": [
       "[[(1, 7), (2, 5)], [(0, 7)], [(0, 5)]]"
      ]
     },
     "execution_count": 54,
     "metadata": {},
     "output_type": "execute_result"
    }
   ],
   "source": [
    "graph2[2].append((0,5))\n",
    "graph2"
   ]
  },
  {
   "cell_type": "code",
   "execution_count": 56,
   "id": "b9c704f4-23eb-41ef-b282-1ed8f53288c3",
   "metadata": {
    "tags": []
   },
   "outputs": [
    {
     "name": "stdout",
     "output_type": "stream",
     "text": [
      "[[(1, 7), (2, 5)], [(0, 7)], [(0, 5)]]\n"
     ]
    }
   ],
   "source": [
    "print(graph2)"
   ]
  },
  {
   "cell_type": "markdown",
   "id": "7584f04a-c51c-47db-98b5-ab43678d1be2",
   "metadata": {},
   "source": [
    "### 두 방식의 차이 비교"
   ]
  },
  {
   "cell_type": "markdown",
   "id": "25fa18f3-43b2-4ad2-8011-fc77257baba3",
   "metadata": {},
   "source": [
    "`-` 메모리 측면\n",
    "\n",
    "* 메모리 측면에서 보면 인접 행렬 방식은 `3 x 3` 즉, 모든 관계를 저장하므로 노드 개수가 많아지면 메모리가 불필요하게 낭비된다.\n",
    "\n",
    "* 반면에 인접 리스트 방식은 연결된 정보만을 저장하기 때문에 메모리를 효율적으로 사용한다.\n",
    "\n",
    "* 그러나 인접 리스트 방식은 특정한 두 노드가 연결되어 있는지에 대한 정보를 얻는 속도가 느림 **(데이터를 하나씩 확인해야 하기 때문)**"
   ]
  },
  {
   "cell_type": "markdown",
   "id": "0ed8556b-48d7-4966-97aa-56c63bf0e170",
   "metadata": {},
   "source": [
    "> example. 노드 1과 노드  7이 연결되어 있는 상황\n",
    "\n",
    "* 인접 행렬 방식 : `graph[1][7]` 만 확인하면 된다.\n",
    "\n",
    "* 인접 리스트 방식 : 노드 1에 대한 인접 리스트를 앞에서부터 차례대로 확인해야됨\n",
    "    * 그러므로 특정한 노드와 연결된 모든 인접 노드를 순회해야한다면? -> 당연히 인접 행렬 방식이 메모리 낭비가 적음"
   ]
  },
  {
   "cell_type": "code",
   "execution_count": 58,
   "id": "ab2ca604-9cad-47b7-965c-0cc716af9dff",
   "metadata": {
    "tags": []
   },
   "outputs": [
    {
     "data": {
      "text/plain": [
       "[[0, 7, 5], [7, 0, 999999999], [5, 999999999, 0]]"
      ]
     },
     "execution_count": 58,
     "metadata": {},
     "output_type": "execute_result"
    }
   ],
   "source": [
    "graph1"
   ]
  },
  {
   "cell_type": "code",
   "execution_count": 59,
   "id": "ebdf1723-a8b7-4457-ba9d-f4e1ec3bda07",
   "metadata": {
    "tags": []
   },
   "outputs": [
    {
     "data": {
      "text/plain": [
       "[[(1, 7), (2, 5)], [(0, 7)], [(0, 5)]]"
      ]
     },
     "execution_count": 59,
     "metadata": {},
     "output_type": "execute_result"
    }
   ],
   "source": [
    "graph2"
   ]
  },
  {
   "cell_type": "markdown",
   "id": "64a335f6-9897-4fcf-98fc-ee56b1d434bc",
   "metadata": {},
   "source": [
    "## DFS"
   ]
  },
  {
   "cell_type": "markdown",
   "id": "6a60ea9a-71f9-446e-b6b9-c0e200c693b6",
   "metadata": {
    "tags": []
   },
   "source": [
    "`-` DFS는 깊이 우선 탐색 알고리즘이다."
   ]
  },
  {
   "cell_type": "markdown",
   "id": "0a54f845-338e-494d-ad2e-03f5d783eb08",
   "metadata": {},
   "source": [
    "`-` 이 알고리즘은 특정한 경로로 탐색하다가 특정한 상황에서 최대한 깊숙이 들어가서 노드를 방문한 후, 다시 돌아가 다른 경로로 탐색하는 알고리즘임."
   ]
  },
  {
   "cell_type": "markdown",
   "id": "6e5cbe76-432f-4559-b355-eb3ad4ffa25f",
   "metadata": {},
   "source": [
    "`-` 스택 자료구조를 이용하며 구체적인 동작 과정은 다음과 같다."
   ]
  },
  {
   "cell_type": "markdown",
   "id": "b15e61a7-4cc4-429e-bc8f-778a8ffc1f4b",
   "metadata": {},
   "source": [
    "1. 탐색 시작 노드를 스택에 삽입하고 방문 처리를 한다.\n",
    "\n",
    "2. 스택의 최상단 노드에 방문하지 않은 인접 노드가 있으면 그 인접 노드를 스택에 넣고 방문 처리를 한다.\n",
    "\n",
    "3. 방문하지 않은 인접 노드가 없으면 스택에서 최상단 노드를 꺼낸다.\n",
    "\n",
    "4. `2`번과 `3`번 과정을 더 이상 수행할 수 없을 때까지 반복"
   ]
  },
  {
   "cell_type": "markdown",
   "id": "771d5f60-e41c-4558-bb6f-d1dea13e1f01",
   "metadata": {},
   "source": [
    "`-` tip  : `방문 처리`는 스택에 한 번 삽입되어 처리된 노드가 다시 삽입되지 않게 체크하는 것을 의미한다. 방문 처리를 함으로써 각 노드를 한 번씩만 처리할 수 있다."
   ]
  },
  {
   "cell_type": "markdown",
   "id": "5bd9a39c-5281-457a-8132-04cd2e259147",
   "metadata": {},
   "source": [
    "### 예제 1. 1번 노드에서 시작"
   ]
  },
  {
   "cell_type": "markdown",
   "id": "7f02edb9-8d57-4fab-adc2-093ee5c7bd47",
   "metadata": {},
   "source": [
    "<center><img onerror=\"this.onerror=null; this.src='//t1.daumcdn.net/tistory_admin/static/images/no-image-v1.png'; this.srcset='//t1.daumcdn.net/tistory_admin/static/images/no-image-v1.png';\" data-origin-width=\"400\" data-origin-height=\"200\" class=\"lazyautosizes lazyloaded\" data-src=\"https://blog.kakaocdn.net/dn/cyaNIZ/btsk28iYxaH/QeN8Na7i9kB1KwMcaImhp0/img.png\" data-srcset=\"https://img1.daumcdn.net/thumb/R1280x0/?scode=mtistory2&amp;fname=https%3A%2F%2Fblog.kakaocdn.net%2Fdn%2FcyaNIZ%2Fbtsk28iYxaH%2FQeN8Na7i9kB1KwMcaImhp0%2Fimg.png\" data-sizes=\"auto\" sizes=\"821px\" srcset=\"https://img1.daumcdn.net/thumb/R1280x0/?scode=mtistory2&amp;fname=https%3A%2F%2Fblog.kakaocdn.net%2Fdn%2FcyaNIZ%2Fbtsk28iYxaH%2FQeN8Na7i9kB1KwMcaImhp0%2Fimg.png\" src=\"https://blog.kakaocdn.net/dn/cyaNIZ/btsk28iYxaH/QeN8Na7i9kB1KwMcaImhp0/img.png\"> </center>"
   ]
  },
  {
   "cell_type": "markdown",
   "id": "21968e8c-1975-4ac8-974e-bd2e83ebc343",
   "metadata": {},
   "source": [
    "`1` 1번 노드를 스택에 넣고 방문처리"
   ]
  },
  {
   "cell_type": "code",
   "execution_count": 61,
   "id": "7a283f91-1d09-4cbc-8c35-ccbf9c5bd73d",
   "metadata": {
    "tags": []
   },
   "outputs": [
    {
     "data": {
      "text/plain": [
       "[1]"
      ]
     },
     "execution_count": 61,
     "metadata": {},
     "output_type": "execute_result"
    }
   ],
   "source": [
    "stack = []\n",
    "stack.append(1)\n",
    "stack"
   ]
  },
  {
   "cell_type": "markdown",
   "id": "8cf61751-7202-41ee-a182-40aeb86a6912",
   "metadata": {},
   "source": [
    "`2` 1번 노드와 인접한 노드 중 가장 작은 노드인 `2`를 스택에 넣고 방문 처리"
   ]
  },
  {
   "cell_type": "code",
   "execution_count": 62,
   "id": "8dc2695a-5ce2-4bf6-a261-77049122912e",
   "metadata": {
    "tags": []
   },
   "outputs": [
    {
     "data": {
      "text/plain": [
       "[1, 2]"
      ]
     },
     "execution_count": 62,
     "metadata": {},
     "output_type": "execute_result"
    }
   ],
   "source": [
    "stack.append(2)\n",
    "stack"
   ]
  },
  {
   "cell_type": "markdown",
   "id": "90695416-6a2a-414b-b551-40b8d047c2c8",
   "metadata": {},
   "source": [
    "`3` 2번 노드와 인접한 노드인 `7`을 스택에 넣고 방문 처리"
   ]
  },
  {
   "cell_type": "code",
   "execution_count": 63,
   "id": "2339b6c4-c297-4a5e-8360-12a6f3dfe96a",
   "metadata": {
    "tags": []
   },
   "outputs": [
    {
     "data": {
      "text/plain": [
       "[1, 2, 7]"
      ]
     },
     "execution_count": 63,
     "metadata": {},
     "output_type": "execute_result"
    }
   ],
   "source": [
    "stack.append(7)\n",
    "stack"
   ]
  },
  {
   "cell_type": "markdown",
   "id": "0838bf83-90d1-4050-bc44-c441fa1b0e70",
   "metadata": {},
   "source": [
    "`4` 7번 노드와 인접한 노드 중 가장 작은 노드인 `6`을 스택에 넣고 방문 처리"
   ]
  },
  {
   "cell_type": "code",
   "execution_count": 64,
   "id": "be6f50cf-1f1d-4cf9-9c83-2f755521f334",
   "metadata": {
    "tags": []
   },
   "outputs": [
    {
     "data": {
      "text/plain": [
       "[1, 2, 7, 6]"
      ]
     },
     "execution_count": 64,
     "metadata": {},
     "output_type": "execute_result"
    }
   ],
   "source": [
    "stack.append(6)\n",
    "stack"
   ]
  },
  {
   "cell_type": "markdown",
   "id": "3d651650-21ac-4e8e-9f83-5637c7e60f97",
   "metadata": {},
   "source": [
    "`5` 스택의 최상단 노드인 `6`에 방문하지 않은 인접 노드가 없으므 `6`번 노드를 스택에서 꺼냄"
   ]
  },
  {
   "cell_type": "code",
   "execution_count": 65,
   "id": "997a9e9f-5d17-451c-8f9b-7afebe694417",
   "metadata": {
    "tags": []
   },
   "outputs": [
    {
     "data": {
      "text/plain": [
       "[1, 2, 7]"
      ]
     },
     "execution_count": 65,
     "metadata": {},
     "output_type": "execute_result"
    }
   ],
   "source": [
    "stack.pop()\n",
    "stack"
   ]
  },
  {
   "cell_type": "markdown",
   "id": "f2207ce3-fe1b-40a9-bb07-ad6df62086dd",
   "metadata": {},
   "source": [
    "`6` 다시 돌아가서 스택의 최상단 노드인 `7`과 인접한 노드 중 방문하지 않은 노드 `8`이 있으므로 스택에 넣고 방문 처리"
   ]
  },
  {
   "cell_type": "code",
   "execution_count": 66,
   "id": "4bfed600-530b-4006-91ff-15c50953b4d1",
   "metadata": {
    "tags": []
   },
   "outputs": [
    {
     "data": {
      "text/plain": [
       "[1, 2, 7, 8]"
      ]
     },
     "execution_count": 66,
     "metadata": {},
     "output_type": "execute_result"
    }
   ],
   "source": [
    "stack.append(8)\n",
    "stack"
   ]
  },
  {
   "cell_type": "markdown",
   "id": "e85eb41e-e20d-4a1a-aad8-633f8b4e4b93",
   "metadata": {},
   "source": [
    "`7` 스택의 최상단 노드 `8`에 방문하지 않은 인접한 노드가 없으므로 `8`을 스택에서 꺼냄"
   ]
  },
  {
   "cell_type": "code",
   "execution_count": 67,
   "id": "a55b2682-7fcd-4c3f-8c7c-e36f44f98a6e",
   "metadata": {
    "tags": []
   },
   "outputs": [
    {
     "data": {
      "text/plain": [
       "[1, 2, 7]"
      ]
     },
     "execution_count": 67,
     "metadata": {},
     "output_type": "execute_result"
    }
   ],
   "source": [
    "stack.pop()\n",
    "stack"
   ]
  },
  {
   "cell_type": "markdown",
   "id": "0f9e590a-03e9-4195-ab8d-46c805db7dae",
   "metadata": {},
   "source": [
    "`8` 스택의 최상단 노드 `7`에 방문하지 않은 인접한 노드가 없으므로 `7`을 스택에서 꺼냄"
   ]
  },
  {
   "cell_type": "code",
   "execution_count": 68,
   "id": "4e66ac32-a7c4-4122-962a-a10a5bfe0ee5",
   "metadata": {
    "tags": []
   },
   "outputs": [
    {
     "data": {
      "text/plain": [
       "[1, 2]"
      ]
     },
     "execution_count": 68,
     "metadata": {},
     "output_type": "execute_result"
    }
   ],
   "source": [
    "stack.pop()\n",
    "stack"
   ]
  },
  {
   "cell_type": "markdown",
   "id": "7d60a2a4-e0d8-4451-b83e-c53b85c06548",
   "metadata": {},
   "source": [
    "`9` 스택의 최상단 노드 `2`에 방문하지 않은 인접한 노드가 없으므로 `2`을 스택에서 꺼냄"
   ]
  },
  {
   "cell_type": "code",
   "execution_count": 69,
   "id": "dec3115a-ac2f-49a1-8b5f-a76cb73984f6",
   "metadata": {
    "tags": []
   },
   "outputs": [
    {
     "data": {
      "text/plain": [
       "[1]"
      ]
     },
     "execution_count": 69,
     "metadata": {},
     "output_type": "execute_result"
    }
   ],
   "source": [
    "stack.pop()\n",
    "stack"
   ]
  },
  {
   "cell_type": "markdown",
   "id": "4fa1b6a5-739b-4f9d-afe6-a5c755384d22",
   "metadata": {},
   "source": [
    "`10`스택의 최상단 노드인 `1`에서 인접한 노드인 `3`을 스택에 넣고 방문 처리"
   ]
  },
  {
   "cell_type": "code",
   "execution_count": 70,
   "id": "8afc541a-3081-4fe2-8ecb-54959bc8aac0",
   "metadata": {
    "tags": []
   },
   "outputs": [
    {
     "data": {
      "text/plain": [
       "[1, 3]"
      ]
     },
     "execution_count": 70,
     "metadata": {},
     "output_type": "execute_result"
    }
   ],
   "source": [
    "stack.append(3)\n",
    "stack"
   ]
  },
  {
   "cell_type": "markdown",
   "id": "659dac3b-2e20-4913-9222-b1a50c23a3e8",
   "metadata": {},
   "source": [
    "`11` 스택의 최상단 노드인 `3`과 인접한 노드 중 가장 작은 노드인 `4`를 스택에 넣고 방문 처리"
   ]
  },
  {
   "cell_type": "code",
   "execution_count": 71,
   "id": "5d48e093-fec2-4cba-8468-6a93325fbed2",
   "metadata": {
    "tags": []
   },
   "outputs": [
    {
     "data": {
      "text/plain": [
       "[1, 3, 4]"
      ]
     },
     "execution_count": 71,
     "metadata": {},
     "output_type": "execute_result"
    }
   ],
   "source": [
    "stack.append(4)\n",
    "stack"
   ]
  },
  {
   "cell_type": "markdown",
   "id": "f998242e-1211-4e2e-9a12-af5b8d8a4e6c",
   "metadata": {},
   "source": [
    "`12` 스택의 최상단 노드인 `4`에 인접한 노드인 `5`를 스택에 넣고 방문 처리"
   ]
  },
  {
   "cell_type": "code",
   "execution_count": 72,
   "id": "efccc8f5-fc8c-4b7e-b0fb-76bce2f58e3b",
   "metadata": {
    "tags": []
   },
   "outputs": [
    {
     "data": {
      "text/plain": [
       "[1, 3, 4, 5]"
      ]
     },
     "execution_count": 72,
     "metadata": {},
     "output_type": "execute_result"
    }
   ],
   "source": [
    "stack.append(5)\n",
    "stack"
   ]
  },
  {
   "cell_type": "markdown",
   "id": "cb5a76dc-2bff-4128-ba41-bd5f6c90cc01",
   "metadata": {
    "tags": []
   },
   "source": [
    "`13` 남아 있는 노드에 방문하지 않은 인접 노드가 업으므로 차례대로 꺼냄"
   ]
  },
  {
   "cell_type": "code",
   "execution_count": 74,
   "id": "eb75b0be-4117-4d89-9ea9-ff5cb39dc046",
   "metadata": {
    "tags": []
   },
   "outputs": [
    {
     "data": {
      "text/plain": [
       "1"
      ]
     },
     "execution_count": 74,
     "metadata": {},
     "output_type": "execute_result"
    }
   ],
   "source": [
    "stack.pop()\n",
    "stack.pop()\n",
    "stack.pop()\n",
    "stack.pop()"
   ]
  },
  {
   "cell_type": "markdown",
   "id": "fe79dd11-17ef-46e1-8c14-37a111136913",
   "metadata": {},
   "source": [
    "`-` 결과적으로 노드의 탐색 순서는? `[1,2,7,6,8,3,4,5]`"
   ]
  },
  {
   "cell_type": "markdown",
   "id": "a41ee003-2e89-42e6-a066-04f472b49729",
   "metadata": {},
   "source": [
    "<center><img onerror=\"this.onerror=null; this.src='//t1.daumcdn.net/tistory_admin/static/images/no-image-v1.png'; this.srcset='//t1.daumcdn.net/tistory_admin/static/images/no-image-v1.png';\" data-origin-width=\"400\" data-origin-height=\"200\" class=\"lazyautosizes lazyloaded\" data-src=\"https://blog.kakaocdn.net/dn/cyaNIZ/btsk28iYxaH/QeN8Na7i9kB1KwMcaImhp0/img.png\" data-srcset=\"https://img1.daumcdn.net/thumb/R1280x0/?scode=mtistory2&amp;fname=https%3A%2F%2Fblog.kakaocdn.net%2Fdn%2FcyaNIZ%2Fbtsk28iYxaH%2FQeN8Na7i9kB1KwMcaImhp0%2Fimg.png\" data-sizes=\"auto\" sizes=\"821px\" srcset=\"https://img1.daumcdn.net/thumb/R1280x0/?scode=mtistory2&amp;fname=https%3A%2F%2Fblog.kakaocdn.net%2Fdn%2FcyaNIZ%2Fbtsk28iYxaH%2FQeN8Na7i9kB1KwMcaImhp0%2Fimg.png\" src=\"https://blog.kakaocdn.net/dn/cyaNIZ/btsk28iYxaH/QeN8Na7i9kB1KwMcaImhp0/img.png\"> </center>"
   ]
  },
  {
   "cell_type": "markdown",
   "id": "0e3d7369-982a-4ce5-acbd-10592112ca5d",
   "metadata": {},
   "source": [
    "`-` 깊이 우선 탐색 알고리즘인 `DFS`는 스택 자료구조에 기초한다는 점에서 구현이 간단하다."
   ]
  },
  {
   "cell_type": "markdown",
   "id": "dc9dfc33-747c-4754-952a-4b9d5b19cbdd",
   "metadata": {},
   "source": [
    "`-` 살제로는 스택을 쓰지 않아도 되며 탐색을 수행함에 있어서 데이터의 개수가 $N$개인 경우 $O(N)$의 시간이 소요된다."
   ]
  },
  {
   "cell_type": "markdown",
   "id": "485711b5-44f2-4f87-aa31-a710fc007876",
   "metadata": {},
   "source": [
    "`-` 또한 `DFS`는 스택을 이용하는 알고리즘이기 때문에 실제 구현은 재귀 함수를 이용했을 때 매우 간결하게 구현할 수 있음."
   ]
  },
  {
   "cell_type": "markdown",
   "id": "05e67047-677b-48ff-85d6-d2d2042ed048",
   "metadata": {},
   "source": [
    "`-` keypoint : **이동에 대한 변화와 방문처리를 코딩해야한다**"
   ]
  },
  {
   "cell_type": "markdown",
   "id": "17916b77-c551-4dec-b8a3-279b6b8743ec",
   "metadata": {},
   "source": [
    "### 예제 1번 DFS 코드 작성"
   ]
  },
  {
   "cell_type": "markdown",
   "id": "e37ee04e-400c-488f-a90f-0d6c18579188",
   "metadata": {},
   "source": [
    "<center><img onerror=\"this.onerror=null; this.src='//t1.daumcdn.net/tistory_admin/static/images/no-image-v1.png'; this.srcset='//t1.daumcdn.net/tistory_admin/static/images/no-image-v1.png';\" data-origin-width=\"300\" data-origin-height=\"100\" class=\"lazyautosizes lazyloaded\" data-src=\"https://blog.kakaocdn.net/dn/cyaNIZ/btsk28iYxaH/QeN8Na7i9kB1KwMcaImhp0/img.png\" data-srcset=\"https://img1.daumcdn.net/thumb/R1280x0/?scode=mtistory2&amp;fname=https%3A%2F%2Fblog.kakaocdn.net%2Fdn%2FcyaNIZ%2Fbtsk28iYxaH%2FQeN8Na7i9kB1KwMcaImhp0%2Fimg.png\" data-sizes=\"auto\" sizes=\"821px\" srcset=\"https://img1.daumcdn.net/thumb/R1280x0/?scode=mtistory2&amp;fname=https%3A%2F%2Fblog.kakaocdn.net%2Fdn%2FcyaNIZ%2Fbtsk28iYxaH%2FQeN8Na7i9kB1KwMcaImhp0%2Fimg.png\" src=\"https://blog.kakaocdn.net/dn/cyaNIZ/btsk28iYxaH/QeN8Na7i9kB1KwMcaImhp0/img.png\"> </center>"
   ]
  },
  {
   "cell_type": "code",
   "execution_count": 99,
   "id": "0e969b6b-5dc6-42d6-a43b-ad6a75a958aa",
   "metadata": {
    "tags": []
   },
   "outputs": [],
   "source": [
    "def dfs(graph, v, visited) : \n",
    "    # 현재 노드를 방문 처리\n",
    "    visited[v] = True\n",
    "    print(v, end = \" \")\n",
    "    # 현재 노드와 연결된 다른 노드를 재귀적으로 방문\n",
    "    for i in graph[v] :\n",
    "        if not visited[i] :\n",
    "            dfs(graph, i, visited)"
   ]
  },
  {
   "cell_type": "code",
   "execution_count": 100,
   "id": "f6cc4100-c225-456f-b00b-f5711cf76275",
   "metadata": {
    "tags": []
   },
   "outputs": [],
   "source": [
    "## 연결된 정보를 인접 리스트로 표현\n",
    "graph = [[], # 0번 노드는 없으므로 비어있음\n",
    "         [2, 3, 8],\n",
    "         [1, 7],\n",
    "         [1, 4, 5],\n",
    "         [3, 5],\n",
    "         [3, 4],\n",
    "         [7],\n",
    "         [2, 6, 8],\n",
    "         [1, 7]]"
   ]
  },
  {
   "cell_type": "markdown",
   "id": "07375196-af73-4b6d-b550-21339727b004",
   "metadata": {},
   "source": [
    "`-` loop문은 아래와 같이 `v` 번째 노드의 연결된 `i` 노드들을 호출하기 위함임"
   ]
  },
  {
   "cell_type": "code",
   "execution_count": 101,
   "id": "8c5a8916-add9-4b8d-9f1a-ec0029eac6f1",
   "metadata": {
    "tags": []
   },
   "outputs": [
    {
     "name": "stdout",
     "output_type": "stream",
     "text": [
      "2\n",
      "3\n",
      "8\n"
     ]
    }
   ],
   "source": [
    "for i in graph[1] :\n",
    "    print(i)"
   ]
  },
  {
   "cell_type": "markdown",
   "id": "90f2cf29-8e63-4a28-866b-b8f1661e5529",
   "metadata": {},
   "source": [
    "`-` 각 노드가 방문된 정보를 리스트 자료형으로 표현"
   ]
  },
  {
   "cell_type": "code",
   "execution_count": 102,
   "id": "2259c2c9-c4d7-4a91-a4fe-d0f3cf54991e",
   "metadata": {
    "tags": []
   },
   "outputs": [],
   "source": [
    "visited = [False]*9"
   ]
  },
  {
   "cell_type": "markdown",
   "id": "1d11b539-2014-4224-9555-e03b63d61f2b",
   "metadata": {},
   "source": [
    "`-` 정의된 DFS 함수 호출"
   ]
  },
  {
   "cell_type": "code",
   "execution_count": 103,
   "id": "864dffda-0bea-4b74-9ce4-91c38ac9103c",
   "metadata": {
    "tags": []
   },
   "outputs": [
    {
     "name": "stdout",
     "output_type": "stream",
     "text": [
      "1 2 7 6 8 3 4 5 "
     ]
    }
   ],
   "source": [
    "dfs(graph, 1, visited)"
   ]
  },
  {
   "cell_type": "markdown",
   "id": "e0e328a0-df2f-438e-9bef-882a2bb4bc42",
   "metadata": {},
   "source": [
    "***"
   ]
  },
  {
   "cell_type": "markdown",
   "id": "b83d16bc-7787-4bd1-a98d-f1abb22698d4",
   "metadata": {},
   "source": [
    "## BFS"
   ]
  },
  {
   "cell_type": "markdown",
   "id": "cbdcd088-eb41-4aa3-99b8-860aeb12c7bf",
   "metadata": {},
   "source": [
    "`-` Breadth First Search : 너비 우선 탐색"
   ]
  },
  {
   "cell_type": "markdown",
   "id": "f4fe553f-0657-45ed-9393-692ba995811b",
   "metadata": {},
   "source": [
    "`-` 가까운 노드부터 탐색하는 알고리즘"
   ]
  },
  {
   "cell_type": "markdown",
   "id": "c0fa3c31-1791-4393-ac98-ed90c9e9f7b0",
   "metadata": {},
   "source": [
    "`-` 앞선 DFS 방식에서는 최대한 깊숙이 들어갔다가 나중에 다시 돌아오는 방식, 즉 멀리 있는 노드를 우선적으로 탐색하였다."
   ]
  },
  {
   "cell_type": "markdown",
   "id": "f6c45472-e11d-4ed9-bb8f-74b9b00c3798",
   "metadata": {},
   "source": [
    "`-` BFS는 큐 자료구조를 이용하여, 인접한 노드를 반복적으로 큐에 넣도록 알고리즘을 작성해 자연스럽게 먼저 들어온 것이 먼저 나가게 되어, 가까운 노드부터 탐색을 진행하게 된다."
   ]
  },
  {
   "cell_type": "markdown",
   "id": "8eb1eb47-6bbb-4a80-8af1-b97b2c59e502",
   "metadata": {},
   "source": [
    "`-` 동작 방식"
   ]
  },
  {
   "cell_type": "markdown",
   "id": "4869caaa-7d69-49a9-be7e-159e2cbe65fa",
   "metadata": {},
   "source": [
    "1. 탐색 시작 노드를 큐에 삽입하고 방문 처리\n",
    "\n",
    "2. 큐에서 노드를 꺼내 해당 노드의 인접 노드 중에 방문하지 않은 노드를 모두 큐에 삽입하여 방문 처리\n",
    "\n",
    "3. `2`번의 과정을 더 이상 수행할 수 없을 때까지 반복한다."
   ]
  },
  {
   "cell_type": "markdown",
   "id": "4326a4d2-09bf-4a4c-b91b-8b7f258d8f72",
   "metadata": {},
   "source": [
    "### 예제 1. 1번노드에서 시작"
   ]
  },
  {
   "cell_type": "markdown",
   "id": "81dd982a-d65d-4c8d-a4e4-8f0b49a48e1d",
   "metadata": {},
   "source": [
    "<center><img onerror=\"this.onerror=null; this.src='//t1.daumcdn.net/tistory_admin/static/images/no-image-v1.png'; this.srcset='//t1.daumcdn.net/tistory_admin/static/images/no-image-v1.png';\" data-origin-width=\"300\" data-origin-height=\"100\" class=\"lazyautosizes lazyloaded\" data-src=\"https://blog.kakaocdn.net/dn/cyaNIZ/btsk28iYxaH/QeN8Na7i9kB1KwMcaImhp0/img.png\" data-srcset=\"https://img1.daumcdn.net/thumb/R1280x0/?scode=mtistory2&amp;fname=https%3A%2F%2Fblog.kakaocdn.net%2Fdn%2FcyaNIZ%2Fbtsk28iYxaH%2FQeN8Na7i9kB1KwMcaImhp0%2Fimg.png\" data-sizes=\"auto\" sizes=\"821px\" srcset=\"https://img1.daumcdn.net/thumb/R1280x0/?scode=mtistory2&amp;fname=https%3A%2F%2Fblog.kakaocdn.net%2Fdn%2FcyaNIZ%2Fbtsk28iYxaH%2FQeN8Na7i9kB1KwMcaImhp0%2Fimg.png\" src=\"https://blog.kakaocdn.net/dn/cyaNIZ/btsk28iYxaH/QeN8Na7i9kB1KwMcaImhp0/img.png\"> </center>"
   ]
  },
  {
   "cell_type": "markdown",
   "id": "bbbd37ab-588c-4350-90b6-1b42fb8d610e",
   "metadata": {},
   "source": [
    "`1` 1번 노드를 큐에 삽입하고 방문처리"
   ]
  },
  {
   "cell_type": "markdown",
   "id": "a434d488-44cd-4efa-ae39-8dfc52783ab7",
   "metadata": {},
   "source": [
    "`2` 1번 노드를 꺼내고 `2,3,8`을 모두 큐에 삽입하고 방문 처리"
   ]
  },
  {
   "cell_type": "markdown",
   "id": "6de0ddb6-17f2-4426-aa63-e6fbd9d96286",
   "metadata": {},
   "source": [
    "`3` 큐에서 노드 `2`를 꺼내고 방문하지 않은 인접 노드 `7`을 큐에 삽입 후 방문 처리"
   ]
  },
  {
   "cell_type": "markdown",
   "id": "67f2fa5f-8f1a-4b7d-8f4f-05530a6ff8e2",
   "metadata": {},
   "source": [
    "`4` 큐에서 노드 `3`을 꺼내고 방문하지 않은 인접노드 `4`, `5`를 큐에 삽입 후 방문 처리"
   ]
  },
  {
   "cell_type": "markdown",
   "id": "588107d2-5968-414f-b40d-8a30e95bb570",
   "metadata": {},
   "source": [
    "`5` 큐에서 노드 `8`을 꺼내고 방문하지 않은 인접노드가 없으므로 무시"
   ]
  },
  {
   "cell_type": "markdown",
   "id": "b707dc8c-60fc-411a-ab65-0fb59b4c8271",
   "metadata": {},
   "source": [
    "`6` 큐에서 노드 `7`을 꺼내고 방문하지 않은 인접노드 `6`을 큐에 삽입하고 방문처리"
   ]
  },
  {
   "cell_type": "markdown",
   "id": "938c73f0-d6cf-4af8-b672-83bc40a53b9c",
   "metadata": {},
   "source": [
    "`7` 방문하지 않은 인접 노드가 없으므로, 모든 노드를 차례대로 꺼냄"
   ]
  },
  {
   "cell_type": "markdown",
   "id": "15a342b7-a908-44a7-a162-fd2d178ec59d",
   "metadata": {},
   "source": [
    "`8` 노드 탐색순서 : 1 -> 2 -> 3 -> 8 -> 7 -> 4 -> 5 -> 6"
   ]
  },
  {
   "cell_type": "markdown",
   "id": "f88d0d2a-b290-4b0e-9787-c5ca8c7c1a72",
   "metadata": {},
   "source": [
    "* 시간 복잡도 : $O(N)$\n",
    "\n",
    "* 일반적인 경우 실제 수행 시간은 `DFS`보다 좋은 편이라는 점까지만 추가로 기억하자."
   ]
  },
  {
   "cell_type": "markdown",
   "id": "ed5aa15a-c6e8-4b8c-90da-ac4846635c93",
   "metadata": {},
   "source": [
    "### 예제 1번 BFS 코드 작성"
   ]
  },
  {
   "cell_type": "code",
   "execution_count": 105,
   "id": "33dc9e54-b5e0-440a-bff2-276ae03e90ef",
   "metadata": {
    "tags": []
   },
   "outputs": [],
   "source": [
    "from collections import deque"
   ]
  },
  {
   "cell_type": "code",
   "execution_count": 106,
   "id": "33537fab-bfa9-4ff1-8c53-50a10861cfbc",
   "metadata": {
    "tags": []
   },
   "outputs": [],
   "source": [
    "def bfs(graph, start, visited) :\n",
    "    queue = deque([start])\n",
    "    \n",
    "    # 현재 노드를 방문 처리\n",
    "    visited[start] = True\n",
    "    \n",
    "    # 큐가 빌 때까지 반복\n",
    "    while queue :\n",
    "        # 큐에서 하난의 원소를 뽑아 출력\n",
    "        v = queue.popleft()\n",
    "        print(v, end = \" \")\n",
    "        # 해당 원소와 연결된, 아직 방문하지 않은 원소들을 큐에 삽입\n",
    "        for i in graph[v] :\n",
    "            if not visited[i] :\n",
    "                queue.append(i)\n",
    "                visited[i] = True"
   ]
  },
  {
   "cell_type": "code",
   "execution_count": 107,
   "id": "79cc6927-4768-482f-82cf-8fe9ba5165ef",
   "metadata": {
    "tags": []
   },
   "outputs": [],
   "source": [
    "## 연결된 정보를 인접 리스트로 표현\n",
    "graph = [[], # 0번 노드는 없으므로 비어있음\n",
    "         [2, 3, 8],\n",
    "         [1, 7],\n",
    "         [1, 4, 5],\n",
    "         [3, 5],\n",
    "         [3, 4],\n",
    "         [7],\n",
    "         [2, 6, 8],\n",
    "         [1, 7]]"
   ]
  },
  {
   "cell_type": "code",
   "execution_count": 108,
   "id": "09048bee-ec70-4200-894a-8027285a4cca",
   "metadata": {
    "tags": []
   },
   "outputs": [],
   "source": [
    "visited = [False]*9"
   ]
  },
  {
   "cell_type": "code",
   "execution_count": 110,
   "id": "0bf3af06-f3e0-4806-bccd-5868aee48dc7",
   "metadata": {
    "tags": []
   },
   "outputs": [
    {
     "name": "stdout",
     "output_type": "stream",
     "text": [
      "1 "
     ]
    }
   ],
   "source": [
    "bfs(graph,1, visited)"
   ]
  },
  {
   "cell_type": "markdown",
   "id": "57aa3dd3-4f78-45b6-b526-742ad3e4038b",
   "metadata": {},
   "source": [
    "***"
   ]
  },
  {
   "cell_type": "markdown",
   "id": "32b100fa-efa1-465f-97fc-89cae715492c",
   "metadata": {},
   "source": [
    "## ex 1. 음료수 얼려먹기"
   ]
  },
  {
   "cell_type": "markdown",
   "id": "0e93a26e-3cfc-43da-ac3a-3f592ecea2ae",
   "metadata": {},
   "source": [
    "N × M 크기의 얼음 틀이 있다. 구멍이 뚫려 있는 부분은 0, 칸막이가 존재하는 부분은 1로 표시된다.\n",
    "구멍이 뚫려 있는 부분끼리 상, 하, 좌, 우로 붙어 있는 경우 서로 연결되어 있는 것으로 간주한다.\n",
    "이때 얼음 틀의 모양이 주어졌을 때 생성되는 총 아이스크림의 개수를 구하는 프로그램을 작성하라.\n",
    "다음의 4 × 5 얼음 틀 예시에서는 아이스크림이 총 3개가 생성된다\n"
   ]
  },
  {
   "cell_type": "markdown",
   "id": "162a5698-28d3-4759-899f-208633b76885",
   "metadata": {},
   "source": [
    "<center><img src=\"https://velog.velcdn.com/images%2Fsuzieep%2Fpost%2F3b7def0f-629d-47bb-9214-5accef563230%2Fimage.png\" width = 500></center>"
   ]
  },
  {
   "cell_type": "markdown",
   "id": "75e3d467-6743-4ede-970f-3cbd3e1849c1",
   "metadata": {},
   "source": [
    "`-` 입력조건"
   ]
  },
  {
   "cell_type": "markdown",
   "id": "af414638-77d9-4cd3-8d23-f46bc05dd082",
   "metadata": {},
   "source": [
    "* 첫 번째 줄에 얼음 틀의 세로 길이 N과 가로 길이 M이 주어진다. (1 <= N, M <= 1,000)\n",
    "* 두 번째 줄부터 N + 1 번째 줄까지 얼음 틀의 형태가 주어진다.\n",
    "* 이때 구멍이 뚫려있는 부분은 0, 그렇지 않은 부분은 1이다"
   ]
  },
  {
   "cell_type": "markdown",
   "id": "a3a9ff50-6bfe-48a6-928d-a6355498453a",
   "metadata": {},
   "source": [
    "`-`출력조건"
   ]
  },
  {
   "cell_type": "markdown",
   "id": "a9e23b46-f187-47e3-9cf8-fec8ea33c9c2",
   "metadata": {},
   "source": [
    "* 한 번에 만들 수있는 아이스크림의 개수를 출력한다."
   ]
  },
  {
   "cell_type": "markdown",
   "id": "5aedc0e3-3cad-4b36-bd9a-1b23bc5beceb",
   "metadata": {},
   "source": [
    "### sol. DFS"
   ]
  },
  {
   "cell_type": "markdown",
   "id": "affafdb6-f0df-481a-a1cf-412b4853ebfa",
   "metadata": {},
   "source": [
    "`-` 만약 n과 m이 `4 x 5` matrix라고 하고 그래프가 다음과 같이 주어진다고 하자."
   ]
  },
  {
   "cell_type": "code",
   "execution_count": 112,
   "id": "1dded7bd-9269-45f7-9c3c-b355a8478f3f",
   "metadata": {
    "tags": []
   },
   "outputs": [
    {
     "name": "stdin",
     "output_type": "stream",
     "text": [
      " 4 5\n"
     ]
    }
   ],
   "source": [
    "N, M = map(int, input().split())"
   ]
  },
  {
   "cell_type": "code",
   "execution_count": 120,
   "id": "49d6d6dd-bd22-428b-b08f-9ff8ae282122",
   "metadata": {
    "tags": []
   },
   "outputs": [
    {
     "name": "stdin",
     "output_type": "stream",
     "text": [
      " 00110\n",
      " 00011\n",
      " 11111\n",
      " 00000\n"
     ]
    },
    {
     "data": {
      "text/plain": [
       "[[0, 0, 1, 1, 0], [0, 0, 0, 1, 1], [1, 1, 1, 1, 1], [0, 0, 0, 0, 0]]"
      ]
     },
     "execution_count": 120,
     "metadata": {},
     "output_type": "execute_result"
    }
   ],
   "source": [
    "graph = [list(map(int, input())) for _ in range(N)]\n",
    "graph"
   ]
  },
  {
   "cell_type": "markdown",
   "id": "8abf8465-49cd-46aa-9891-894ec25f2110",
   "metadata": {},
   "source": [
    "`-` 이경우 위에 그림처럼 만들 수 있는 아이스크림의 개수는 3가지이다."
   ]
  },
  {
   "cell_type": "markdown",
   "id": "b129440c-7e51-4204-a989-44808496c772",
   "metadata": {},
   "source": [
    "`-` 상하좌우 좌표이동을 위한 이동좌표 작성"
   ]
  },
  {
   "cell_type": "markdown",
   "id": "9169c840-0d8d-40bf-8962-cdef5d21d255",
   "metadata": {},
   "source": [
    "`-` DFS 함수 작성"
   ]
  },
  {
   "cell_type": "markdown",
   "id": "aa8b79a4-ba23-4f61-90a0-73b9b00bd22f",
   "metadata": {},
   "source": [
    "<center><img src=\"https://velog.velcdn.com/images%2Fsuzieep%2Fpost%2F3b7def0f-629d-47bb-9214-5accef563230%2Fimage.png\" width = 500></center>"
   ]
  },
  {
   "cell_type": "markdown",
   "id": "350153f9-a062-43a8-a921-3007285a454f",
   "metadata": {},
   "source": [
    "`-` 위 식에서는 총 3개의 개수가 나와야함"
   ]
  },
  {
   "cell_type": "code",
   "execution_count": 212,
   "id": "61937897-4064-40cb-9b57-0adedf7bfc61",
   "metadata": {
    "tags": []
   },
   "outputs": [
    {
     "name": "stdin",
     "output_type": "stream",
     "text": [
      " 4 5\n"
     ]
    }
   ],
   "source": [
    "n, m = map(int, input().split())"
   ]
  },
  {
   "cell_type": "code",
   "execution_count": 214,
   "id": "ca4bc184-872c-4c97-95f7-0c743ec34469",
   "metadata": {
    "tags": []
   },
   "outputs": [
    {
     "name": "stdin",
     "output_type": "stream",
     "text": [
      " 00110\n",
      " 00011\n",
      " 11111\n",
      " 00000\n"
     ]
    }
   ],
   "source": [
    "graph = [list(map(int, input())) for _ in range(n)]"
   ]
  },
  {
   "cell_type": "code",
   "execution_count": 215,
   "id": "27289866-b233-4182-9c01-5816ad80e7ef",
   "metadata": {
    "tags": []
   },
   "outputs": [
    {
     "data": {
      "text/plain": [
       "[[0, 0, 1, 1, 0], [0, 0, 0, 1, 1], [1, 1, 1, 1, 1], [0, 0, 0, 0, 0]]"
      ]
     },
     "execution_count": 215,
     "metadata": {},
     "output_type": "execute_result"
    }
   ],
   "source": [
    "graph"
   ]
  },
  {
   "cell_type": "code",
   "execution_count": 261,
   "id": "1f4337b0-be45-4f71-875e-30a926ba0627",
   "metadata": {
    "tags": []
   },
   "outputs": [],
   "source": [
    "graph = [[0, 0, 1, 1, 0], [0, 0, 0, 1, 1], [1, 1, 1, 1, 1], [0, 0, 0, 0, 0]]\n",
    "\n",
    "def dfs(x,y) :\n",
    "    dx = [0, 0, 1, -1]\n",
    "    dy = [1, -1, 0, 0]\n",
    "    \n",
    "    if x <= -1 or x >= N or y<=-1 or y>=M :\n",
    "        return False\n",
    "    \n",
    "    if graph[x][y] == 0 :\n",
    "        graph[x][y] = 1        \n",
    "        for i in range(4) :\n",
    "            nx = x + dx[i]\n",
    "            ny = y + dy[i]\n",
    "            dfs(nx, ny)\n",
    "        return True\n",
    "    return False"
   ]
  },
  {
   "cell_type": "code",
   "execution_count": 262,
   "id": "8b53eb78-f6f3-4e4d-9497-7148dbf799c4",
   "metadata": {
    "tags": []
   },
   "outputs": [],
   "source": [
    "result = 0\n",
    "for i in range(n):\n",
    "    for j in range(m):\n",
    "        if dfs(i, j) == True :\n",
    "            result += 1 "
   ]
  },
  {
   "cell_type": "code",
   "execution_count": 263,
   "id": "8ebb4b10-9996-45da-9c2e-2be06eb7f921",
   "metadata": {
    "tags": []
   },
   "outputs": [
    {
     "data": {
      "text/plain": [
       "3"
      ]
     },
     "execution_count": 263,
     "metadata": {},
     "output_type": "execute_result"
    }
   ],
   "source": [
    "result"
   ]
  },
  {
   "cell_type": "markdown",
   "id": "f4c9f37e-83a6-46ae-85eb-2f083db17f64",
   "metadata": {},
   "source": [
    "***"
   ]
  },
  {
   "cell_type": "markdown",
   "id": "a293b736-20ad-4062-9ce5-70da4433104a",
   "metadata": {},
   "source": [
    "## ex 2. 미로탈출"
   ]
  },
  {
   "cell_type": "markdown",
   "id": "fad4e6c3-05d1-435a-a069-bebf10fcc9c5",
   "metadata": {},
   "source": [
    ">동빈이는 N x M 크기의 직사각형 형태의 미로에 갇혀 있다. 미로에는 여러 마리의 괴물이 있어 이를 피해 탈출해야 한다. 동빈이의 위치는 (1, 1)이고 미로의 출구는 (N, M)의 위치에 존재하며 한번에 한 칸씩 이동할 수 있다. 이때 괴물이 있는 부분은 0으로, 괴물이 없는 부분은 1로 표시되어 있다. 미로는 반드시 탈출할 수 있는 형태로 제시된다. 이때 동빈이가 탈출하기 위해 움직여야 하는 최소 칸의 개수를 구하시오. 칸을 셀 때는 시작 칸과 마지막 칸을 모두 포함해서 계산한다."
   ]
  },
  {
   "cell_type": "markdown",
   "id": "f6ead11a-5369-4896-b4d9-d721c1a798b4",
   "metadata": {},
   "source": [
    "`-` 입력"
   ]
  },
  {
   "cell_type": "markdown",
   "id": "052b596e-177e-40d0-82c5-b92511c9855a",
   "metadata": {},
   "source": [
    "* 첫째 줄에 두 정수 N, M(4 <= N, M <= 200)이 주어진다. 다음 N개의 줄에는 각각 M개의 정수(0 혹은 1)로 미로의 정보가 주어진다. 각각의 수들은 공백 없이 붙어서 입력으로 제시된다. 또한 시작 칸과 마지막 칸은 항상 1이다."
   ]
  },
  {
   "cell_type": "markdown",
   "id": "d7b314b5-393b-4854-83c6-daf75705dbde",
   "metadata": {},
   "source": [
    "`-` 출력"
   ]
  },
  {
   "cell_type": "markdown",
   "id": "9cfbb8e1-84cf-4671-bda6-164db82b0643",
   "metadata": {},
   "source": [
    "* 첫째 줄에 최소 이동 칸의 개수를 출력한다."
   ]
  },
  {
   "cell_type": "markdown",
   "id": "e26b6565-4670-4ea4-9938-adbad2f410f9",
   "metadata": {},
   "source": [
    "### sol"
   ]
  },
  {
   "cell_type": "code",
   "execution_count": 266,
   "id": "7d7d051b-bc37-4479-a1ae-56aad73dd836",
   "metadata": {
    "tags": []
   },
   "outputs": [
    {
     "name": "stdin",
     "output_type": "stream",
     "text": [
      " 5 6\n",
      " 101010\n",
      " 111111\n",
      " 000001\n",
      " 111111\n",
      " 111111\n"
     ]
    }
   ],
   "source": [
    "n, m = map(int, input().split())\n",
    "graph = [ list(map(int, input())) for _ in range(n)]"
   ]
  },
  {
   "cell_type": "code",
   "execution_count": 267,
   "id": "d0dcc583-424d-4ade-b460-2afa278625d9",
   "metadata": {
    "tags": []
   },
   "outputs": [],
   "source": [
    "from collections import deque"
   ]
  },
  {
   "cell_type": "code",
   "execution_count": 268,
   "id": "303db2a0-7b2a-4ff2-a3c6-21cc507ac3b9",
   "metadata": {
    "tags": []
   },
   "outputs": [],
   "source": [
    "dx = [-1, 1, 0, 0]\n",
    "dy = [0, 0, -1, 1]"
   ]
  },
  {
   "cell_type": "code",
   "execution_count": 271,
   "id": "b599bad8-43db-470a-8895-f9b953de2f28",
   "metadata": {
    "tags": []
   },
   "outputs": [],
   "source": [
    "def bfs(x, y) :\n",
    "    q = deque()\n",
    "    q.append((x, y))\n",
    "    ## 큐가 빌 때까지 반복\n",
    "    while q :\n",
    "        x, y = q.popleft()\n",
    "        for i in range(4) :\n",
    "            nx = x + dx[i]\n",
    "            ny = y + dy[i]\n",
    "            if nx < 0 or nx >=n or ny < 0 or ny >= m :\n",
    "                continue ## 범위를 벗어난 경우 무시\n",
    "            if graph[nx][ny] == 0 :\n",
    "                continue ## 괴물인 경우 무시\n",
    "            if graph[nx][ny] == 1 :\n",
    "                graph[nx][ny] = graph[x][y] + 1 ## 최단 경로 기록을 위해 더하기 1\n",
    "                q.append((nx,ny))\n",
    "    \n",
    "    return graph[n-1][m-1]"
   ]
  },
  {
   "cell_type": "code",
   "execution_count": 272,
   "id": "788d8532-2d36-4885-a120-a3b533340f97",
   "metadata": {
    "tags": []
   },
   "outputs": [
    {
     "data": {
      "text/plain": [
       "10"
      ]
     },
     "execution_count": 272,
     "metadata": {},
     "output_type": "execute_result"
    }
   ],
   "source": [
    "bfs(0,0)"
   ]
  },
  {
   "cell_type": "markdown",
   "id": "94017412-a1d4-4bbb-b654-2f166134473d",
   "metadata": {},
   "source": [
    "***"
   ]
  },
  {
   "cell_type": "markdown",
   "id": "ba7204ce-569e-4482-a34d-4baad98e1781",
   "metadata": {},
   "source": [
    "# study"
   ]
  },
  {
   "cell_type": "markdown",
   "id": "4790edf2-75f7-4e8c-b845-6835645e6b57",
   "metadata": {},
   "source": [
    "## ex 1. 섬의 개수"
   ]
  },
  {
   "cell_type": "markdown",
   "id": "f650024d-e87e-4f77-a6bd-4bec6e8ac059",
   "metadata": {},
   "source": [
    "정사각형으로 이루어져 있는 섬과 바다 지도가 주어진다. 섬의 개수를 세는 프로그램을 작성하시오."
   ]
  },
  {
   "cell_type": "markdown",
   "id": "01387c30-34ed-419c-acfc-625737b0b66b",
   "metadata": {},
   "source": [
    "<img src =\"https://www.acmicpc.net/upload/images/island.png\" width=300>"
   ]
  },
  {
   "cell_type": "markdown",
   "id": "7394c4e2-6f90-44de-be01-c847d0246dc7",
   "metadata": {},
   "source": [
    "한 정사각형과 가로, 세로 또는 대각선으로 연결되어 있는 사각형은 걸어갈 수 있는 사각형이다. \n",
    "\n",
    "두 정사각형이 같은 섬에 있으려면, 한 정사각형에서 다른 정사각형으로 걸어서 갈 수 있는 경로가 있어야 한다. 지도는 바다로 둘러싸여 있으며, 지도 밖으로 나갈 수 없다."
   ]
  },
  {
   "cell_type": "markdown",
   "id": "8fb6f642-175f-48d0-bc20-8fcd352033da",
   "metadata": {},
   "source": [
    "`-` 입력"
   ]
  },
  {
   "cell_type": "markdown",
   "id": "0390079c-c848-4cf7-ad21-cf6e535d5507",
   "metadata": {},
   "source": [
    "입력은 여러 개의 테스트 케이스로 이루어져 있다. 각 테스트 케이스의 첫째 줄에는 지도의 너비 w와 높이 h가 주어진다. w와 h는 50보다 작거나 같은 양의 정수이다.\n",
    "\n",
    "둘째 줄부터 h개 줄에는 지도가 주어진다. 1은 땅, 0은 바다이다.\n",
    "\n",
    "입력의 마지막 줄에는 0이 두 개 주어진다."
   ]
  },
  {
   "cell_type": "markdown",
   "id": "3ae4a0f7-d53e-4baa-bbd2-6727957b6997",
   "metadata": {},
   "source": [
    "`-` 출력"
   ]
  },
  {
   "cell_type": "markdown",
   "id": "f3da2f89-0c28-4e98-bfe2-b85d0d98003b",
   "metadata": {},
   "source": [
    "각 테스트 케이스에 대해서, 섬의 개수를 출력한다."
   ]
  },
  {
   "cell_type": "markdown",
   "id": "4082f1cb-b126-490d-a3fe-5ccd330e07fc",
   "metadata": {},
   "source": [
    "### sol"
   ]
  },
  {
   "cell_type": "code",
   "execution_count": 163,
   "id": "4b2bce33-d4e0-4b78-9eee-d75b0dcc7ae0",
   "metadata": {
    "tags": []
   },
   "outputs": [],
   "source": [
    "import sys\n",
    "sys.setrecursionlimit(10**6)"
   ]
  },
  {
   "cell_type": "code",
   "execution_count": 164,
   "id": "f9fbee1c-d8f1-4b4c-b006-4c11f4aca30b",
   "metadata": {
    "tags": []
   },
   "outputs": [],
   "source": [
    "def dfs(x, y) :\n",
    "    if x <= -1 or x >= h or y <= -1 or y>=w:\n",
    "           return False\n",
    "    if graph[x][y] == 1 :\n",
    "        # 해당 노드 방문 처리\n",
    "        graph[x][y]  = 0\n",
    "        # 상, 하, 좌, 우, 대각선 위치를 모두 재귀적으로 호출\n",
    "        dfs(x-1, y) # 하\n",
    "        dfs(x+1, y) # 상 \n",
    "        dfs(x, y-1) # 좌 \n",
    "        dfs(x, y+1) # 우\n",
    "        dfs(x-1,y-1) # 하좌\n",
    "        dfs(x-1,y+1) # 하우\n",
    "        dfs(x+1,y-1) # 상좌\n",
    "        dfs(x+1,y+1) # 상우\n",
    "        return True\n",
    "    return False"
   ]
  },
  {
   "cell_type": "code",
   "execution_count": 165,
   "id": "07a89c16-2c63-44ab-9f59-07365f7e3722",
   "metadata": {
    "tags": []
   },
   "outputs": [
    {
     "name": "stdin",
     "output_type": "stream",
     "text": [
      " 2 2\n",
      " 0 1\n",
      " 1 0\n"
     ]
    },
    {
     "name": "stdout",
     "output_type": "stream",
     "text": [
      "1\n"
     ]
    },
    {
     "name": "stdin",
     "output_type": "stream",
     "text": [
      " 5 4\n",
      " 1 0 1 0 0\n",
      " 1 0 0 0 0\n",
      " 1 0 1 0 1\n",
      " 1 0 0 1 0\n"
     ]
    },
    {
     "name": "stdout",
     "output_type": "stream",
     "text": [
      "3\n"
     ]
    },
    {
     "name": "stdin",
     "output_type": "stream",
     "text": [
      " 0 0\n"
     ]
    }
   ],
   "source": [
    "while True :\n",
    "    w, h = map(int, input().split())\n",
    "    if w == 0 and h == 0 :\n",
    "        break\n",
    "    graph = [list(map(int, input().split())) for _ in range(h)]\n",
    "    result = 0\n",
    "    for i in range(h) :\n",
    "        for j in range(w) :\n",
    "            # 현재 위치에서 DFS 수행\n",
    "            if dfs(i, j) == True :\n",
    "                result += 1\n",
    "    print(result)"
   ]
  },
  {
   "cell_type": "markdown",
   "id": "ddcdd2a2-b5b2-468c-a351-1cfdabd16f1f",
   "metadata": {},
   "source": [
    "## ex 2. 안전영역"
   ]
  },
  {
   "cell_type": "markdown",
   "id": "750d2806-d495-49e7-a148-3fc20737154f",
   "metadata": {},
   "source": [
    "높이가 4 이하인 모든 지점이 물에 잠겼다고 하자."
   ]
  },
  {
   "cell_type": "markdown",
   "id": "1f0a989e-daaa-4a5e-af6f-4c919d59ab3d",
   "metadata": {},
   "source": [
    "<table class=\"table table-bordered table-center-20 td-center\">\n",
    "\t<tbody>\n",
    "\t\t<tr>\n",
    "\t\t\t<td>6</td>\n",
    "\t\t\t<td>8</td>\n",
    "\t\t\t<td class=\"bg-2468\">2</td>\n",
    "\t\t\t<td>6</td>\n",
    "\t\t\t<td class=\"bg-2468\">2</td>\n",
    "\t\t</tr>\n",
    "\t\t<tr>\n",
    "\t\t\t<td class=\"bg-2468\">3</td>\n",
    "\t\t\t<td class=\"bg-2468\">2</td>\n",
    "\t\t\t<td class=\"bg-2468\">3</td>\n",
    "\t\t\t<td class=\"bg-2468\">4</td>\n",
    "\t\t\t<td>6</td>\n",
    "\t\t</tr>\n",
    "\t\t<tr>\n",
    "\t\t\t<td>6</td>\n",
    "\t\t\t<td>7</td>\n",
    "\t\t\t<td class=\"bg-2468\">3</td>\n",
    "\t\t\t<td class=\"bg-2468\">3</td>\n",
    "\t\t\t<td class=\"bg-2468\">2</td>\n",
    "\t\t</tr>\n",
    "\t\t<tr>\n",
    "\t\t\t<td>7</td>\n",
    "\t\t\t<td class=\"bg-2468\">2</td>\n",
    "\t\t\t<td>5</td>\n",
    "\t\t\t<td class=\"bg-2468\">3</td>\n",
    "\t\t\t<td>6</td>\n",
    "\t\t</tr>\n",
    "\t\t<tr>\n",
    "\t\t\t<td>8</td>\n",
    "\t\t\t<td>9</td>\n",
    "\t\t\t<td>5</td>\n",
    "\t\t\t<td class=\"bg-2468\">2</td>\n",
    "\t\t\t<td>7</td>\n",
    "\t\t</tr>\n",
    "\t</tbody>\n",
    "</table>"
   ]
  },
  {
   "cell_type": "markdown",
   "id": "f6a185c6-0695-4840-b4ac-6f044ec97f2a",
   "metadata": {},
   "source": [
    "물에 잠기지 않는 안전한 영역이라 함은 물에 잠기지 않는 지점들이 위, 아래, 오른쪽 혹은 왼쪽으로 인접해 있으며 그 크기가 최대인 영역을 말한다. 위의 경우에서 물에 잠기지 않는 안전한 영역은 5개가 된다(꼭짓점으로만 붙어 있는 두 지점은 인접하지 않는다고 취급한다)."
   ]
  },
  {
   "cell_type": "markdown",
   "id": "1b27c085-43a4-4de3-b201-e6a958df3470",
   "metadata": {},
   "source": [
    "`-` 입력"
   ]
  },
  {
   "cell_type": "markdown",
   "id": "72f1411b-5632-4ada-b916-2f1fdd043c5f",
   "metadata": {},
   "source": [
    "첫째 줄에는 어떤 지역을 나타내는 2차원 배열의 행과 열의 개수를 나타내는 수 N이 입력된다. N은 2 이상 100 이하의 정수이다. 둘째 줄부터 N개의 각 줄에는 2차원 배열의 첫 번째 행부터 N번째 행까지 순서대로 한 행씩 높이 정보가 입력된다. 각 줄에는 각 행의 첫 번째 열부터 N번째 열까지 N개의 높이 정보를 나타내는 자연수가 빈 칸을 사이에 두고 입력된다. 높이는 1이상 100 이하의 정수이다."
   ]
  },
  {
   "cell_type": "markdown",
   "id": "92af3342-f6ec-4816-a987-ff313761b2c1",
   "metadata": {},
   "source": [
    "`-` 출력"
   ]
  },
  {
   "cell_type": "markdown",
   "id": "3be6a954-8699-4279-86f2-7611ecf2189b",
   "metadata": {},
   "source": [
    "첫째 줄에 장마철에 물에 잠기지 않는 안전한 영역의 최대 개수를 출력한다."
   ]
  },
  {
   "cell_type": "markdown",
   "id": "d246dae7-4ae5-4ed3-a80a-fcc95a2c403f",
   "metadata": {},
   "source": [
    "### sol"
   ]
  },
  {
   "cell_type": "code",
   "execution_count": 247,
   "id": "b5b3bd6a-0485-42f4-a4bf-300bf4775fff",
   "metadata": {
    "tags": []
   },
   "outputs": [],
   "source": [
    "from collections import deque"
   ]
  },
  {
   "cell_type": "code",
   "execution_count": 248,
   "id": "4139628e-6a5e-467e-b66c-5f51b0232139",
   "metadata": {
    "tags": []
   },
   "outputs": [
    {
     "name": "stdin",
     "output_type": "stream",
     "text": [
      " 5\n"
     ]
    }
   ],
   "source": [
    "n = int(input())"
   ]
  },
  {
   "cell_type": "code",
   "execution_count": 249,
   "id": "e786892c-3a08-4933-ad84-f1d2100a8a57",
   "metadata": {
    "tags": []
   },
   "outputs": [
    {
     "name": "stdin",
     "output_type": "stream",
     "text": [
      " 6 8 2 6 2\n",
      " 3 2 3 4 6\n",
      " 6 7 3 3 2\n",
      " 7 2 5 3 6\n",
      " 8 9 5 2 7\n"
     ]
    }
   ],
   "source": [
    "graph = []\n",
    "\n",
    "for i in range(n) :\n",
    "    graph.append(list(map(int, input().split())))"
   ]
  },
  {
   "cell_type": "code",
   "execution_count": 356,
   "id": "304721d2-3b61-4097-a616-4c98fcf71572",
   "metadata": {
    "tags": []
   },
   "outputs": [
    {
     "data": {
      "text/plain": [
       "9"
      ]
     },
     "execution_count": 356,
     "metadata": {},
     "output_type": "execute_result"
    }
   ],
   "source": [
    "M = max(map(max,graph))\n",
    "M"
   ]
  },
  {
   "cell_type": "code",
   "execution_count": 331,
   "id": "24f6cd75-b6ab-4fdc-bc1d-7a4170732ae5",
   "metadata": {
    "tags": []
   },
   "outputs": [],
   "source": [
    "dx = [1,0, -1, 0]\n",
    "dy = [0,1, 0, -1]"
   ]
  },
  {
   "cell_type": "code",
   "execution_count": 350,
   "id": "5afd647e-3681-4a8d-b53f-48726a8957cd",
   "metadata": {
    "tags": []
   },
   "outputs": [],
   "source": [
    "def bfs(x, y, h, visited) :\n",
    "    q = deque()\n",
    "    q.append((x, y))\n",
    "    visited[x][y] = 1\n",
    "    \n",
    "    while q :\n",
    "        x1, y1 = q.popleft()\n",
    "        \n",
    "        for i in range(4) :\n",
    "            nx = x1 + dx[i]\n",
    "            ny = y1 + dy[i]\n",
    "        \n",
    "            if (0<=nx<n) * (0<=ny<n) :\n",
    "                if (graph[nx][ny] > h) * (visited[nx][ny] == 0) :\n",
    "                    visited[nx][ny] = 1\n",
    "                    q.append((nx,ny))"
   ]
  },
  {
   "cell_type": "code",
   "execution_count": 351,
   "id": "0a190741-6a38-4afc-9a8d-e9c9b71c9cd6",
   "metadata": {
    "tags": []
   },
   "outputs": [],
   "source": [
    "result = []\n",
    "\n",
    "for h in range(M) :\n",
    "    visited = [[0]*n for _ in range(n)]\n",
    "    cnt = 0\n",
    "    \n",
    "    for j in range(n):\n",
    "        for k in range(n) :\n",
    "            if (graph[j][k] > h)*(visited[j][k] == 0) :\n",
    "                bfs(j, k, h, visited)\n",
    "                cnt += 1\n",
    "    result.append(cnt)\n",
    "print(max(result))"
   ]
  },
  {
   "cell_type": "markdown",
   "id": "4ebeb869-9bee-4899-9c18-2d896ac1a206",
   "metadata": {},
   "source": [
    "***"
   ]
  },
  {
   "cell_type": "markdown",
   "id": "2df83f16-0d28-4cbe-aeb2-c45aa6255575",
   "metadata": {},
   "source": [
    "## ex 3. 트리의 부모찾기"
   ]
  },
  {
   "cell_type": "markdown",
   "id": "c1c36851-bc7b-4e42-9e6b-c0d15a1a0a65",
   "metadata": {},
   "source": [
    "루트 없는 트리가 주어진다. 이때, 트리의 루트를 1이라고 정했을 때, 각 노드의 부모를 구하는 프로그램을 작성하시오."
   ]
  },
  {
   "cell_type": "markdown",
   "id": "5ce2dcc6-6f4f-47c5-a7ce-435f9d667324",
   "metadata": {},
   "source": [
    "`-` 입력"
   ]
  },
  {
   "cell_type": "markdown",
   "id": "0faf6584-097f-4253-a880-2f7ed3e1b5c4",
   "metadata": {},
   "source": [
    "첫째 줄에 노드의 개수 N (2 ≤ N ≤ 100,000)이 주어진다. 둘째 줄부터 N-1개의 줄에 트리 상에서 연결된 두 정점이 주어진다."
   ]
  },
  {
   "cell_type": "markdown",
   "id": "dcd6fd5b-3fcc-4bab-ac8c-321f27d05aad",
   "metadata": {},
   "source": [
    "`-` 출력"
   ]
  },
  {
   "cell_type": "markdown",
   "id": "cfdcf949-0a3f-4a62-ac7b-7dd3d79811e4",
   "metadata": {},
   "source": [
    "첫째 줄부터 N-1개의 줄에 각 노드의 부모 노드 번호를 2번 노드부터 순서대로 출력한다."
   ]
  },
  {
   "cell_type": "markdown",
   "id": "ff08cc27-d4a2-40b7-a824-fcc64bd634d6",
   "metadata": {},
   "source": [
    "### sol"
   ]
  },
  {
   "cell_type": "code",
   "execution_count": 375,
   "id": "6787b472-33cf-4d35-8b7a-e285fa08ef5d",
   "metadata": {
    "tags": []
   },
   "outputs": [],
   "source": [
    "from collections import deque"
   ]
  },
  {
   "cell_type": "code",
   "execution_count": 376,
   "id": "c0c27e41-cf30-441e-bcb9-da2e9e0d3710",
   "metadata": {
    "tags": []
   },
   "outputs": [
    {
     "name": "stdin",
     "output_type": "stream",
     "text": [
      " 7\n",
      " 1 6\n",
      " 6 3\n",
      " 3 5\n",
      " 4 1\n",
      " 2 4\n",
      " 4 7\n"
     ]
    }
   ],
   "source": [
    "N = int(input())\n",
    "graph = [[] for i in range(N+1)]\n",
    "\n",
    "for _ in range(N-1) :\n",
    "    a, b = map(int, input().split())\n",
    "    graph[a].append(b)\n",
    "    graph[b].append(a)"
   ]
  },
  {
   "cell_type": "code",
   "execution_count": 377,
   "id": "86f878b5-bee7-4817-9bbe-9fc90d22df17",
   "metadata": {
    "tags": []
   },
   "outputs": [
    {
     "data": {
      "text/plain": [
       "[[], [6, 4], [4], [6, 5], [1, 2, 7], [3], [1, 3], [4]]"
      ]
     },
     "execution_count": 377,
     "metadata": {},
     "output_type": "execute_result"
    }
   ],
   "source": [
    "graph"
   ]
  },
  {
   "cell_type": "code",
   "execution_count": 385,
   "id": "90d7feb8-6544-4258-8c72-68d39bc0dde4",
   "metadata": {
    "tags": []
   },
   "outputs": [],
   "source": [
    "visited = [False]*(N+1)\n",
    "ans = [0]*(N+1)"
   ]
  },
  {
   "cell_type": "code",
   "execution_count": 391,
   "id": "76d1fc94-0524-4287-8b4a-128cdbfddd53",
   "metadata": {
    "tags": []
   },
   "outputs": [],
   "source": [
    "def bfs(graph,v,visited) :\n",
    "    q = deque([v])\n",
    "    visited[v] = True\n",
    "    while q:\n",
    "        now = q.popleft()\n",
    "        for i in graph[now] :\n",
    "            if not visited[i] :\n",
    "                ans[i] = now\n",
    "                q.append(i)\n",
    "                visited[i] = True"
   ]
  },
  {
   "cell_type": "code",
   "execution_count": 392,
   "id": "57d66375-a1c6-4d91-a9c1-eee866378a9a",
   "metadata": {
    "tags": []
   },
   "outputs": [],
   "source": [
    "bfs(graph,1,visited)"
   ]
  },
  {
   "cell_type": "code",
   "execution_count": 394,
   "id": "5ff5c51c-8198-4b35-8deb-36e95082ce09",
   "metadata": {
    "tags": []
   },
   "outputs": [
    {
     "name": "stdout",
     "output_type": "stream",
     "text": [
      "4\n",
      "6\n",
      "1\n",
      "3\n",
      "1\n",
      "4\n"
     ]
    }
   ],
   "source": [
    "for i in range(2,N+1):\n",
    "        print(ans[i])"
   ]
  }
 ],
 "metadata": {
  "kernelspec": {
   "display_name": "Python 3 (ipykernel)",
   "language": "python",
   "name": "python3"
  },
  "language_info": {
   "codemirror_mode": {
    "name": "ipython",
    "version": 3
   },
   "file_extension": ".py",
   "mimetype": "text/x-python",
   "name": "python",
   "nbconvert_exporter": "python",
   "pygments_lexer": "ipython3",
   "version": "3.11.4"
  }
 },
 "nbformat": 4,
 "nbformat_minor": 5
}
