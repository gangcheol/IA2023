{
 "cells": [
  {
   "cell_type": "raw",
   "id": "8e6a6cce-db6d-4ecd-94bc-c035e918803e",
   "metadata": {},
   "source": [
    "---\n",
    "title : \"02. PR study (3)\"\n",
    "author : \"GC\"\n",
    "catergories : [python, coding test]\n",
    "date  : \"09/07/23\"\n",
    "---"
   ]
  },
  {
   "cell_type": "markdown",
   "id": "608fcdd2-f050-4deb-9d4d-e6decda6f069",
   "metadata": {},
   "source": [
    "# 수열과 구간 쿼리 2"
   ]
  },
  {
   "cell_type": "markdown",
   "id": "88c56d1b-3d18-419f-b93f-da38f847dcf2",
   "metadata": {},
   "source": [
    "정수 배열 `arr`와 2차원 정수 배열 `queries`이 주어집니다. \n",
    "\n",
    "`queries`의 원소는 각각 하나의 `query`를 나타내며, `[s, e, k]` 꼴입니다.\n",
    "\n",
    "각 query마다 순서대로 `s ≤ i ≤ e`인 모든 `i`에 대해 `k`보다 크면서 가장 작은 `arr[i]`를 찾습니다.\n",
    "\n",
    "단, 특정 쿼리의 답이 존재하지 않으면 `-1`을 저장"
   ]
  },
  {
   "cell_type": "markdown",
   "id": "c63a07bb-1e28-4d72-b5ce-c94f726b58f7",
   "metadata": {},
   "source": [
    "## sol 1"
   ]
  },
  {
   "cell_type": "code",
   "execution_count": 2,
   "id": "21a40f3d-748e-4caf-bdad-d743693b8d95",
   "metadata": {
    "tags": []
   },
   "outputs": [],
   "source": [
    "arr = [0,1,2,4,3]\n",
    "queries = [[0, 4, 2],[0, 3, 2],[0, 2, 2]]"
   ]
  },
  {
   "cell_type": "code",
   "execution_count": 79,
   "id": "40487f42-a07e-4025-b46b-9a72905088cf",
   "metadata": {
    "tags": []
   },
   "outputs": [
    {
     "name": "stdout",
     "output_type": "stream",
     "text": [
      "s <= i <= e 인 요소들을 arr에서 출력\n",
      "\n",
      "queries의  0 ~ 4 번째 인덱스에 속하는 arr의 요소 :  [0, 1, 2, 4, 3]\n",
      "걸러진 arr에서 query(k)보다 큰 요소들 :  [4, 3]\n",
      "\n",
      "============================================================\n",
      "\n",
      "queries의  0 ~ 3 번째 인덱스에 속하는 arr의 요소 :  [0, 1, 2, 4]\n",
      "걸러진 arr에서 query(k)보다 큰 요소들 :  [4]\n",
      "\n",
      "============================================================\n",
      "\n",
      "queries의  0 ~ 2 번째 인덱스에 속하는 arr의 요소 :  [0, 1, 2]\n",
      "걸러진 arr에서 query(k)보다 큰 요소들 :  []\n",
      "\n",
      "============================================================\n",
      "\n"
     ]
    }
   ],
   "source": [
    "result = [] ## 결과를 담을 result 리스트\n",
    "\n",
    "print(\"s <= i <= e 인 요소들을 arr에서 출력\\n\")\n",
    "for j in queries :    \n",
    "    temp = arr[j[0]:j[1]+1] \n",
    "    print(\"queries의 \",j[0],\"~\",j[1],\"번째 인덱스에 속하는 arr의 요소 : \",temp)\n",
    "    temp2 = [i for i in temp if i > j[2]]\n",
    "    print(\"걸러진 arr에서 query(k)보다 큰 요소들 : \",temp2)\n",
    "    print(\"\\n============================================================\\n\")\n",
    "    result.extend([temp2])"
   ]
  },
  {
   "cell_type": "markdown",
   "id": "9fb82a29-d13b-4b22-b329-0799a0690a49",
   "metadata": {},
   "source": [
    "### 함수로 작성"
   ]
  },
  {
   "cell_type": "code",
   "execution_count": 61,
   "id": "ec6b02ab-5a16-4f21-81d7-a9479ff5d75b",
   "metadata": {
    "tags": []
   },
   "outputs": [],
   "source": [
    "def solution(arr, queries):\n",
    "    result = []\n",
    "    for j in queries :    \n",
    "        temp = arr[j[0]:j[1]+1] \n",
    "        #print(temp)\n",
    "        temp2 = [i for i in temp if i > j[2]]\n",
    "        result.extend([temp2])\n",
    "    return [min(i) if len(i) != 0 else -1 for i in result ]"
   ]
  },
  {
   "cell_type": "markdown",
   "id": "9e3e9981-2267-4bdd-8fa1-a4a42fa3e34a",
   "metadata": {},
   "source": [
    "***"
   ]
  },
  {
   "cell_type": "markdown",
   "id": "8eaa4667-73ba-4f6a-921e-fe07557e160f",
   "metadata": {},
   "source": [
    "# 배열 조각하기"
   ]
  },
  {
   "cell_type": "code",
   "execution_count": 3,
   "id": "c8d56bcc-8ba0-4963-b85b-5bd2b4243ebb",
   "metadata": {
    "tags": []
   },
   "outputs": [],
   "source": [
    "arr = [0, 1, 2, 3, 4, 5]\n",
    "query = [4,1,2]"
   ]
  },
  {
   "cell_type": "markdown",
   "id": "a79b34b5-0df9-403d-b3f8-c83504488a38",
   "metadata": {},
   "source": [
    "## sol 1"
   ]
  },
  {
   "cell_type": "code",
   "execution_count": 4,
   "id": "42e6b4e2-49e3-4d63-a05d-0c97a80ae6ba",
   "metadata": {
    "tags": []
   },
   "outputs": [
    {
     "name": "stdout",
     "output_type": "stream",
     "text": [
      "[0, 1, 2, 3, 4, 5]\n",
      "query = 4 , arr : [0, 1, 2, 3, 4]\n",
      "query = 1 , arr : [1, 2, 3, 4]\n",
      "query = 2 , arr : [1, 2, 3]\n"
     ]
    }
   ],
   "source": [
    "print(arr)\n",
    "for i in range(len(query)) : \n",
    "    if i % 2 == 0 :\n",
    "        arr = arr[ : query[i]+1]\n",
    "        print(\"query =\",query[i],\", arr :\", arr)\n",
    "    else :\n",
    "        arr = arr[query[i] : ]\n",
    "        print(\"query =\",query[i],\", arr :\", arr)"
   ]
  },
  {
   "cell_type": "markdown",
   "id": "6aa6f275-9dd7-40db-9db0-e63b5138ecb4",
   "metadata": {},
   "source": [
    "### 함수로 작성"
   ]
  },
  {
   "cell_type": "code",
   "execution_count": 5,
   "id": "f8f6df8d-5d29-4675-a527-d938ec110d71",
   "metadata": {
    "tags": []
   },
   "outputs": [],
   "source": [
    "def solution(arr, query):\n",
    "    for i in range(len(query)) : \n",
    "        if i % 2 == 0 :\n",
    "            arr = arr[ : query[i]+1]\n",
    "            #print(\"query =\",query[i],\", arr :\", arr)\n",
    "        else :\n",
    "            arr = arr[query[i] : ]\n",
    "            #print(\"query =\",query[i],\", arr :\", arr)\n",
    "    return arr"
   ]
  },
  {
   "cell_type": "code",
   "execution_count": 6,
   "id": "712f272d-8385-470c-b0fb-386b594598d2",
   "metadata": {
    "tags": []
   },
   "outputs": [
    {
     "data": {
      "text/plain": [
       "[2, 3]"
      ]
     },
     "execution_count": 6,
     "metadata": {},
     "output_type": "execute_result"
    }
   ],
   "source": [
    "solution(arr,query)"
   ]
  },
  {
   "cell_type": "markdown",
   "id": "18d36d4b-3689-4e13-8154-f5341dba8cb7",
   "metadata": {},
   "source": [
    "***"
   ]
  },
  {
   "cell_type": "markdown",
   "id": "1e01ee26-f376-41a2-b870-42dd062390bd",
   "metadata": {},
   "source": [
    "# 주사위 게임 3"
   ]
  },
  {
   "cell_type": "markdown",
   "id": "4f03a0f1-98f1-47a9-b290-b81dd0903632",
   "metadata": {},
   "source": [
    "1부터 6까지 숫자가 적힌 주사위가 네 개 있습니다. 네 주사위를 굴렸을 때 나온 숫자에 따라 다음과 같은 점수를 얻습니다.\n",
    "\n",
    "1. 네 주사위에서 나온 숫자가 모두 `p`로 같다면 `1111 × p`점을 얻습니다.\n",
    "\n",
    "2. 세 주사위에서 나온 숫자가 `p`로 같고 나머지 다른 주사위에서 나온 숫자가 `q(p ≠ q)`라면 `(10 × p + q)^2` 점을 얻습니다.\n",
    "\n",
    "3. 주사위가 두 개씩 같은 값이 나오고, 나온 숫자를 각각 `p, q(p ≠ q)`라고 한다면 `(p + q) × |p - q|`점을 얻습니다.\n",
    "\n",
    "4. 어느 두 주사위에서 나온 숫자가 `p`로 같고 나머지 두 주사위에서 나온 숫자가 각각 p와 다른 `q, r(q ≠ r)`이라면 `q × r`점을 얻습니다.\n",
    "\n",
    "5. 네 주사위에 적힌 숫자가 모두 다르다면 나온 숫자 중 가장 작은 숫자 만큼의 점수를 얻습니다."
   ]
  },
  {
   "cell_type": "markdown",
   "id": "913861e0-ea5e-4273-a260-cb4ca27dc25e",
   "metadata": {},
   "source": [
    "## sol 1"
   ]
  },
  {
   "cell_type": "code",
   "execution_count": 26,
   "id": "c8bfc1a8-a1da-415b-9ba3-1e926e62cb4b",
   "metadata": {
    "tags": []
   },
   "outputs": [],
   "source": [
    "a,b,c,d = 4,4,4,3"
   ]
  },
  {
   "cell_type": "code",
   "execution_count": null,
   "id": "ad89f7e5-8dcd-49ce-beb7-5f766c138e52",
   "metadata": {
    "tags": []
   },
   "outputs": [],
   "source": [
    "4print(a,b,c,d,\"\\n\")\n",
    "lst = [a,b,c,d]\n",
    "\n",
    "if len(set(lst)) == 1:\n",
    "    p = lst[0]\n",
    "    print(1111*a)\n",
    "    print(\"모두 값이 같습니다. ->\", 1111*p)\n",
    "    \n",
    "elif len(set(lst)) == 2 and lst.count(sorted(lst)[2]) == 3:\n",
    "    p = sorted(lst)[2]\n",
    "    q = [i for i in lst if i != p][0]\n",
    "    print(\"3개의 값이 같고 1개가 다릅니다 ->\", (10*p + q)**2)\n",
    "    \n",
    "elif len(set(lst)) == 2 and lst.count(sorted(lst)[2]) == 2:\n",
    "    p = sorted(lst)[2]\n",
    "    q = [i for i in lst if i != p][0]\n",
    "    print(\"2개씩 같은값이 각각 존재 -> \", (p+q)*abs(p-q))\n",
    "\n",
    "elif len(set(lst)) == 3 :\n",
    "    dic = {i : lst.count(i) for i in lst}\n",
    "    q,r = (i  for i,j in dic.items() if j != 2)\n",
    "    print(\"2개의 값이 같고, 나머지 두개는 값이 다름. -> \", q*r)\n",
    "else : \n",
    "    print(\"다다름\",min(lst))"
   ]
  },
  {
   "cell_type": "markdown",
   "id": "8dcfade7-e12d-4d6f-935f-62080f7142c5",
   "metadata": {},
   "source": [
    "### 함수로 작성"
   ]
  },
  {
   "cell_type": "code",
   "execution_count": 20,
   "id": "f9e08839-081f-4552-b4ab-f22cd980bf0d",
   "metadata": {
    "tags": []
   },
   "outputs": [],
   "source": [
    "def solution(a, b, c, d):\n",
    "    lst = [a,b,c,d]\n",
    "\n",
    "    if len(set(lst)) == 1:\n",
    "        p = lst[0]\n",
    "        return (1111*p)\n",
    "\n",
    "    elif len(set(lst)) == 2 and lst.count(sorted(lst)[2]) == 3:\n",
    "        p = sorted(lst)[2]\n",
    "        q = [i for i in lst if i != p][0]\n",
    "        return (10*p + q)**2\n",
    "\n",
    "    elif len(set(lst)) == 2 and lst.count(sorted(lst)[2]) == 2:\n",
    "        p = sorted(lst)[2]\n",
    "        q = [i for i in lst if i != p][0]\n",
    "        return (p+q)*abs(p-q)\n",
    "\n",
    "    elif len(set(lst)) == 3 :\n",
    "        dic = {i : lst.count(i) for i in lst}\n",
    "        q,r = (i  for i,j in dic.items() if j != 2)\n",
    "        return q*r\n",
    "    else :\n",
    "        return min(lst) "
   ]
  },
  {
   "cell_type": "markdown",
   "id": "d88a31bb-0567-4440-98d1-a9e27f894a82",
   "metadata": {},
   "source": [
    "***"
   ]
  },
  {
   "cell_type": "markdown",
   "id": "d9e21651-f352-4c8e-9438-e8b7ca6ae9fe",
   "metadata": {
    "tags": []
   },
   "source": [
    "# 3진법 뒤집기"
   ]
  },
  {
   "cell_type": "markdown",
   "id": "07bc6c80-53d7-4137-893b-eaea7f639425",
   "metadata": {},
   "source": [
    "## sol 1"
   ]
  },
  {
   "cell_type": "code",
   "execution_count": 27,
   "id": "a97357f7-e38c-477f-8d4f-cd63733ebb45",
   "metadata": {
    "tags": []
   },
   "outputs": [
    {
     "data": {
      "text/plain": [
       "229"
      ]
     },
     "execution_count": 27,
     "metadata": {},
     "output_type": "execute_result"
    }
   ],
   "source": [
    "n = 125\n",
    "result = []\n",
    "while n >= 1 : \n",
    "    n,r = divmod(n,3)\n",
    "    result.append(r)\n",
    "\n",
    "int(\"\".join([str(i) for i in result]),3)"
   ]
  },
  {
   "cell_type": "markdown",
   "id": "d067a020-ac74-4e04-bb80-5b5db9ab02d4",
   "metadata": {},
   "source": [
    "### 함수로 작성"
   ]
  },
  {
   "cell_type": "code",
   "execution_count": 28,
   "id": "b9902675-8630-41c7-93e4-502d42c78d7a",
   "metadata": {
    "tags": []
   },
   "outputs": [],
   "source": [
    "def solution(n) :\n",
    "    result = []\n",
    "    while n >= 1 : \n",
    "        n,r = divmod(n,3)\n",
    "        result.append(r)\n",
    "\n",
    "    return int(\"\".join([str(i) for i in result]),3)"
   ]
  }
 ],
 "metadata": {
  "kernelspec": {
   "display_name": "Python 3 (ipykernel)",
   "language": "python",
   "name": "python3"
  },
  "language_info": {
   "codemirror_mode": {
    "name": "ipython",
    "version": 3
   },
   "file_extension": ".py",
   "mimetype": "text/x-python",
   "name": "python",
   "nbconvert_exporter": "python",
   "pygments_lexer": "ipython3",
   "version": "3.11.4"
  }
 },
 "nbformat": 4,
 "nbformat_minor": 5
}
