{
 "cells": [
  {
   "cell_type": "raw",
   "id": "60486b1b-7d7a-44ad-b780-75bc98ce44c6",
   "metadata": {},
   "source": [
    "---\n",
    "title : \"06. PR study (5)\"\n",
    "author : \"gc\"\n",
    "date : \"12/03/23\"\n",
    "categories : [study]\n",
    "---"
   ]
  },
  {
   "cell_type": "markdown",
   "id": "e8a06a77-f302-47d4-ad2c-c96cf7b20ced",
   "metadata": {},
   "source": [
    "# 10828. 스택"
   ]
  },
  {
   "cell_type": "markdown",
   "id": "5e89a517-e1de-4302-88bb-9a2a5acab1bd",
   "metadata": {},
   "source": [
    "정수를 저장하는 스택을 구현한 다음, 입력으로 주어지는 명령을 처리하는 프로그램을 작성하시오.\n",
    "\n",
    "명령은 총 다섯 가지이다.\n",
    "\n",
    "* push X: 정수 X를 스택에 넣는 연산이다.\n",
    "* pop: 스택에서 가장 위에 있는 정수를 빼고, 그 수를 출력한다. 만약 스택에 들어있는 정수가 없는 경우에는 -1을 출력한다.\n",
    "* size: 스택에 들어있는 정수의 개수를 출력한다.\n",
    "* empty: 스택이 비어있으면 1, 아니면 0을 출력한다.\n",
    "* top: 스택의 가장 위에 있는 정수를 출력한다. 만약 스택에 들어있는 정수가 없는 경우에는 -1을 출력한다."
   ]
  },
  {
   "cell_type": "markdown",
   "id": "8e152256-40c4-482f-b558-7e7a92f7a538",
   "metadata": {},
   "source": [
    "`-` 입력"
   ]
  },
  {
   "cell_type": "markdown",
   "id": "ad8b0f94-3e9c-4696-9842-c65f1240c906",
   "metadata": {},
   "source": [
    "첫째 줄에 주어지는 명령의 수 N (1 ≤ N ≤ 10,000)이 주어진다. 둘째 줄부터 N개의 줄에는 명령이 하나씩 주어진다. 주어지는 정수는 1보다 크거나 같고, 100,000보다 작거나 같다. 문제에 나와있지 않은 명령이 주어지는 경우는 없다."
   ]
  },
  {
   "cell_type": "markdown",
   "id": "05e30443-b997-41fc-a761-19fe4282a996",
   "metadata": {},
   "source": [
    "`-` 출력"
   ]
  },
  {
   "cell_type": "markdown",
   "id": "ce29cf16-a7f8-46f3-bae4-95225dd5587b",
   "metadata": {},
   "source": [
    "출력해야하는 명령이 주어질 때마다, 한 줄에 하나씩 출력한다."
   ]
  },
  {
   "cell_type": "markdown",
   "id": "71f89343-5aba-47ab-9d49-817343321991",
   "metadata": {},
   "source": [
    "## sol"
   ]
  },
  {
   "cell_type": "code",
   "execution_count": 2,
   "id": "b04f283c-5624-4b9b-add8-490a230ef4b0",
   "metadata": {
    "tags": []
   },
   "outputs": [
    {
     "name": "stdin",
     "output_type": "stream",
     "text": [
      " 7\n"
     ]
    }
   ],
   "source": [
    "N = int(input())"
   ]
  },
  {
   "cell_type": "markdown",
   "id": "3ef7a290-4230-4911-af44-d7d8adeccb5f",
   "metadata": {},
   "source": [
    "```python\n",
    "import sys\n",
    "n = int(sys.stdin.readline())\n",
    "\n",
    "stack=[]\n",
    "for i in range(n):\n",
    "    command = sys.stdin.readline().split()\n",
    "```"
   ]
  },
  {
   "cell_type": "code",
   "execution_count": 10,
   "id": "e3df9bf0-0666-42c4-9d82-0545772904e9",
   "metadata": {
    "tags": []
   },
   "outputs": [
    {
     "name": "stdin",
     "output_type": "stream",
     "text": [
      " pop\n"
     ]
    },
    {
     "name": "stdout",
     "output_type": "stream",
     "text": [
      "-1\n"
     ]
    },
    {
     "name": "stdin",
     "output_type": "stream",
     "text": [
      " top\n"
     ]
    },
    {
     "name": "stdout",
     "output_type": "stream",
     "text": [
      "-1\n"
     ]
    },
    {
     "name": "stdin",
     "output_type": "stream",
     "text": [
      " push 123\n",
      " top\n"
     ]
    },
    {
     "name": "stdout",
     "output_type": "stream",
     "text": [
      "123\n"
     ]
    },
    {
     "name": "stdin",
     "output_type": "stream",
     "text": [
      " pop\n"
     ]
    },
    {
     "name": "stdout",
     "output_type": "stream",
     "text": [
      "123\n"
     ]
    },
    {
     "name": "stdin",
     "output_type": "stream",
     "text": [
      " top\n"
     ]
    },
    {
     "name": "stdout",
     "output_type": "stream",
     "text": [
      "-1\n"
     ]
    },
    {
     "name": "stdin",
     "output_type": "stream",
     "text": [
      " pop\n"
     ]
    },
    {
     "name": "stdout",
     "output_type": "stream",
     "text": [
      "-1\n"
     ]
    }
   ],
   "source": [
    "stack = []\n",
    "for _ in range(N) :\n",
    "    command = input().split()\n",
    "    \n",
    "    if command[0] == 'push' :\n",
    "        stack.append(command[1])\n",
    "    elif command[0] == \"pop\" :\n",
    "        if len(stack) == 0 :\n",
    "            print(-1)\n",
    "        else :\n",
    "            print(stack.pop())\n",
    "    \n",
    "    elif command[0] == 'size' :\n",
    "        print(len(stack))\n",
    "    \n",
    "    elif command[0] == \"empty\" : \n",
    "        if len(stack) == 0 :\n",
    "            print(1)\n",
    "        else :\n",
    "            print(0)\n",
    "    \n",
    "    elif command[0] == 'top' :\n",
    "        if len(stack) == 0 :\n",
    "            print(-1)\n",
    "        else :\n",
    "            print(stack[-1])"
   ]
  },
  {
   "cell_type": "markdown",
   "id": "9c4b6267-8d91-4485-87ae-fc778ad184ae",
   "metadata": {},
   "source": [
    "***"
   ]
  },
  {
   "cell_type": "markdown",
   "id": "9e522e77-570b-47bd-8b3b-fbfeee682613",
   "metadata": {},
   "source": [
    "# 1068. 트리"
   ]
  },
  {
   "cell_type": "markdown",
   "id": "f0a66bba-b579-4175-b77c-68c28ccc9b3f",
   "metadata": {},
   "source": [
    "트리에서 리프 노드란, 자식의 개수가 0인 노드를 말한다.\n",
    "\n",
    "트리가 주어졌을 때, 노드 하나를 지울 것이다. 그 때, 남은 트리에서 리프 노드의 개수를 구하는 프로그램을 작성하시오. 노드를 지우면 그 노드와 노드의 모든 자손이 트리에서 제거된다.\n",
    "\n",
    "예를 들어, 다음과 같은 트리가 있다고 하자."
   ]
  },
  {
   "cell_type": "markdown",
   "id": "771bb224-20b8-4d67-8c32-a20daac5fe4b",
   "metadata": {},
   "source": [
    "<img alt=\"\" src=\"https://upload.acmicpc.net/560de878-d961-475e-ada4-e1f0774e5a84/-/preview/\" style=\"width: 200px; height: 185px;\">"
   ]
  },
  {
   "cell_type": "markdown",
   "id": "ea1b9187-731e-4260-b98c-d565f31c1e1d",
   "metadata": {},
   "source": [
    "현재 리프 노드의 개수는 3개이다. (초록색 색칠된 노드) 이때, 1번을 지우면, 다음과 같이 변한다. 검정색으로 색칠된 노드가 트리에서 제거된 노드이다.\n",
    "\n"
   ]
  },
  {
   "cell_type": "markdown",
   "id": "00c464c1-fbb8-4d52-a0c2-0c3fdf0146fd",
   "metadata": {},
   "source": [
    "<img alt=\"\" src=\"https://upload.acmicpc.net/d46ddf4e-1b82-44cc-8c90-12f76e5bf88f/-/preview/\" style=\"width: 200px; height: 185px;\">"
   ]
  },
  {
   "cell_type": "markdown",
   "id": "fbbece24-91e5-4257-9448-7bc4af4dbd48",
   "metadata": {},
   "source": [
    "이제 리프 노드의 개수는 1개이다."
   ]
  },
  {
   "cell_type": "markdown",
   "id": "04f5c649-2e1a-48f8-bd11-6929072f8a82",
   "metadata": {},
   "source": [
    "`-` 입력"
   ]
  },
  {
   "cell_type": "markdown",
   "id": "85661cc1-6575-4a81-90c8-8251987ecf43",
   "metadata": {},
   "source": [
    "첫째 줄에 트리의 노드의 개수 N이 주어진다. N은 50보다 작거나 같은 자연수이다. 둘째 줄에는 0번 노드부터 N-1번 노드까지, 각 노드의 부모가 주어진다. 만약 부모가 없다면 (루트) -1이 주어진다. 셋째 줄에는 지울 노드의 번호가 주어진다."
   ]
  },
  {
   "cell_type": "markdown",
   "id": "f5faab8d-7c3e-4b69-aacf-c613a4f11bee",
   "metadata": {},
   "source": [
    "`-` 출력"
   ]
  },
  {
   "cell_type": "markdown",
   "id": "a04bda9c-25a0-4e55-b51d-ee4d5589a45e",
   "metadata": {},
   "source": [
    "첫째 줄에 입력으로 주어진 트리에서 입력으로 주어진 노드를 지웠을 때, 리프 노드의 개수를 출력한다."
   ]
  },
  {
   "cell_type": "markdown",
   "id": "9bb6f122-956a-422b-b35f-71947b72e960",
   "metadata": {},
   "source": [
    "## sol"
   ]
  },
  {
   "cell_type": "code",
   "execution_count": 11,
   "id": "6d0fc551-df75-46d3-90ed-412b4aed797b",
   "metadata": {
    "tags": []
   },
   "outputs": [
    {
     "name": "stdin",
     "output_type": "stream",
     "text": [
      " 5\n"
     ]
    }
   ],
   "source": [
    "N = int(input())"
   ]
  },
  {
   "cell_type": "code",
   "execution_count": 15,
   "id": "62903e8f-6e18-42b2-b226-b2bcc37b5665",
   "metadata": {
    "tags": []
   },
   "outputs": [
    {
     "name": "stdin",
     "output_type": "stream",
     "text": [
      " -1 0 0 1 1\n"
     ]
    }
   ],
   "source": [
    "node = list(map(int, input().split()))"
   ]
  },
  {
   "cell_type": "code",
   "execution_count": 16,
   "id": "b194ac06-2534-4643-bbe8-7317edcf18a8",
   "metadata": {
    "tags": []
   },
   "outputs": [
    {
     "name": "stdin",
     "output_type": "stream",
     "text": [
      " 2\n"
     ]
    }
   ],
   "source": [
    "del_node = int(input())"
   ]
  },
  {
   "cell_type": "code",
   "execution_count": 18,
   "id": "04ae5f89-a585-49c7-a3d6-f566ee439a21",
   "metadata": {
    "tags": []
   },
   "outputs": [],
   "source": [
    "def dfs(del_node, node) :\n",
    "    node[del_node]  = -2\n",
    "    for i in range(len(node)) :\n",
    "        if del_node == node[i] :\n",
    "            dfs(i, node)\n",
    "            \n",
    "dfs(del_node, node)\n",
    "\n",
    "count = 0\n",
    "\n",
    "for i in range(len(node)) :\n",
    "    if node[i] != -2 and i not in node :  ## 삭제할 노드가 아니면서 다른 노드의 부모노드도 아닌 경우\n",
    "        count += 1"
   ]
  },
  {
   "cell_type": "code",
   "execution_count": 20,
   "id": "5a68f3e9-84c0-4fb0-9bdd-644f6d947a45",
   "metadata": {
    "tags": []
   },
   "outputs": [
    {
     "name": "stdout",
     "output_type": "stream",
     "text": [
      "2\n"
     ]
    }
   ],
   "source": [
    "print(count)"
   ]
  },
  {
   "cell_type": "markdown",
   "id": "55979b2b-9301-4cac-8920-ba5f296f69f1",
   "metadata": {},
   "source": [
    "***"
   ]
  },
  {
   "cell_type": "markdown",
   "id": "3ad2b28c-fb58-4787-9a2b-58244448e65a",
   "metadata": {},
   "source": [
    "# 10866. 덱"
   ]
  },
  {
   "cell_type": "markdown",
   "id": "0201ff01-5dbf-43c0-a784-fbe8387f9baf",
   "metadata": {},
   "source": [
    "정수를 저장하는 덱(Deque)를 구현한 다음, 입력으로 주어지는 명령을 처리하는 프로그램을 작성하시오.\n",
    "\n",
    "명령은 총 여덟 가지이다.\n",
    "\n",
    "* push_front X: 정수 X를 덱의 앞에 넣는다.\n",
    "* push_back X: 정수 X를 덱의 뒤에 넣는다.\n",
    "* pop_front: 덱의 가장 앞에 있는 수를 빼고, 그 수를 출력한다. 만약, 덱에 들어있는 정수가 없는 경우에는 -1을 출력한다.\n",
    "* pop_back: 덱의 가장 뒤에 있는 수를 빼고, 그 수를 출력한다. 만약, 덱에 들어있는 정수가 없는 경우에는 -1을 출력한다.\n",
    "* size: 덱에 들어있는 정수의 개수를 출력한다.\n",
    "* empty: 덱이 비어있으면 1을, 아니면 0을 출력한다.\n",
    "* front: 덱의 가장 앞에 있는 정수를 출력한다. 만약 덱에 들어있는 정수가 없는 경우에는 -1을 출력한다.\n",
    "* back: 덱의 가장 뒤에 있는 정수를 출력한다. 만약 덱에 들어있는 정수가 없는 경우에는 -1을 출력한다."
   ]
  },
  {
   "cell_type": "markdown",
   "id": "02ba2c83-aa3d-44b0-982f-7a1b8fb7e368",
   "metadata": {},
   "source": [
    "`-` 입력"
   ]
  },
  {
   "cell_type": "markdown",
   "id": "335d0874-9cca-458b-8039-c0309f465507",
   "metadata": {},
   "source": [
    "첫째 줄에 주어지는 명령의 수 N (1 ≤ N ≤ 10,000)이 주어진다. 둘째 줄부터 N개의 줄에는 명령이 하나씩 주어진다. 주어지는 정수는 1보다 크거나 같고, 100,000보다 작거나 같다. 문제에 나와있지 않은 명령이 주어지는 경우는 없다."
   ]
  },
  {
   "cell_type": "markdown",
   "id": "2d89eeba-7817-4dbb-9d28-80c7529bff7d",
   "metadata": {},
   "source": [
    "`-` 출력"
   ]
  },
  {
   "cell_type": "markdown",
   "id": "60078719-c700-47b2-91c0-e1292add2bff",
   "metadata": {},
   "source": [
    "출력해야하는 명령이 주어질 때마다, 한 줄에 하나씩 출력한다."
   ]
  },
  {
   "cell_type": "markdown",
   "id": "c7d09b14-0f81-44f9-90fe-c21a948ee33f",
   "metadata": {},
   "source": [
    "## sol"
   ]
  },
  {
   "cell_type": "markdown",
   "id": "24897dc8-046d-4fe1-bc5b-161ce0c321ba",
   "metadata": {},
   "source": [
    "```python\n",
    "import sys\n",
    "n = int(sys.stdin.readline())\n",
    "\n",
    "stack=[]\n",
    "for i in range(n):\n",
    "    command = sys.stdin.readline().split()\n",
    "```"
   ]
  },
  {
   "cell_type": "code",
   "execution_count": 25,
   "id": "0c9d1ec3-1fbe-4ce4-8680-2ae5c3fecb90",
   "metadata": {
    "tags": []
   },
   "outputs": [],
   "source": [
    "from collections import deque"
   ]
  },
  {
   "cell_type": "code",
   "execution_count": 22,
   "id": "eedab442-f919-429a-99c0-9f91bb52aec5",
   "metadata": {
    "tags": []
   },
   "outputs": [
    {
     "name": "stdin",
     "output_type": "stream",
     "text": [
      " 15\n"
     ]
    }
   ],
   "source": [
    "N = int(input())"
   ]
  },
  {
   "cell_type": "code",
   "execution_count": 29,
   "id": "6e01208c-ac8d-4175-bdbc-cd709b00c61b",
   "metadata": {
    "tags": []
   },
   "outputs": [
    {
     "name": "stdin",
     "output_type": "stream",
     "text": [
      " push_back 1\n",
      " push_front 2\n",
      " front\n"
     ]
    },
    {
     "name": "stdout",
     "output_type": "stream",
     "text": [
      "2\n"
     ]
    },
    {
     "name": "stdin",
     "output_type": "stream",
     "text": [
      " back\n"
     ]
    },
    {
     "name": "stdout",
     "output_type": "stream",
     "text": [
      "1\n"
     ]
    },
    {
     "name": "stdin",
     "output_type": "stream",
     "text": [
      " size\n"
     ]
    },
    {
     "name": "stdout",
     "output_type": "stream",
     "text": [
      "2\n"
     ]
    },
    {
     "name": "stdin",
     "output_type": "stream",
     "text": [
      " empty\n"
     ]
    },
    {
     "name": "stdout",
     "output_type": "stream",
     "text": [
      "0\n"
     ]
    },
    {
     "name": "stdin",
     "output_type": "stream",
     "text": [
      " pop_front\n"
     ]
    },
    {
     "name": "stdout",
     "output_type": "stream",
     "text": [
      "2\n"
     ]
    },
    {
     "name": "stdin",
     "output_type": "stream",
     "text": [
      " pop_back\n"
     ]
    },
    {
     "name": "stdout",
     "output_type": "stream",
     "text": [
      "-1\n"
     ]
    },
    {
     "ename": "KeyboardInterrupt",
     "evalue": "Interrupted by user",
     "output_type": "error",
     "traceback": [
      "\u001b[1;31m---------------------------------------------------------------------------\u001b[0m",
      "\u001b[1;31mKeyboardInterrupt\u001b[0m                         Traceback (most recent call last)",
      "Cell \u001b[1;32mIn[29], line 4\u001b[0m\n\u001b[0;32m      1\u001b[0m deq \u001b[38;5;241m=\u001b[39m deque()\n\u001b[0;32m      3\u001b[0m \u001b[38;5;28;01mfor\u001b[39;00m _ \u001b[38;5;129;01min\u001b[39;00m \u001b[38;5;28mrange\u001b[39m(N) :\n\u001b[1;32m----> 4\u001b[0m     command \u001b[38;5;241m=\u001b[39m \u001b[38;5;28minput\u001b[39m()\u001b[38;5;241m.\u001b[39msplit()\n\u001b[0;32m      6\u001b[0m     \u001b[38;5;28;01mif\u001b[39;00m command[\u001b[38;5;241m0\u001b[39m] \u001b[38;5;241m==\u001b[39m \u001b[38;5;124m'\u001b[39m\u001b[38;5;124mpush_front\u001b[39m\u001b[38;5;124m'\u001b[39m :\n\u001b[0;32m      7\u001b[0m         deq\u001b[38;5;241m.\u001b[39mappendleft(command[\u001b[38;5;241m1\u001b[39m])\n",
      "File \u001b[1;32m~\\anaconda3\\envs\\dx\\Lib\\site-packages\\ipykernel\\kernelbase.py:1202\u001b[0m, in \u001b[0;36mKernel.raw_input\u001b[1;34m(self, prompt)\u001b[0m\n\u001b[0;32m   1200\u001b[0m     msg \u001b[38;5;241m=\u001b[39m \u001b[38;5;124m\"\u001b[39m\u001b[38;5;124mraw_input was called, but this frontend does not support input requests.\u001b[39m\u001b[38;5;124m\"\u001b[39m\n\u001b[0;32m   1201\u001b[0m     \u001b[38;5;28;01mraise\u001b[39;00m StdinNotImplementedError(msg)\n\u001b[1;32m-> 1202\u001b[0m \u001b[38;5;28;01mreturn\u001b[39;00m \u001b[38;5;28mself\u001b[39m\u001b[38;5;241m.\u001b[39m_input_request(\n\u001b[0;32m   1203\u001b[0m     \u001b[38;5;28mstr\u001b[39m(prompt),\n\u001b[0;32m   1204\u001b[0m     \u001b[38;5;28mself\u001b[39m\u001b[38;5;241m.\u001b[39m_parent_ident[\u001b[38;5;124m\"\u001b[39m\u001b[38;5;124mshell\u001b[39m\u001b[38;5;124m\"\u001b[39m],\n\u001b[0;32m   1205\u001b[0m     \u001b[38;5;28mself\u001b[39m\u001b[38;5;241m.\u001b[39mget_parent(\u001b[38;5;124m\"\u001b[39m\u001b[38;5;124mshell\u001b[39m\u001b[38;5;124m\"\u001b[39m),\n\u001b[0;32m   1206\u001b[0m     password\u001b[38;5;241m=\u001b[39m\u001b[38;5;28;01mFalse\u001b[39;00m,\n\u001b[0;32m   1207\u001b[0m )\n",
      "File \u001b[1;32m~\\anaconda3\\envs\\dx\\Lib\\site-packages\\ipykernel\\kernelbase.py:1245\u001b[0m, in \u001b[0;36mKernel._input_request\u001b[1;34m(self, prompt, ident, parent, password)\u001b[0m\n\u001b[0;32m   1242\u001b[0m \u001b[38;5;28;01mexcept\u001b[39;00m \u001b[38;5;167;01mKeyboardInterrupt\u001b[39;00m:\n\u001b[0;32m   1243\u001b[0m     \u001b[38;5;66;03m# re-raise KeyboardInterrupt, to truncate traceback\u001b[39;00m\n\u001b[0;32m   1244\u001b[0m     msg \u001b[38;5;241m=\u001b[39m \u001b[38;5;124m\"\u001b[39m\u001b[38;5;124mInterrupted by user\u001b[39m\u001b[38;5;124m\"\u001b[39m\n\u001b[1;32m-> 1245\u001b[0m     \u001b[38;5;28;01mraise\u001b[39;00m \u001b[38;5;167;01mKeyboardInterrupt\u001b[39;00m(msg) \u001b[38;5;28;01mfrom\u001b[39;00m \u001b[38;5;28;01mNone\u001b[39;00m\n\u001b[0;32m   1246\u001b[0m \u001b[38;5;28;01mexcept\u001b[39;00m \u001b[38;5;167;01mException\u001b[39;00m:\n\u001b[0;32m   1247\u001b[0m     \u001b[38;5;28mself\u001b[39m\u001b[38;5;241m.\u001b[39mlog\u001b[38;5;241m.\u001b[39mwarning(\u001b[38;5;124m\"\u001b[39m\u001b[38;5;124mInvalid Message:\u001b[39m\u001b[38;5;124m\"\u001b[39m, exc_info\u001b[38;5;241m=\u001b[39m\u001b[38;5;28;01mTrue\u001b[39;00m)\n",
      "\u001b[1;31mKeyboardInterrupt\u001b[0m: Interrupted by user"
     ]
    }
   ],
   "source": [
    "deq = deque()\n",
    "\n",
    "for _ in range(N) :\n",
    "    command = input().split()\n",
    "    \n",
    "    if command[0] == 'push_front' :\n",
    "        deq.appendleft(command[1])\n",
    "    \n",
    "    elif command[0] == 'push_back' :\n",
    "        deq.append(command[1])\n",
    "            \n",
    "    elif command[0] == \"pop_front\" :\n",
    "        if len(deq) == 0 :\n",
    "            print(-1)\n",
    "        else :\n",
    "            print(deq.popleft())\n",
    "    \n",
    "    elif command[0] == \"pop_back\" :\n",
    "        if len(deq) == 0 :\n",
    "            print(-1)\n",
    "        else :\n",
    "            print(deq.pop())\n",
    "    \n",
    "    \n",
    "    elif command[0] == 'size' :\n",
    "        print(len(deq))\n",
    "    \n",
    "    elif command[0] == \"empty\" : \n",
    "        if len(deq) == 0 :\n",
    "            print(1)\n",
    "        else :\n",
    "            print(0)\n",
    "    \n",
    "    elif command[0] == 'front' :\n",
    "        if len(deq) == 0 :\n",
    "            print(-1)\n",
    "        else :\n",
    "            print(deq[0])\n",
    "            \n",
    "    else :\n",
    "        if len(deq) == 0 :\n",
    "            print(-1)\n",
    "        else :\n",
    "            print(deq[-1])"
   ]
  }
 ],
 "metadata": {
  "kernelspec": {
   "display_name": "Python 3 (ipykernel)",
   "language": "python",
   "name": "python3"
  },
  "language_info": {
   "codemirror_mode": {
    "name": "ipython",
    "version": 3
   },
   "file_extension": ".py",
   "mimetype": "text/x-python",
   "name": "python",
   "nbconvert_exporter": "python",
   "pygments_lexer": "ipython3",
   "version": "3.11.4"
  }
 },
 "nbformat": 4,
 "nbformat_minor": 5
}
